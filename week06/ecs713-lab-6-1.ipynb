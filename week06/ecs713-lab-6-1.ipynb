{
 "cells": [
  {
   "cell_type": "markdown",
   "metadata": {},
   "source": [
    "# ECS713: week 6 Lab Sheet"
   ]
  },
  {
   "cell_type": "markdown",
   "metadata": {},
   "source": [
    "This lab sheet covers \n",
    "- IO"
   ]
  },
  {
   "cell_type": "markdown",
   "metadata": {},
   "source": [
    "## Learning Objectives"
   ]
  },
  {
   "cell_type": "markdown",
   "metadata": {},
   "source": [
    "By the time you complete this sheet you should be able to\n",
    "- understand how to declare a new typeclass\n",
    "- how to make a type an instance of a typeclass\n",
    "- recognise some common typeclasses and the functions they provide\n",
    "- understand the use of the deriving connective"
   ]
  },
  {
   "cell_type": "markdown",
   "metadata": {},
   "source": [
    "## Turn off the annoying linter"
   ]
  },
  {
   "cell_type": "markdown",
   "metadata": {},
   "source": [
    "Run the cell below to turn off the annoying linter, which suggests improvements to your code that aren't appropriate for these exercises. "
   ]
  },
  {
   "cell_type": "code",
   "execution_count": null,
   "metadata": {},
   "outputs": [],
   "source": [
    ":opt no-lint"
   ]
  },
  {
   "cell_type": "markdown",
   "metadata": {},
   "source": [
    "## Task 1. Basic IO"
   ]
  },
  {
   "cell_type": "markdown",
   "metadata": {},
   "source": [
    "**Problems with Jupyter** There are problems with using Jupyter notebooks in connection with IO. The basic issue is that standard Haskell IO functions are fairly simple-minded, and the framework you are likely to be using to run the notebooks is not. If you are doing what I am, then you are running the server on a Docker container. This means in particular that it has an encapsulated filesystem. So the starting point is that Haskell expects interactions to be taking place in the container. This is a particular issue for inputs. The notebook will look for files in the container's filesystem, not the one on your computer. This is not so bad, you can always upload things. But it is a real issue for keyboard input. It will try to take input from a handle called \"stdin\". This is not connected to your keyboard, so it will appear empty. Here is a simple experiment, run the cell below: "
   ]
  },
  {
   "cell_type": "code",
   "execution_count": 14,
   "metadata": {},
   "outputs": [
    {
     "ename": "",
     "evalue": "",
     "output_type": "error",
     "traceback": [
      "<stdin>: hGetLine: end of file"
     ]
    }
   ],
   "source": [
    "getLine"
   ]
  },
  {
   "cell_type": "markdown",
   "metadata": {},
   "source": [
    "You should get something like: \n",
    "\n",
    "```<stdin>: hGetLine: end of file```\n",
    "\n",
    "This basically says that the notebook is not capable of getting input in this form. The best way to get round that is to install Haskell (better install stack which we will be using later), and then use the interpreter: ghci. We are shortly going to move off Jupyter notebooks because we want to be able to access non-Haskell systems such as databases. \n",
    "\n",
    "However, output is OK. Haskell sends its results on \"stdout\", so this is connected up appropriately, and you may not even be able to see the critical difference between the notebook printing out the result of a calculation, and something being printed as a side effect during a calculation. "
   ]
  },
  {
   "cell_type": "code",
   "execution_count": 1,
   "metadata": {},
   "outputs": [
    {
     "data": {
      "text/plain": [
       "\"Hi there!\""
      ]
     },
     "metadata": {},
     "output_type": "display_data"
    }
   ],
   "source": [
    "-- String printed out as result\n",
    "\"Hi there!\""
   ]
  },
  {
   "cell_type": "code",
   "execution_count": 2,
   "metadata": {},
   "outputs": [
    {
     "data": {
      "text/plain": [
       "Hi there!"
      ]
     },
     "metadata": {},
     "output_type": "display_data"
    }
   ],
   "source": [
    "-- String printed out during IO operation. \n",
    "putStrLn \"Hi there!\""
   ]
  },
  {
   "cell_type": "markdown",
   "metadata": {},
   "source": [
    "Basic IO is documented at: https://hackage.haskell.org/package/base-4.14.0.0/docs/Prelude.html#g:25\n",
    "\n",
    "The simple functions can be found at: https://hackage.haskell.org/package/base-4.14.0.0/docs/Prelude.html#g:26\n",
    "\n",
    "For the purpose of these exercises we will mainly be using file-based IO: https://hackage.haskell.org/package/base-4.14.0.0/docs/Prelude.html#g:29\n",
    "\n",
    "In particular we will want: \n",
    "\n",
    "```type FilePath = String\n",
    "readFile :: FilePath -> IO String\n",
    "writeFile :: FilePath -> String -> IO ()```\n"
   ]
  },
  {
   "cell_type": "markdown",
   "metadata": {},
   "source": [
    "We have a file \"poem.txt\", to access it: "
   ]
  },
  {
   "cell_type": "code",
   "execution_count": 3,
   "metadata": {},
   "outputs": [
    {
     "data": {
      "text/plain": [
       "\"Twas brillig, and the slithy toves\\nDid gyre and gimble in the wabe:\\nAll mimsy were the borogoves,\\nAnd the mome raths outgrabe.\\n\\n\\\"Beware the Jabberwock, my son!\\nThe jaws that bite, the claws that catch!\\nBeware the Jubjub bird, and shun\\nThe frumious Bandersnatch!\\\"\\n\\nHe took his vorpal sword in hand;\\nLong time the manxome foe he sought-\\nSo rested he by the Tumtum tree\\nAnd stood awhile in thought.\\n\\nAnd, as in uffish thought he stood,\\nThe Jabberwock, with eyes of flame,\\nCame whiffling through the tulgey wood,\\nAnd burbled as it came!\\n\\nOne, two! One, two! And through and through\\nThe vorpal blade went snicker-snack!\\nHe left it dead, and with its head\\nHe went galumphing back.\\n\\n\\\"And hast thou slain the Jabberwock?\\nCome to my arms, my beamish boy!\\nO frabjous day! Callooh! Callay!\\\"\\nHe chortled in his joy.\\n\\n'Twas brillig, and the slithy toves\\nDid gyre and gimble in the wabe:\\nAll mimsy were the borogoves,\\nAnd the mome raths outgrabe.\\n      \""
      ]
     },
     "metadata": {},
     "output_type": "display_data"
    }
   ],
   "source": [
    "readFile \"poem.txt\""
   ]
  },
  {
   "cell_type": "markdown",
   "metadata": {},
   "source": [
    "We can write definitions: "
   ]
  },
  {
   "cell_type": "code",
   "execution_count": 4,
   "metadata": {},
   "outputs": [
    {
     "data": {
      "text/html": [
       "<style>/* Styles used for the Hoogle display in the pager */\n",
       ".hoogle-doc {\n",
       "display: block;\n",
       "padding-bottom: 1.3em;\n",
       "padding-left: 0.4em;\n",
       "}\n",
       ".hoogle-code {\n",
       "display: block;\n",
       "font-family: monospace;\n",
       "white-space: pre;\n",
       "}\n",
       ".hoogle-text {\n",
       "display: block;\n",
       "}\n",
       ".hoogle-name {\n",
       "color: green;\n",
       "font-weight: bold;\n",
       "}\n",
       ".hoogle-head {\n",
       "font-weight: bold;\n",
       "}\n",
       ".hoogle-sub {\n",
       "display: block;\n",
       "margin-left: 0.4em;\n",
       "}\n",
       ".hoogle-package {\n",
       "font-weight: bold;\n",
       "font-style: italic;\n",
       "}\n",
       ".hoogle-module {\n",
       "font-weight: bold;\n",
       "}\n",
       ".hoogle-class {\n",
       "font-weight: bold;\n",
       "}\n",
       ".get-type {\n",
       "color: green;\n",
       "font-weight: bold;\n",
       "font-family: monospace;\n",
       "display: block;\n",
       "white-space: pre-wrap;\n",
       "}\n",
       ".show-type {\n",
       "color: green;\n",
       "font-weight: bold;\n",
       "font-family: monospace;\n",
       "margin-left: 1em;\n",
       "}\n",
       ".mono {\n",
       "font-family: monospace;\n",
       "display: block;\n",
       "}\n",
       ".err-msg {\n",
       "color: red;\n",
       "font-style: italic;\n",
       "font-family: monospace;\n",
       "white-space: pre;\n",
       "display: block;\n",
       "}\n",
       "#unshowable {\n",
       "color: red;\n",
       "font-weight: bold;\n",
       "}\n",
       ".err-msg.in.collapse {\n",
       "padding-top: 0.7em;\n",
       "}\n",
       ".highlight-code {\n",
       "white-space: pre;\n",
       "font-family: monospace;\n",
       "}\n",
       ".suggestion-warning { \n",
       "font-weight: bold;\n",
       "color: rgb(200, 130, 0);\n",
       "}\n",
       ".suggestion-error { \n",
       "font-weight: bold;\n",
       "color: red;\n",
       "}\n",
       ".suggestion-name {\n",
       "font-weight: bold;\n",
       "}\n",
       "</style><span class='get-type'>ioPoem :: IO String</span>"
      ],
      "text/plain": [
       "ioPoem :: IO String"
      ]
     },
     "metadata": {},
     "output_type": "display_data"
    },
    {
     "data": {
      "text/html": [
       "<style>/* Styles used for the Hoogle display in the pager */\n",
       ".hoogle-doc {\n",
       "display: block;\n",
       "padding-bottom: 1.3em;\n",
       "padding-left: 0.4em;\n",
       "}\n",
       ".hoogle-code {\n",
       "display: block;\n",
       "font-family: monospace;\n",
       "white-space: pre;\n",
       "}\n",
       ".hoogle-text {\n",
       "display: block;\n",
       "}\n",
       ".hoogle-name {\n",
       "color: green;\n",
       "font-weight: bold;\n",
       "}\n",
       ".hoogle-head {\n",
       "font-weight: bold;\n",
       "}\n",
       ".hoogle-sub {\n",
       "display: block;\n",
       "margin-left: 0.4em;\n",
       "}\n",
       ".hoogle-package {\n",
       "font-weight: bold;\n",
       "font-style: italic;\n",
       "}\n",
       ".hoogle-module {\n",
       "font-weight: bold;\n",
       "}\n",
       ".hoogle-class {\n",
       "font-weight: bold;\n",
       "}\n",
       ".get-type {\n",
       "color: green;\n",
       "font-weight: bold;\n",
       "font-family: monospace;\n",
       "display: block;\n",
       "white-space: pre-wrap;\n",
       "}\n",
       ".show-type {\n",
       "color: green;\n",
       "font-weight: bold;\n",
       "font-family: monospace;\n",
       "margin-left: 1em;\n",
       "}\n",
       ".mono {\n",
       "font-family: monospace;\n",
       "display: block;\n",
       "}\n",
       ".err-msg {\n",
       "color: red;\n",
       "font-style: italic;\n",
       "font-family: monospace;\n",
       "white-space: pre;\n",
       "display: block;\n",
       "}\n",
       "#unshowable {\n",
       "color: red;\n",
       "font-weight: bold;\n",
       "}\n",
       ".err-msg.in.collapse {\n",
       "padding-top: 0.7em;\n",
       "}\n",
       ".highlight-code {\n",
       "white-space: pre;\n",
       "font-family: monospace;\n",
       "}\n",
       ".suggestion-warning { \n",
       "font-weight: bold;\n",
       "color: rgb(200, 130, 0);\n",
       "}\n",
       ".suggestion-error { \n",
       "font-weight: bold;\n",
       "color: red;\n",
       "}\n",
       ".suggestion-name {\n",
       "font-weight: bold;\n",
       "}\n",
       "</style><span class='get-type'>poem :: String</span>"
      ],
      "text/plain": [
       "poem :: String"
      ]
     },
     "metadata": {},
     "output_type": "display_data"
    }
   ],
   "source": [
    "ioPoem = readFile \"poem.txt\"\n",
    "poem <- readFile \"poem.txt\"\n",
    ":t ioPoem\n",
    ":t poem"
   ]
  },
  {
   "cell_type": "markdown",
   "metadata": {},
   "source": [
    "The `<-` form only works in the context of a `do` block, which the Jupyter cells implicitly are. "
   ]
  },
  {
   "cell_type": "markdown",
   "metadata": {},
   "source": [
    "`ioPoem` is an `IO String`, not a `String`:"
   ]
  },
  {
   "cell_type": "code",
   "execution_count": 5,
   "metadata": {},
   "outputs": [
    {
     "ename": "",
     "evalue": "",
     "output_type": "error",
     "traceback": [
      "<interactive>:1:1: error:\n    • No instance for (Foldable IO) arising from a use of ‘length’\n    • In the expression: length ioPoem\n      In an equation for ‘it’: it = length ioPoem"
     ]
    }
   ],
   "source": [
    "length ioPoem"
   ]
  },
  {
   "cell_type": "markdown",
   "metadata": {},
   "source": [
    "But `poem` is a `String`."
   ]
  },
  {
   "cell_type": "code",
   "execution_count": 6,
   "metadata": {},
   "outputs": [
    {
     "data": {
      "text/plain": [
       "939"
      ]
     },
     "metadata": {},
     "output_type": "display_data"
    }
   ],
   "source": [
    "length poem"
   ]
  },
  {
   "cell_type": "markdown",
   "metadata": {},
   "source": [
    "You can do local declarations with IO, but you can't use the `<-` form: "
   ]
  },
  {
   "cell_type": "code",
   "execution_count": 17,
   "metadata": {},
   "outputs": [
    {
     "ename": "",
     "evalue": "",
     "output_type": "error",
     "traceback": [
      "Parse error (line 1, column 10): parse error on input ‘<-’\nPerhaps this statement should be within a 'do' block?"
     ]
    }
   ],
   "source": [
    "let poem <- readFile \"poem.txt\" in length poem"
   ]
  },
  {
   "cell_type": "markdown",
   "metadata": {},
   "source": [
    "Let's import the `Data.Char` module so we have a function to map characters to upper case: "
   ]
  },
  {
   "cell_type": "code",
   "execution_count": 19,
   "metadata": {},
   "outputs": [],
   "source": [
    "import Data.Char"
   ]
  },
  {
   "cell_type": "markdown",
   "metadata": {},
   "source": [
    "And use it as in lectures to map everything to upper case: "
   ]
  },
  {
   "cell_type": "code",
   "execution_count": 20,
   "metadata": {},
   "outputs": [
    {
     "data": {
      "text/plain": [
       "TWAS BRILLIG, AND THE SLITHY TOVES\n",
       "DID GYRE AND GIMBLE IN THE WABE:\n",
       "ALL MIMSY WERE THE BOROGOVES,\n",
       "AND THE MOME RATHS OUTGRABE.\n",
       "\n",
       "\"BEWARE THE JABBERWOCK, MY SON!\n",
       "THE JAWS THAT BITE, THE CLAWS THAT CATCH!\n",
       "BEWARE THE JUBJUB BIRD, AND SHUN\n",
       "THE FRUMIOUS BANDERSNATCH!\"\n",
       "\n",
       "HE TOOK HIS VORPAL SWORD IN HAND;\n",
       "LONG TIME THE MANXOME FOE HE SOUGHT-\n",
       "SO RESTED HE BY THE TUMTUM TREE\n",
       "AND STOOD AWHILE IN THOUGHT.\n",
       "\n",
       "AND, AS IN UFFISH THOUGHT HE STOOD,\n",
       "THE JABBERWOCK, WITH EYES OF FLAME,\n",
       "CAME WHIFFLING THROUGH THE TULGEY WOOD,\n",
       "AND BURBLED AS IT CAME!\n",
       "\n",
       "ONE, TWO! ONE, TWO! AND THROUGH AND THROUGH\n",
       "THE VORPAL BLADE WENT SNICKER-SNACK!\n",
       "HE LEFT IT DEAD, AND WITH ITS HEAD\n",
       "HE WENT GALUMPHING BACK.\n",
       "\n",
       "\"AND HAST THOU SLAIN THE JABBERWOCK?\n",
       "COME TO MY ARMS, MY BEAMISH BOY!\n",
       "O FRABJOUS DAY! CALLOOH! CALLAY!\"\n",
       "HE CHORTLED IN HIS JOY.\n",
       "\n",
       "'TWAS BRILLIG, AND THE SLITHY TOVES\n",
       "DID GYRE AND GIMBLE IN THE WABE:\n",
       "ALL MIMSY WERE THE BOROGOVES,\n",
       "AND THE MOME RATHS OUTGRABE."
      ]
     },
     "metadata": {},
     "output_type": "display_data"
    }
   ],
   "source": [
    "do \n",
    "  -- IO read stuff here\n",
    "  poem <- readFile \"poem.txt\"\n",
    "  -- Pure (non-IO) calculations here\n",
    "  let upperPoem = map toUpper poem\n",
    "  -- IO write (output) stuff here\n",
    "  putStr upperPoem"
   ]
  },
  {
   "cell_type": "markdown",
   "metadata": {},
   "source": [
    "Haskell is very uniform. We can assign this `do` block a name: "
   ]
  },
  {
   "cell_type": "code",
   "execution_count": 21,
   "metadata": {},
   "outputs": [],
   "source": [
    "printUpperPoem = \n",
    "  do \n",
    "    -- IO read stuff here\n",
    "    poem <- readFile \"poem.txt\"\n",
    "    -- Pure (non-IO) calculations here\n",
    "    let upperPoem = map toUpper poem\n",
    "    -- IO write (output) stuff here\n",
    "    putStr upperPoem"
   ]
  },
  {
   "cell_type": "markdown",
   "metadata": {},
   "source": [
    "And then we can run it: "
   ]
  },
  {
   "cell_type": "code",
   "execution_count": null,
   "metadata": {},
   "outputs": [],
   "source": [
    "printUpperPoem"
   ]
  },
  {
   "cell_type": "markdown",
   "metadata": {},
   "source": [
    "We can extract the filename \"poem.txt\" and make a function that will convert any file to upper case: "
   ]
  },
  {
   "cell_type": "code",
   "execution_count": 24,
   "metadata": {},
   "outputs": [],
   "source": [
    "printUpper filename = \n",
    "  do \n",
    "    -- IO read stuff here\n",
    "    poem <- readFile filename\n",
    "    -- Pure (non-IO) calculations here\n",
    "    let upperPoem = map toUpper poem\n",
    "    -- IO write (output) stuff here\n",
    "    putStr upperPoem"
   ]
  },
  {
   "cell_type": "code",
   "execution_count": 25,
   "metadata": {},
   "outputs": [
    {
     "data": {
      "text/html": [
       "<style>/* Styles used for the Hoogle display in the pager */\n",
       ".hoogle-doc {\n",
       "display: block;\n",
       "padding-bottom: 1.3em;\n",
       "padding-left: 0.4em;\n",
       "}\n",
       ".hoogle-code {\n",
       "display: block;\n",
       "font-family: monospace;\n",
       "white-space: pre;\n",
       "}\n",
       ".hoogle-text {\n",
       "display: block;\n",
       "}\n",
       ".hoogle-name {\n",
       "color: green;\n",
       "font-weight: bold;\n",
       "}\n",
       ".hoogle-head {\n",
       "font-weight: bold;\n",
       "}\n",
       ".hoogle-sub {\n",
       "display: block;\n",
       "margin-left: 0.4em;\n",
       "}\n",
       ".hoogle-package {\n",
       "font-weight: bold;\n",
       "font-style: italic;\n",
       "}\n",
       ".hoogle-module {\n",
       "font-weight: bold;\n",
       "}\n",
       ".hoogle-class {\n",
       "font-weight: bold;\n",
       "}\n",
       ".get-type {\n",
       "color: green;\n",
       "font-weight: bold;\n",
       "font-family: monospace;\n",
       "display: block;\n",
       "white-space: pre-wrap;\n",
       "}\n",
       ".show-type {\n",
       "color: green;\n",
       "font-weight: bold;\n",
       "font-family: monospace;\n",
       "margin-left: 1em;\n",
       "}\n",
       ".mono {\n",
       "font-family: monospace;\n",
       "display: block;\n",
       "}\n",
       ".err-msg {\n",
       "color: red;\n",
       "font-style: italic;\n",
       "font-family: monospace;\n",
       "white-space: pre;\n",
       "display: block;\n",
       "}\n",
       "#unshowable {\n",
       "color: red;\n",
       "font-weight: bold;\n",
       "}\n",
       ".err-msg.in.collapse {\n",
       "padding-top: 0.7em;\n",
       "}\n",
       ".highlight-code {\n",
       "white-space: pre;\n",
       "font-family: monospace;\n",
       "}\n",
       ".suggestion-warning { \n",
       "font-weight: bold;\n",
       "color: rgb(200, 130, 0);\n",
       "}\n",
       ".suggestion-error { \n",
       "font-weight: bold;\n",
       "color: red;\n",
       "}\n",
       ".suggestion-name {\n",
       "font-weight: bold;\n",
       "}\n",
       "</style><span class='get-type'>printUpper :: FilePath -> IO ()</span>"
      ],
      "text/plain": [
       "printUpper :: FilePath -> IO ()"
      ]
     },
     "metadata": {},
     "output_type": "display_data"
    }
   ],
   "source": [
    ":type printUpper"
   ]
  },
  {
   "cell_type": "code",
   "execution_count": 27,
   "metadata": {},
   "outputs": [
    {
     "data": {
      "text/plain": [
       "BEGIN:VCARD\n",
       "VERSION:3.0\n",
       "PRODID:-//APPLE INC.//ADDRESS BOOK 6.1.2//EN\n",
       "N:DOE;JOHN;;;\n",
       "FN:DOE JOHN\n",
       "ORG:QUEEN MARY;\n",
       "EMAIL;TYPE=INTERNET;TYPE=HOME;TYPE=PREF:JOHNDOE@NOGMAIL.COM\n",
       "TEL;TYPE=CELL;TYPE=VOICE;TYPE=PREF:0751 234567\n",
       "TEL;TYPE=HOME;TYPE=VOICE:020 7123 4567\n",
       "ITEM1.ADR;TYPE=HOME;TYPE=PREF:;;42 NOWHERE ST;LONDON;;E1 0XX;\n",
       "ITEM1.X-ABADR:GB\n",
       "X-ABUID:85152BB5-BFB5-45DA-853A-BA021C7A0FC8:ABPERSON\n",
       "END:VCARD"
      ]
     },
     "metadata": {},
     "output_type": "display_data"
    }
   ],
   "source": [
    "printUpper \"john.vcard\""
   ]
  },
  {
   "cell_type": "markdown",
   "metadata": {},
   "source": [
    "## Task 2. Do block structure"
   ]
  },
  {
   "cell_type": "markdown",
   "metadata": {},
   "source": [
    "Do blocks contain a sequence of declarations: \n",
    "- IO binders: ``<name> <- <io_expression>``\n",
    "- ordinary declarations ``let <name> = <expression>`` (note the `let`)\n",
    "- expressions\n",
    "\n",
    "They must end with an expression of IO type. If necessary use the return keyword to achieve this. "
   ]
  },
  {
   "cell_type": "markdown",
   "metadata": {},
   "source": [
    "Try this with and without the `return`:"
   ]
  },
  {
   "cell_type": "code",
   "execution_count": 29,
   "metadata": {},
   "outputs": [
    {
     "data": {
      "text/plain": [
       "\"Twas\""
      ]
     },
     "metadata": {},
     "output_type": "display_data"
    }
   ],
   "source": [
    "do \n",
    "  poem <- readFile \"poem.txt\"\n",
    "  let first_word = head $ words poem\n",
    "  return first_word"
   ]
  },
  {
   "cell_type": "markdown",
   "metadata": {},
   "source": [
    "Only the last `return` counts: "
   ]
  },
  {
   "cell_type": "code",
   "execution_count": 31,
   "metadata": {},
   "outputs": [
    {
     "data": {
      "text/html": [
       "<style>/* Styles used for the Hoogle display in the pager */\n",
       ".hoogle-doc {\n",
       "display: block;\n",
       "padding-bottom: 1.3em;\n",
       "padding-left: 0.4em;\n",
       "}\n",
       ".hoogle-code {\n",
       "display: block;\n",
       "font-family: monospace;\n",
       "white-space: pre;\n",
       "}\n",
       ".hoogle-text {\n",
       "display: block;\n",
       "}\n",
       ".hoogle-name {\n",
       "color: green;\n",
       "font-weight: bold;\n",
       "}\n",
       ".hoogle-head {\n",
       "font-weight: bold;\n",
       "}\n",
       ".hoogle-sub {\n",
       "display: block;\n",
       "margin-left: 0.4em;\n",
       "}\n",
       ".hoogle-package {\n",
       "font-weight: bold;\n",
       "font-style: italic;\n",
       "}\n",
       ".hoogle-module {\n",
       "font-weight: bold;\n",
       "}\n",
       ".hoogle-class {\n",
       "font-weight: bold;\n",
       "}\n",
       ".get-type {\n",
       "color: green;\n",
       "font-weight: bold;\n",
       "font-family: monospace;\n",
       "display: block;\n",
       "white-space: pre-wrap;\n",
       "}\n",
       ".show-type {\n",
       "color: green;\n",
       "font-weight: bold;\n",
       "font-family: monospace;\n",
       "margin-left: 1em;\n",
       "}\n",
       ".mono {\n",
       "font-family: monospace;\n",
       "display: block;\n",
       "}\n",
       ".err-msg {\n",
       "color: red;\n",
       "font-style: italic;\n",
       "font-family: monospace;\n",
       "white-space: pre;\n",
       "display: block;\n",
       "}\n",
       "#unshowable {\n",
       "color: red;\n",
       "font-weight: bold;\n",
       "}\n",
       ".err-msg.in.collapse {\n",
       "padding-top: 0.7em;\n",
       "}\n",
       ".highlight-code {\n",
       "white-space: pre;\n",
       "font-family: monospace;\n",
       "}\n",
       ".suggestion-warning { \n",
       "font-weight: bold;\n",
       "color: rgb(200, 130, 0);\n",
       "}\n",
       ".suggestion-error { \n",
       "font-weight: bold;\n",
       "color: red;\n",
       "}\n",
       ".suggestion-name {\n",
       "font-weight: bold;\n",
       "}\n",
       "</style><div class=\"suggestion-name\" style=\"clear:both;\">Redundant return</div><div class=\"suggestion-row\" style=\"float: left;\"><div class=\"suggestion-warning\">Found:</div><div class=\"highlight-code\" id=\"haskell\">do poem <- readFile \"poem.txt\"\n",
       "   let first_word = head \\$ words poem\n",
       "   return first_word\n",
       "   let second_word = head \\$ tail \\$ words poem\n",
       "   return second_word</div></div><div class=\"suggestion-row\" style=\"float: left;\"><div class=\"suggestion-warning\">Why Not:</div><div class=\"highlight-code\" id=\"haskell\">do poem <- readFile \"poem.txt\"\n",
       "   let first_word = head \\$ words poem\n",
       "   let second_word = head \\$ tail \\$ words poem\n",
       "   return second_word</div></div>"
      ],
      "text/plain": [
       "Line 1: Redundant return\n",
       "Found:\n",
       "do poem <- readFile \"poem.txt\"\n",
       "   let first_word = head $ words poem\n",
       "   return first_word\n",
       "   let second_word = head $ tail $ words poem\n",
       "   return second_word\n",
       "Why not:\n",
       "do poem <- readFile \"poem.txt\"\n",
       "   let first_word = head $ words poem\n",
       "   let second_word = head $ tail $ words poem\n",
       "   return second_word"
      ]
     },
     "metadata": {},
     "output_type": "display_data"
    },
    {
     "data": {
      "text/plain": [
       "\"brillig,\""
      ]
     },
     "metadata": {},
     "output_type": "display_data"
    }
   ],
   "source": [
    "do \n",
    "  poem <- readFile \"poem.txt\"\n",
    "  let first_word = head $ words poem\n",
    "  return first_word\n",
    "  let second_word = head $ tail $ words poem\n",
    "  return second_word"
   ]
  },
  {
   "cell_type": "markdown",
   "metadata": {},
   "source": [
    "There is a subtle point here. The do block above returns an `IO String` which is being executed and printed (we're returning a `String`). This on the other hand returns an `IO ()`, and just does the printing: "
   ]
  },
  {
   "cell_type": "code",
   "execution_count": 32,
   "metadata": {},
   "outputs": [
    {
     "data": {
      "text/plain": [
       "Twas\n",
       "brillig,"
      ]
     },
     "metadata": {},
     "output_type": "display_data"
    }
   ],
   "source": [
    "do \n",
    "  poem <- readFile \"poem.txt\"\n",
    "  let first_word = head $ words poem\n",
    "  putStrLn first_word\n",
    "  let second_word = head $ tail $ words poem\n",
    "  putStrLn second_word"
   ]
  },
  {
   "cell_type": "markdown",
   "metadata": {},
   "source": [
    "**Exercise:** Write a simple word count program in the form of a function: \n",
    "\n",
    "```wc :: FilePath -> IO ()```\n",
    "\n",
    "This should count the lines, words and characters of the relevant file, and print them with the name of the file. So \n",
    "\n",
    "``wc \"poem.txt\"`` \n",
    "\n",
    "should print: \n",
    "\n",
    "``poem.txt\n",
    "lines: 35\n",
    "words: 166\n",
    "chars: 939``"
   ]
  },
  {
   "cell_type": "markdown",
   "metadata": {},
   "source": [
    "Note: you may find the functions, `lines`, `words` and `length` helpful, as well as the function `show` which \n",
    "converts an element of a printable type into a String, so that you can print it out.  "
   ]
  },
  {
   "cell_type": "code",
   "execution_count": 40,
   "metadata": {},
   "outputs": [
    {
     "data": {
      "text/html": [
       "<style>/* Styles used for the Hoogle display in the pager */\n",
       ".hoogle-doc {\n",
       "display: block;\n",
       "padding-bottom: 1.3em;\n",
       "padding-left: 0.4em;\n",
       "}\n",
       ".hoogle-code {\n",
       "display: block;\n",
       "font-family: monospace;\n",
       "white-space: pre;\n",
       "}\n",
       ".hoogle-text {\n",
       "display: block;\n",
       "}\n",
       ".hoogle-name {\n",
       "color: green;\n",
       "font-weight: bold;\n",
       "}\n",
       ".hoogle-head {\n",
       "font-weight: bold;\n",
       "}\n",
       ".hoogle-sub {\n",
       "display: block;\n",
       "margin-left: 0.4em;\n",
       "}\n",
       ".hoogle-package {\n",
       "font-weight: bold;\n",
       "font-style: italic;\n",
       "}\n",
       ".hoogle-module {\n",
       "font-weight: bold;\n",
       "}\n",
       ".hoogle-class {\n",
       "font-weight: bold;\n",
       "}\n",
       ".get-type {\n",
       "color: green;\n",
       "font-weight: bold;\n",
       "font-family: monospace;\n",
       "display: block;\n",
       "white-space: pre-wrap;\n",
       "}\n",
       ".show-type {\n",
       "color: green;\n",
       "font-weight: bold;\n",
       "font-family: monospace;\n",
       "margin-left: 1em;\n",
       "}\n",
       ".mono {\n",
       "font-family: monospace;\n",
       "display: block;\n",
       "}\n",
       ".err-msg {\n",
       "color: red;\n",
       "font-style: italic;\n",
       "font-family: monospace;\n",
       "white-space: pre;\n",
       "display: block;\n",
       "}\n",
       "#unshowable {\n",
       "color: red;\n",
       "font-weight: bold;\n",
       "}\n",
       ".err-msg.in.collapse {\n",
       "padding-top: 0.7em;\n",
       "}\n",
       ".highlight-code {\n",
       "white-space: pre;\n",
       "font-family: monospace;\n",
       "}\n",
       ".suggestion-warning { \n",
       "font-weight: bold;\n",
       "color: rgb(200, 130, 0);\n",
       "}\n",
       ".suggestion-error { \n",
       "font-weight: bold;\n",
       "color: red;\n",
       "}\n",
       ".suggestion-name {\n",
       "font-weight: bold;\n",
       "}\n",
       "</style><div class=\"suggestion-name\" style=\"clear:both;\">Redundant $</div><div class=\"suggestion-row\" style=\"float: left;\"><div class=\"suggestion-warning\">Found:</div><div class=\"highlight-code\" id=\"haskell\">length \\$ text</div></div><div class=\"suggestion-row\" style=\"float: left;\"><div class=\"suggestion-warning\">Why Not:</div><div class=\"highlight-code\" id=\"haskell\">length text</div></div><div class=\"suggestion-name\" style=\"clear:both;\">Redundant bracket</div><div class=\"suggestion-row\" style=\"float: left;\"><div class=\"suggestion-warning\">Found:</div><div class=\"highlight-code\" id=\"haskell\">\"lines: \" ++ (show numLines)</div></div><div class=\"suggestion-row\" style=\"float: left;\"><div class=\"suggestion-warning\">Why Not:</div><div class=\"highlight-code\" id=\"haskell\">\"lines: \" ++ show numLines</div></div><div class=\"suggestion-name\" style=\"clear:both;\">Redundant bracket</div><div class=\"suggestion-row\" style=\"float: left;\"><div class=\"suggestion-warning\">Found:</div><div class=\"highlight-code\" id=\"haskell\">\"words: \" ++ (show numWords)</div></div><div class=\"suggestion-row\" style=\"float: left;\"><div class=\"suggestion-warning\">Why Not:</div><div class=\"highlight-code\" id=\"haskell\">\"words: \" ++ show numWords</div></div><div class=\"suggestion-name\" style=\"clear:both;\">Redundant bracket</div><div class=\"suggestion-row\" style=\"float: left;\"><div class=\"suggestion-warning\">Found:</div><div class=\"highlight-code\" id=\"haskell\">\"chars: \" ++ (show numChars)</div></div><div class=\"suggestion-row\" style=\"float: left;\"><div class=\"suggestion-warning\">Why Not:</div><div class=\"highlight-code\" id=\"haskell\">\"chars: \" ++ show numChars</div></div>"
      ],
      "text/plain": [
       "Line 6: Redundant $\n",
       "Found:\n",
       "length $ text\n",
       "Why not:\n",
       "length textLine 8: Redundant bracket\n",
       "Found:\n",
       "\"lines: \" ++ (show numLines)\n",
       "Why not:\n",
       "\"lines: \" ++ show numLinesLine 9: Redundant bracket\n",
       "Found:\n",
       "\"words: \" ++ (show numWords)\n",
       "Why not:\n",
       "\"words: \" ++ show numWordsLine 10: Redundant bracket\n",
       "Found:\n",
       "\"chars: \" ++ (show numChars)\n",
       "Why not:\n",
       "\"chars: \" ++ show numChars"
      ]
     },
     "metadata": {},
     "output_type": "display_data"
    },
    {
     "data": {
      "text/plain": [
       "poem.txt\n",
       "lines: 35\n",
       "words: 166\n",
       "chars: 939"
      ]
     },
     "metadata": {},
     "output_type": "display_data"
    }
   ],
   "source": [
    "wc filename = \n",
    "  do \n",
    "    text <- readFile filename\n",
    "    let numLines = length $ lines text\n",
    "    let numWords = length $ words text\n",
    "    let numChars = length $ text\n",
    "    putStrLn filename\n",
    "    putStrLn $ \"lines: \"++(show numLines)\n",
    "    putStrLn $ \"words: \"++(show numWords)\n",
    "    putStrLn $ \"chars: \"++(show numChars)\n",
    "    \n",
    "wc \"poem.txt\""
   ]
  },
  {
   "cell_type": "markdown",
   "metadata": {},
   "source": [
    "`Eq` is the class of types supporting equality. \n",
    "\n",
    "`Ord` is the class of types supporting an order. \n",
    "\n",
    "`Show` is the class of types whose values can be printed (converted to `String`s). \n",
    "\n",
    "`Read` is the class of types whose values can be parsed from `String`s."
   ]
  },
  {
   "cell_type": "markdown",
   "metadata": {},
   "source": [
    "We've seen that the compiler will take any functions of the appropriate type to make instances of the typeclass. \n",
    "But often there are formal requirements couched in terms of expected equations, and informal requirements in terms \n",
    "of expectations. For simple datastructures, the compiler can derive a default instance of the standard typeclasses. \n",
    "It is instructed to do this using the `deriving` keyword. "
   ]
  },
  {
   "cell_type": "markdown",
   "metadata": {},
   "source": [
    "**EXERCISE** Here are two definitions of the Booleans, both using an enumerated type, and both deriving membership of typeclasses. What is the difference (and more importantly, how would it impact programs)? `T1` and `T2` represent `True`, and `F1` and `F2` represent `False`."
   ]
  },
  {
   "cell_type": "code",
   "execution_count": 35,
   "metadata": {},
   "outputs": [],
   "source": [
    "data B1 = F1 | T1 deriving (Eq, Ord, Show, Read) "
   ]
  },
  {
   "cell_type": "code",
   "execution_count": 37,
   "metadata": {},
   "outputs": [],
   "source": [
    "data B2  = T2 | F2 deriving (Eq, Ord, Show, Read) "
   ]
  },
  {
   "cell_type": "markdown",
   "metadata": {},
   "source": [
    "Explain difference here: "
   ]
  },
  {
   "cell_type": "markdown",
   "metadata": {},
   "source": [
    "## Task 3. Hierarchies"
   ]
  },
  {
   "cell_type": "markdown",
   "metadata": {},
   "source": [
    "Sometimes we require that when we want to make a type a member of a typeclass, it should already be a memnber of some other. There is a hierarchy. "
   ]
  },
  {
   "cell_type": "markdown",
   "metadata": {},
   "source": [
    "Example: `Ord` requires that the type already be a member of `Eq`. "
   ]
  },
  {
   "cell_type": "markdown",
   "metadata": {},
   "source": [
    "```class Eq a => Ord a where ...```"
   ]
  },
  {
   "cell_type": "markdown",
   "metadata": {},
   "source": [
    "**Exercise:** Make `PackString` an instance of `Eq` where two packed strings are regarded as equal if they have the same length. "
   ]
  },
  {
   "cell_type": "code",
   "execution_count": null,
   "metadata": {},
   "outputs": [],
   "source": []
  },
  {
   "cell_type": "markdown",
   "metadata": {},
   "source": [
    "**Exercise:** Make `PackString` an instance of `Ord` where the ordering is that one string is shorter than the other. "
   ]
  },
  {
   "cell_type": "code",
   "execution_count": null,
   "metadata": {},
   "outputs": [],
   "source": []
  },
  {
   "cell_type": "markdown",
   "metadata": {},
   "source": [
    "## Task 4. Deriving Show"
   ]
  },
  {
   "cell_type": "markdown",
   "metadata": {},
   "source": [
    "**Exercise:** `PackStringB` is defined similarly to `PackString` but without deriving `Show`. Can you explain why you get an error when trying to evaluate `PackB \"aaa\"` but not `unpackB (packB \"aaa\")`?"
   ]
  },
  {
   "cell_type": "code",
   "execution_count": 41,
   "metadata": {},
   "outputs": [
    {
     "data": {
      "text/html": [
       "<style>/* Styles used for the Hoogle display in the pager */\n",
       ".hoogle-doc {\n",
       "display: block;\n",
       "padding-bottom: 1.3em;\n",
       "padding-left: 0.4em;\n",
       "}\n",
       ".hoogle-code {\n",
       "display: block;\n",
       "font-family: monospace;\n",
       "white-space: pre;\n",
       "}\n",
       ".hoogle-text {\n",
       "display: block;\n",
       "}\n",
       ".hoogle-name {\n",
       "color: green;\n",
       "font-weight: bold;\n",
       "}\n",
       ".hoogle-head {\n",
       "font-weight: bold;\n",
       "}\n",
       ".hoogle-sub {\n",
       "display: block;\n",
       "margin-left: 0.4em;\n",
       "}\n",
       ".hoogle-package {\n",
       "font-weight: bold;\n",
       "font-style: italic;\n",
       "}\n",
       ".hoogle-module {\n",
       "font-weight: bold;\n",
       "}\n",
       ".hoogle-class {\n",
       "font-weight: bold;\n",
       "}\n",
       ".get-type {\n",
       "color: green;\n",
       "font-weight: bold;\n",
       "font-family: monospace;\n",
       "display: block;\n",
       "white-space: pre-wrap;\n",
       "}\n",
       ".show-type {\n",
       "color: green;\n",
       "font-weight: bold;\n",
       "font-family: monospace;\n",
       "margin-left: 1em;\n",
       "}\n",
       ".mono {\n",
       "font-family: monospace;\n",
       "display: block;\n",
       "}\n",
       ".err-msg {\n",
       "color: red;\n",
       "font-style: italic;\n",
       "font-family: monospace;\n",
       "white-space: pre;\n",
       "display: block;\n",
       "}\n",
       "#unshowable {\n",
       "color: red;\n",
       "font-weight: bold;\n",
       "}\n",
       ".err-msg.in.collapse {\n",
       "padding-top: 0.7em;\n",
       "}\n",
       ".highlight-code {\n",
       "white-space: pre;\n",
       "font-family: monospace;\n",
       "}\n",
       ".suggestion-warning { \n",
       "font-weight: bold;\n",
       "color: rgb(200, 130, 0);\n",
       "}\n",
       ".suggestion-error { \n",
       "font-weight: bold;\n",
       "color: red;\n",
       "}\n",
       ".suggestion-name {\n",
       "font-weight: bold;\n",
       "}\n",
       "</style><div class=\"suggestion-name\" style=\"clear:both;\">Use newtype instead of data</div><div class=\"suggestion-row\" style=\"float: left;\"><div class=\"suggestion-warning\">Found:</div><div class=\"highlight-code\" id=\"haskell\">data PackStringB = PackB String</div></div><div class=\"suggestion-row\" style=\"float: left;\"><div class=\"suggestion-warning\">Why Not:</div><div class=\"highlight-code\" id=\"haskell\">newtype PackStringB = PackB String</div></div>"
      ],
      "text/plain": [
       "Line 1: Use newtype instead of data\n",
       "Found:\n",
       "data PackStringB = PackB String\n",
       "Why not:\n",
       "newtype PackStringB = PackB String"
      ]
     },
     "metadata": {},
     "output_type": "display_data"
    }
   ],
   "source": [
    "data PackStringB = PackB String\n",
    "unpackB (PackB s) = s"
   ]
  },
  {
   "cell_type": "code",
   "execution_count": 43,
   "metadata": {},
   "outputs": [
    {
     "ename": "",
     "evalue": "",
     "output_type": "error",
     "traceback": [
      "<interactive>:1:1: error:\n    • No instance for (Show PackStringB) arising from a use of ‘print’\n    • In a stmt of an interactive GHCi command: print it"
     ]
    }
   ],
   "source": [
    "PackB \"aaa\""
   ]
  },
  {
   "cell_type": "code",
   "execution_count": 44,
   "metadata": {},
   "outputs": [
    {
     "data": {
      "text/plain": [
       "\"aaa\""
      ]
     },
     "metadata": {},
     "output_type": "display_data"
    }
   ],
   "source": [
    "unpackB (PackB \"aaa\")"
   ]
  },
  {
   "cell_type": "markdown",
   "metadata": {},
   "source": [
    "Explanation goes here."
   ]
  },
  {
   "cell_type": "markdown",
   "metadata": {},
   "source": [
    "## Task 5. Using and Defining Higher Order Functions"
   ]
  }
 ],
 "metadata": {
  "kernelspec": {
   "display_name": "Haskell",
   "language": "haskell",
   "name": "haskell"
  },
  "language_info": {
   "codemirror_mode": "ihaskell",
   "file_extension": ".hs",
   "name": "haskell",
   "pygments_lexer": "Haskell",
   "version": "8.6.5"
  }
 },
 "nbformat": 4,
 "nbformat_minor": 4
}
