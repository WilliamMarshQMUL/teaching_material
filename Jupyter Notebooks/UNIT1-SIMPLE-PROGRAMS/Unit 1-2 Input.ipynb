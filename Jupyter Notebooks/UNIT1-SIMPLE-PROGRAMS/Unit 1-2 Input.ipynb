{
 "cells": [
  {
   "cell_type": "markdown",
   "metadata": {},
   "source": [
    "# Unit 1 Part 2: Assignment and Input\n",
    "\n",
    "## Interactive Programming Exercises\n",
    "\n",
    "### Learning Outcomes\n",
    "- Write programs that use assignment\n",
    "- Write programs that get input from the user\n",
    "\n",
    "*This notebook looks at code fragments. After completing these exercises you MUST then go on to write full programs - see the programming exercises in the workbook.\n",
    "\n",
    "Answers to exercises are given at the end*\n"
   ]
  },
  {
   "cell_type": "markdown",
   "metadata": {},
   "source": [
    "### Refresher\n",
    "This assumes you have already doen the \"Getting Started\" interactive notebook activity. If not do so first.\n",
    "\n",
    "#### Exercise 1\n",
    "\n",
    "Read the following code and work out what it does. Run it to check you were right. Briefly explain what is happening.\n",
    "\n",
    "**Write your explanation here**\n"
   ]
  },
  {
   "cell_type": "code",
   "execution_count": null,
   "metadata": {},
   "outputs": [],
   "source": [
    "// Ask a question about Christopher Nolan and echo back the answer\n",
    "public static void askAboutFilm ()\n",
    "{\n",
    "    String film;\n",
    "    Scanner scanner = new Scanner(System.in);\n",
    "    \n",
    "    System.out.println(\"Which dream-themed film did Christopher Nolan direct?\");\n",
    "    film = scanner.nextLine();\n",
    "    \n",
    "    System.out.println(\"So you think it was \" + film + \" do you?\");\n",
    "\n",
    "    return;\n",
    "} // END askAboutFilm\n",
    "\n",
    "askAboutFilm();"
   ]
  },
  {
   "cell_type": "markdown",
   "metadata": {},
   "source": [
    "#### Exercise 2\n",
    "\n",
    "Adapt the code below to ask the user to answer the question, \"What film did Kathryn Bigelow win an academy award for directing?\". Input a value from the user as the right answer \"Kathryn Bigelow\".\n",
    "eg an example run might go (if the person typed in **ET**)\n",
    "```\n",
    "What film did Kathryn Bigelow win an academy award for directing?\n",
    "ET\n",
    "You said ET\n",
    "The answer is The Hurt Locker\n",
    "```\n",
    "\n",
    "Don't worry if you don't understand what every line does exactly yet... just work out the parts you need to change to make it do this new task."
   ]
  },
  {
   "cell_type": "code",
   "execution_count": null,
   "metadata": {},
   "outputs": [],
   "source": [
    "// Ask a question about Kathryn Bigelow, echoing the answer and giving the correct answer.\n",
    "//\n",
    "public static void askAboutFilm2 ()\n",
    "{\n",
    "    String film;\n",
    "    Scanner scanner = new Scanner(System.in);\n",
    "    \n",
    "    System.out.println(\"Which dream-themed film did Christopher Nolan direct?\");\n",
    "    film = scanner.nextLine();\n",
    "    \n",
    "    System.out.println(\"So you think it was \" + film + \" do you?\");\n",
    "\n",
    "    return;\n",
    "} // END askAboutFilm2\n",
    "\n",
    "askAboutFilm2();"
   ]
  },
  {
   "cell_type": "markdown",
   "metadata": {},
   "source": [
    "### Assignment\n",
    "\n",
    "The above code includes an instruction that starts\n",
    "```java\n",
    "film = ...\n",
    "```\n",
    "This is an **assignment statement**. The = means 'gets the value of' and film is a **variable** which just means that it is a storage space to hold data for use by later instrucitons in a method. A statement like this says \n",
    "```\n",
    "\"the variable called film gets the value ...\"\n",
    "\n",
    "So for example, \n",
    "```java\n",
    "film = \"Star Wars\";\n",
    "```\n",
    "would be an instruction to put the String (ie text) \"Star Wars\" into the variable film.\n",
    "\n",
    "The actual instruction in the code above doesn't give a sepcific film. It asks the user to type on in. Think of scanner here as a link to the keyboard and nextLine() is a method to get the next line of text (until ENTER) from that location.\n",
    "So for example, \n",
    "```java\n",
    "film = scanner.nextLine();\n",
    "```\n",
    "says put whatever the user types next (up to them pressing the ENTER key) into the variable called film.\n",
    "\n",
    "All variables MUST be **declared** before they are used. **Declaring a variable** just means ask the program to create the storage space.\n",
    "\n",
    "The line\n",
    "```java\n",
    "String film;\n",
    "```\n",
    "declares a variable called film that can hold a String value.\n",
    "\n",
    "Declarations tell the compiler about your intentions and allow it so spot when you make mistakes. THEY ARE A VERY GOOD THING!"
   ]
  },
  {
   "cell_type": "markdown",
   "metadata": {},
   "source": [
    "#### Exercise 3\n",
    "\n",
    "Explain why the following fragment prints what it does.\n",
    "\n",
    "**Write your explanation here**\n"
   ]
  },
  {
   "cell_type": "code",
   "execution_count": null,
   "metadata": {},
   "outputs": [],
   "source": [
    "String actor;\n",
    "\n",
    "actor = \"John Boyega\";\n",
    "\n",
    "System.out.println(actor);"
   ]
  },
  {
   "cell_type": "markdown",
   "metadata": {},
   "source": [
    "#### Exercise 4\n",
    "\n",
    "Modify the code fragment below to store the name \"Meera Syal\" in a variable called comedian and then print it. Then Run it to check it works."
   ]
  },
  {
   "cell_type": "code",
   "execution_count": null,
   "metadata": {},
   "outputs": [],
   "source": [
    "String actor;\n",
    "\n",
    "actor = \"John Boyega\";\n",
    "\n",
    "System.out.println(actor);"
   ]
  },
  {
   "cell_type": "markdown",
   "metadata": {},
   "source": [
    "#### Exercise 5\n",
    "\n",
    "Write a code fragment below that stores the name \"Adele\" in a variable called singer and then prints it.  Then Run it to check it works."
   ]
  },
  {
   "cell_type": "code",
   "execution_count": null,
   "metadata": {},
   "outputs": [],
   "source": [
    "// Stores the name Adele and prints it\n",
    "\n"
   ]
  },
  {
   "cell_type": "markdown",
   "metadata": {},
   "source": [
    "#### Exercise 6\n",
    "\n",
    "A variable can only store ONE thing at a time. An assignment destroys whatever was there before...\n",
    "\n",
    "Explain why the following code prints what it does.\n",
    "\n",
    "**Write your explanation here**\n"
   ]
  },
  {
   "cell_type": "code",
   "execution_count": null,
   "metadata": {},
   "outputs": [],
   "source": [
    "String actor;\n",
    "\n",
    "actor = \"John Boyega\";\n",
    "System.out.println(actor);\n",
    "\n",
    "actor = \"Chiwetel Ejiofor\";\n",
    "System.out.println(actor);"
   ]
  },
  {
   "cell_type": "markdown",
   "metadata": {},
   "source": [
    "#### Exercise 7\n",
    "\n",
    "Write a fragment of code that declares three variables actor, film and director. It stores \"Sam Rockwell\" in actor,\n",
    "\"Moon\" in film and \"Duncan Jones\" in director. It should then print\n",
    "\n",
    "```\n",
    "Moon was directed by Duncan Jones and starred Sam Rockwell.\n",
    "```\n",
    "The print statement itself should refer to the variables but not directly mention any of the names.\n",
    "\n",
    "HINTS: Remember all statements end with a ; and all String values are surronded by quotes."
   ]
  },
  {
   "cell_type": "code",
   "execution_count": null,
   "metadata": {},
   "outputs": [],
   "source": [
    "// Print details of the film, Moon\n",
    "\n"
   ]
  },
  {
   "cell_type": "markdown",
   "metadata": {},
   "source": [
    "#### Exercise 8\n",
    "\n",
    "Write a **method** that declares four variables actor1, actor2, film and director. It stores \"Parminder Nagra\" in actor1, \"Keira Knightley\" in actor2, \n",
    "\"Bend It Like Beckham\" in film and \"Gurinder Chadha\" in director. It should then print\n",
    "\n",
    "```\n",
    "Bend It Like Beckham was directed by Gurinder Chadha and starred both Parminder Nagra and Keira Knightley.\n",
    "```\n",
    "The print statement itself should refer to the variables but not directly mention any of the names.\n",
    "HINT Refer to the program at the start if you don't remember how to write a method."
   ]
  },
  {
   "cell_type": "code",
   "execution_count": null,
   "metadata": {},
   "outputs": [],
   "source": [
    "// Print details of the film, Bend it like Beckham\n",
    "//\n",
    " \n",
    " // Add your method called BendIt here\n",
    "\n",
    "BendIt();"
   ]
  },
  {
   "cell_type": "markdown",
   "metadata": {},
   "source": [
    "*Once you have done the above exercises (and understand how if statements work) move on to doing the actual programming exercises, writing full programs. You must be able to write full programs, not just fragments.*"
   ]
  },
  {
   "cell_type": "markdown",
   "metadata": {},
   "source": [
    "## Solutions\n",
    "\n",
    "### Exercise 1\n",
    "The code first prints a question about Christopher Nolan. It then waits for the user to type in an answer before echoing the answer back.\n",
    "\n",
    "### Exercise 2\n",
    "\n",
    "```java\n",
    "// Ask a question about Kathryn Bigelow, echoing the answer and giving the correct answer.\n",
    "//\n",
    "public static void askAboutFilm2 ()\n",
    "{\n",
    "    String film;\n",
    "    Scanner scanner = new Scanner(System.in);\n",
    "    \n",
    "    System.out.println(\"What film did Kathryn Bigelow win an academy award for directing?\");\n",
    "    film = scanner.nextLine();\n",
    "    \n",
    "    System.out.println(\"You said \" + film);\n",
    "    System.out.println(\"The answer is The Hurt Locker\");\n",
    "\n",
    "    return;\n",
    "} // END askAboutFilm2\n",
    "\n",
    "askAboutFilm2();\n",
    "```\n",
    "\n",
    "### Exercise 3\n",
    "It prints\n",
    "John Boyega\n",
    "\n",
    "It does so because it declares a variable called actor to store the string value \"John Boyega\". This string is placed in to the variable by the assignment statement:\n",
    "```java\n",
    "actor = \"John Boyega\";\n",
    "```\n",
    "so that later statements accessing this variable will retrieve the value \"John Boyega\". This is what is done by the final print statement which just prints the value in the variable.\n",
    "\n",
    "### Exercise 4\n",
    "```java\n",
    "String singer;\n",
    "\n",
    "singer = \"Meera Syal\";\n",
    "\n",
    "System.out.println(singer);\n",
    "```\n",
    "\n",
    "### Exercise 5\n",
    "```java\n",
    "// Stores the name Adele and prints it\n",
    "\n",
    "String singer;\n",
    "\n",
    "singer = \"Adele\";\n",
    "\n",
    "System.out.println(singer);\n",
    "```\n",
    "\n",
    "\n",
    "### Exercise 6\n",
    "\n",
    "The program first creates a new variable called actor that can hold String values. It then uses an assignment to store the String \"John Boyega\" into that variable. The print statement then just prints the contents of the variable (ie **John Boyega**).\n",
    "\n",
    "The code then does a similar thing again, storing  this time \"Chiwetel Ejiofor\" into the variable. In doing so the previous string stored there is destroyed and can no longer be accessed. Only the new string \"Chiwetel Ejiofor\"  is now stored. Final the contents of the variable is printed again. It now only holds \"Chiwetel Ejiofor\" so **Chiwetel Ejiofor** is printed. After each line printed, the cursor is moved to the next line by the println method, so each name is printed on a new line.\n",
    "\n",
    "### Exercise 7\n",
    "\n",
    "```java\n",
    "// Print details of the film, Moon\n",
    "\n",
    "String actor;\n",
    "String film;\n",
    "String director;\n",
    "\n",
    "actor = \"Sam Rockwell\";\n",
    "film = \"Moon\";\n",
    "director = \"Duncan Jones\";\n",
    "\n",
    "System.out.println(film + \" was directed by \" + director + \" and starred \" + actor + \".\");\n",
    "```\n",
    "\n",
    "### Exercise 8\n",
    "\n",
    "```java\n",
    "// Print details of the film, Bend it like Beckham\n",
    "//\n",
    "public static void BendIt()\n",
    "{\n",
    "    String actor1;\n",
    "    String actor2;\n",
    "    String film;\n",
    "    String director;\n",
    "\n",
    "    actor1 = \"Parminder Nagra\";\n",
    "    actor2 = \"Keira Knightley\";\n",
    "    film = \"Bend It Like Beckham\";\n",
    "    director = \"Gurinder Chadha\";\n",
    "\n",
    "    System.out.println(film + \" was directed by \" + director + \" and starred both \" + actor1 + \" and \" + actor2 + \".\");\n",
    "}\n",
    "\n",
    "BendIt();\n",
    "```\n"
   ]
  }
 ],
 "metadata": {
  "kernelspec": {
   "display_name": "Java",
   "language": "java",
   "name": "java"
  },
  "language_info": {
   "codemirror_mode": "java",
   "file_extension": ".jshell",
   "mimetype": "text/x-java-source",
   "name": "Java",
   "pygments_lexer": "java",
   "version": "11.0.4+11-LTS"
  }
 },
 "nbformat": 4,
 "nbformat_minor": 2
}
