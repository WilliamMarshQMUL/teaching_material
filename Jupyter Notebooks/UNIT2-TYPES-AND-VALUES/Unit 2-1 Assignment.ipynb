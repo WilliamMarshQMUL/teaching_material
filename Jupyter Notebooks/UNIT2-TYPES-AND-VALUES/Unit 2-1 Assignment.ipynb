{
 "cells": [
  {
   "cell_type": "markdown",
   "metadata": {},
   "source": [
    "# Unit 2 Part 1: Assignment\n",
    "\n",
    "## Interactive Programming Exercises\n",
    "\n",
    "### Learning Outcomes\n",
    "- Write programs using sequences of assignments\n",
    "\n",
    "*This notebook looks at code fragments. After completing these exercises you MUST then go on to write full programs - see the programming exercises in the workbook.\n",
    "\n",
    "Answers to exercises are given at the end*\n"
   ]
  },
  {
   "cell_type": "markdown",
   "metadata": {},
   "source": [
    "#### Exercise 1\n",
    "\n",
    "Read the following code fragment and decide what you think it will do. Run it and see if you are right.\n",
    "Explain what it does and how.\n",
    "\n",
    "**Write your explanation here**\n"
   ]
  },
  {
   "cell_type": "code",
   "execution_count": 1,
   "metadata": {},
   "outputs": [
    {
     "name": "stdout",
     "output_type": "stream",
     "text": [
      "RED\n"
     ]
    }
   ],
   "source": [
    "String colour;\n",
    "\n",
    "colour = \"BLUE\";\n",
    "System.out.println(colour);"
   ]
  },
  {
   "cell_type": "markdown",
   "metadata": {},
   "source": [
    "#### Exercise 2\n",
    "\n",
    "Edit the following code so that it stores the String \"YELLOW\" into variable colour and then prints it."
   ]
  },
  {
   "cell_type": "code",
   "execution_count": 1,
   "metadata": {},
   "outputs": [
    {
     "name": "stdout",
     "output_type": "stream",
     "text": [
      "RED\n"
     ]
    }
   ],
   "source": [
    "String colour;\n",
    "\n",
    "colour = \"BLUE\";\n",
    "System.out.println(colour);"
   ]
  },
  {
   "cell_type": "markdown",
   "metadata": {},
   "source": [
    "#### Exercise 3\n",
    "\n",
    "Read the following code fragment and decide what you think it will do. Run it and see if you are right.\n",
    "Explain what it does and how.\n",
    "\n",
    "**Write your explanation here**"
   ]
  },
  {
   "cell_type": "code",
   "execution_count": 3,
   "metadata": {},
   "outputs": [
    {
     "name": "stdout",
     "output_type": "stream",
     "text": [
      "PURPLE\n"
     ]
    }
   ],
   "source": [
    "String colour;\n",
    "\n",
    "colour = \"BLUE\";\n",
    "colour = \"PURPLE\";\n",
    "System.out.println(colour);"
   ]
  },
  {
   "cell_type": "markdown",
   "metadata": {},
   "source": [
    "#### Exercise 4\n",
    "\n",
    "Read the following code fragment and decide what you think it will do. Run it and see if you are right.\n",
    "Explain what it does and how.\n",
    "\n",
    "**Write your explanation here**"
   ]
  },
  {
   "cell_type": "code",
   "execution_count": 2,
   "metadata": {},
   "outputs": [
    {
     "name": "stdout",
     "output_type": "stream",
     "text": [
      "BLUE\n",
      "PURPLE\n"
     ]
    }
   ],
   "source": [
    "String colour;\n",
    "\n",
    "colour = \"BLUE\";\n",
    "System.out.println(colour);\n",
    "colour = \"PURPLE\";\n",
    "System.out.println(colour);"
   ]
  },
  {
   "cell_type": "markdown",
   "metadata": {},
   "source": [
    "#### Exercise 5\n",
    "\n",
    "Read the following code fragment and decide what you think it will do. Run it and see if you are right.\n",
    "Explain what it does and how.\n",
    "\n",
    "**Write your explanation here**"
   ]
  },
  {
   "cell_type": "code",
   "execution_count": 4,
   "metadata": {},
   "outputs": [
    {
     "name": "stdout",
     "output_type": "stream",
     "text": [
      "BLUE\n",
      "PURPLE\n"
     ]
    }
   ],
   "source": [
    "String colour1;\n",
    "String colour2;\n",
    "\n",
    "colour1 = \"BLUE\";\n",
    "colour2 = \"PURPLE\";\n",
    "\n",
    "System.out.println(colour1);\n",
    "System.out.println(colour2);"
   ]
  },
  {
   "cell_type": "markdown",
   "metadata": {},
   "source": [
    "#### Exercise 6\n",
    "\n",
    "Edit the following code to have two variables, called fruit1 and fruit2.  Have the code put \"APPLE\" in fruit1 and then put \"PEAR\" in fruit2. It should then print both fruits, by printing the variables."
   ]
  },
  {
   "cell_type": "code",
   "execution_count": 4,
   "metadata": {},
   "outputs": [
    {
     "name": "stdout",
     "output_type": "stream",
     "text": [
      "BLUE\n",
      "PURPLE\n"
     ]
    }
   ],
   "source": [
    "String colour1;\n",
    "String colour2;\n",
    "\n",
    "colour1 = \"BLUE\";\n",
    "colour2 = \"PURPLE\";\n",
    "System.out.println(colour1);\n",
    "System.out.println(colour2);"
   ]
  },
  {
   "cell_type": "markdown",
   "metadata": {},
   "source": [
    "#### Exercise 7\n",
    "\n",
    "Read the following code fragment and decide what you think it will do. Run it and see if you are right.\n",
    "Explain what it does and how."
   ]
  },
  {
   "cell_type": "markdown",
   "metadata": {},
   "source": [
    "**Write your explanation here**\n"
   ]
  },
  {
   "cell_type": "code",
   "execution_count": 6,
   "metadata": {},
   "outputs": [
    {
     "name": "stdout",
     "output_type": "stream",
     "text": [
      "RED\n",
      "RED\n"
     ]
    }
   ],
   "source": [
    "String colour1;\n",
    "String colour2;\n",
    "\n",
    "colour1 = \"YELLOW\";\n",
    "colour2 = \"RED\";\n",
    "colour1 = colour2;\n",
    "\n",
    "System.out.println(colour1);\n",
    "System.out.println(colour2);"
   ]
  },
  {
   "cell_type": "markdown",
   "metadata": {},
   "source": [
    "#### Exercise 8\n",
    "\n",
    "Read the following code fragment and decide what you think it will do. Run it and see if you are right.\n",
    "Then add assignments that make a copy of the first fruit input and store it in the variable fruit3, and makes a copy of the second fruit input and stores it in the variable fruit4. If the person types in APPLE and then PEAR for example it should print\n",
    "```\n",
    "Variable fruit1 holds APPLE\n",
    "Variable fruit2 holds PEAR\n",
    "Variable fruit3 holds APPLE\n",
    "Variable fruit4 holds PEAR\n",
    "```\n",
    "If they instead type ORANGE and then BANANA the same program should print.\n",
    "```\n",
    "Variable fruit1 holds ORANGE\n",
    "Variable fruit2 holds BANANA\n",
    "Variable fruit3 holds ORANGE\n",
    "Variable fruit4 holds BANANA\n",
    "```"
   ]
  },
  {
   "cell_type": "code",
   "execution_count": 8,
   "metadata": {},
   "outputs": [
    {
     "name": "stdout",
     "output_type": "stream",
     "text": [
      "Name a fruit\n",
      "ORANGE\n",
      "Name another fruit\n",
      "BANANA\n",
      "Variable fruit1 holds ORANGE\n",
      "Variable fruit2 holds BANANA\n",
      "Variable fruit3 holds ORANGE\n",
      "Variable fruit4 holds BANANA\n"
     ]
    }
   ],
   "source": [
    "Scanner scanner = new Scanner(System.in);\n",
    "\n",
    "String fruit1 = \"\";\n",
    "String fruit2 = \"\";\n",
    "String fruit3 = \"\";\n",
    "String fruit4 = \"\";\n",
    "\n",
    "System.out.println(\"Name a fruit\");\n",
    "fruit1 = scanner.nextLine();\n",
    "System.out.println(\"Name another fruit\");\n",
    "fruit2 = scanner.nextLine();\n",
    "\n",
    "fruit3 = fruit1;\n",
    "fruit4 = fruit2;\n",
    "\n",
    "System.out.println(\"Variable fruit1 holds \" + fruit1);\n",
    "System.out.println(\"Variable fruit2 holds \" + fruit2);\n",
    "System.out.println(\"Variable fruit3 holds \" + fruit3);\n",
    "System.out.println(\"Variable fruit4 holds \" + fruit4);\n"
   ]
  },
  {
   "cell_type": "code",
   "execution_count": 7,
   "metadata": {},
   "outputs": [
    {
     "name": "stdout",
     "output_type": "stream",
     "text": [
      "Name a fruit\n",
      "Apple\n",
      "Name another fruit\n",
      "Pear\n",
      "Variable fruit1 holds Apple\n",
      "Variable fruit2 holds Pear\n",
      "Variable fruit3 holds \n",
      "Variable fruit4 holds \n"
     ]
    }
   ],
   "source": [
    "Scanner scanner = new Scanner(System.in);\n",
    "\n",
    "String fruit1 = \"\";\n",
    "String fruit2 = \"\";\n",
    "String fruit3 = \"\";\n",
    "String fruit4 = \"\";\n",
    "\n",
    "System.out.println(\"Name a fruit\");\n",
    "fruit1 = scanner.nextLine();\n",
    "System.out.println(\"Name another fruit\");\n",
    "fruit2 = scanner.nextLine();\n",
    "\n",
    "// ADD 2 MORE ASSIGNMENTS HERE\n",
    "\n",
    "System.out.println(\"Variable fruit1 holds \" + fruit1);\n",
    "System.out.println(\"Variable fruit2 holds \" + fruit2);\n",
    "System.out.println(\"Variable fruit3 holds \" + fruit3);\n",
    "System.out.println(\"Variable fruit4 holds \" + fruit4);\n"
   ]
  },
  {
   "cell_type": "markdown",
   "metadata": {},
   "source": [
    "*Once you have done the above exercises (and understand how the concepts work) move on to doing the actual programming exercises from the handbook, writing full programs. You must be able to write full programs, not just fragments.*"
   ]
  },
  {
   "cell_type": "markdown",
   "metadata": {},
   "source": [
    "## Solutions\n",
    "\n",
    "### Exercise 1\n",
    "\n",
    "It prints BLUE\n",
    "\n",
    "It does this by first declaring a new variable, called colour, storing the string \"BLUE\" in it, and hten printing the contents of that variable.\n",
    "\n",
    "### Exercise 2\n",
    "\n",
    "String colour;\n",
    "\n",
    "colour = \"YELLOW\";\n",
    "System.out.println(colour);\n",
    "\n",
    "### Exercise 3\n",
    "It prints \n",
    "```\n",
    "PURPLE.\n",
    "```\n",
    "\n",
    "A variable can only hold one value at a time, the last one assigned. Here the last thing put into the variable colour before it is printed is PURPLE, os that is what is printed.\n",
    "\n",
    "\n",
    "### Exercise 4\n",
    "It prints\n",
    "```\n",
    "BLUE\n",
    "PURPLE\n",
    "```\n",
    "A sequence of instructions are followed one at a time in the order given. The variable called colour initially holds string \"BLUE\" and that is the last thing stored in it before the first print statement so that is  what is printed by the first print statement when it is its turn to execute. Then however a new value, PURPLE, is put into the variable colour (losing the old value), so the second time the print statement is executed, it is PURPLE that it finds in colour and so prints.\n",
    "\n",
    "\n",
    "### Exercise 5\n",
    "It prints\n",
    "```\n",
    "BLUE\n",
    "PURPLE\n",
    "```\n",
    "This time there are two variables so two storage spaces, so both values (ie colours) can be stored at the same time. First BLUE is put into colour1 and then PURPLE is put into colour2. Both are stored so when colour1 is printed, BLUE is printed and when colour2 is printed, PURPLE is printed.\n",
    "\n",
    "### Exercise 6\n",
    "```java\n",
    "String fruit1;\n",
    "String fruit2;\n",
    "\n",
    "fruit1 = \"APPLE\";\n",
    "fruit2 = \"PEAR\";\n",
    "System.out.println(fruit1);\n",
    "System.out.println(fruit2);\n",
    "```\n",
    "\n",
    "### Exercise 7\n",
    "\n",
    "This creates two variables and puts YELLOW in the first (colour1) and RED in the second (colour2). It then makes a COPY of what is in the second (colour2) and puts that copy in the first variable (colour1). colour2 is unchanged.\n",
    "```java\n",
    "colour1 = colour2;\n",
    "```\n",
    "can be read\n",
    "```\n",
    "colour1 GETS A COPY OF the VALUE FOUND IN colour2\n",
    "```\n",
    "\n",
    "### Exercise 8\n",
    "\n",
    "The code declares 4 variables storing an empty string (ie a string with 0 characters) in each. It then asks for a value input from the user and stores it in the first variable, asks for another and stores it in the second and finally prints the values stored in all the variables.\n",
    "\n",
    "We need to add two assignments. \n",
    "The first puts a copy of fruit1 into fruit3.\n",
    "The next puts a copy of fruit2 into fruit4.\n",
    "```java\n",
    "fruit3 = fruit1;\n",
    "fruit4 = fruit2;\n",
    "```\n",
    "\n",
    "```java\n",
    "Scanner scanner = new Scanner(System.in);\n",
    "\n",
    "String fruit1 = \"\";\n",
    "String fruit2 = \"\";\n",
    "String fruit3 = \"\";\n",
    "String fruit4 = \"\";\n",
    "\n",
    "System.out.println(\"Name a fruit\");\n",
    "fruit1 = scanner.nextLine();\n",
    "System.out.println(\"Name another fruit\");\n",
    "fruit2 = scanner.nextLine();\n",
    "\n",
    "fruit3 = fruit1;\n",
    "fruit4 = fruit2;\n",
    "\n",
    "System.out.println(\"Variable fruit1 holds \" + fruit1);\n",
    "System.out.println(\"Variable fruit2 holds \" + fruit2);\n",
    "System.out.println(\"Variable fruit3 holds \" + fruit3);\n",
    "System.out.println(\"Variable fruit4 holds \" + fruit4);\n",
    "```\n"
   ]
  },
  {
   "cell_type": "code",
   "execution_count": null,
   "metadata": {},
   "outputs": [],
   "source": []
  }
 ],
 "metadata": {
  "kernelspec": {
   "display_name": "Java",
   "language": "java",
   "name": "java"
  },
  "language_info": {
   "codemirror_mode": "java",
   "file_extension": ".jshell",
   "mimetype": "text/x-java-source",
   "name": "Java",
   "pygments_lexer": "java",
   "version": "11.0.4+11-LTS"
  }
 },
 "nbformat": 4,
 "nbformat_minor": 2
}
