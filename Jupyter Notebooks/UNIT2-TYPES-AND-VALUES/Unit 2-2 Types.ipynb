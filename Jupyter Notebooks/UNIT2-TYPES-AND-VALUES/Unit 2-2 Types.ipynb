{
 "cells": [
  {
   "cell_type": "markdown",
   "metadata": {},
   "source": [
    "# Unit 2 Part 2: Types\n",
    "\n",
    "## Interactive Programming Exercises\n",
    "\n",
    "## Learning Outcomes\n",
    "- Write programs using different types\n",
    "\n",
    "*This notebook looks at code fragments. After completing these exercises you MUST then go on to write full programs - see the programming exercises in the workbook.\n",
    "\n",
    "Answers to exercises are given at the end*\n"
   ]
  },
  {
   "cell_type": "markdown",
   "metadata": {},
   "source": [
    "## Why Types\n",
    "Variables have types in Java. Types collect values into groups that have the same properties such as being numbers or text or a true/false value. Each is stored in a different way (using a different representation).\n",
    "\n",
    "A strong type system where variables have types is important as it helps\n",
    "\n",
    "- tell the compiler what values you (the programmer) intend so put in it so can catch your mistakes\n",
    "    - eg if you said a variable was to hold a number then put a word in it you are confused and it can tell you\n",
    "    \n",
    "- allow it to allocate the right space to store the values \n",
    "    - eg a string needs more space than an integer\n",
    "    \n",
    "- tell the compiler what operations make sense so it can catch your mistakes\n",
    "    - eg if you said a variable was to hold a string but then try to multiply with it you are confused and it can tell you\n",
    "\n",
    "Strong types are part of defenive programming: they help prevent buggy programs."
   ]
  },
  {
   "cell_type": "markdown",
   "metadata": {},
   "source": [
    "### Exercise 1\n",
    "\n",
    "Read the following code fragment and decide what you think it will do. Run it and see if you are right.\n",
    "Explain what it does."
   ]
  },
  {
   "cell_type": "markdown",
   "metadata": {
    "hide_input": true
   },
   "source": [
    "\n",
    "**Double click then write your explanation here**\n"
   ]
  },
  {
   "cell_type": "code",
   "execution_count": 7,
   "metadata": {},
   "outputs": [
    {
     "name": "stdout",
     "output_type": "stream",
     "text": [
      "The student's name is P BROWN\n",
      "Their age is 18 and height is 1.72\n",
      "Their enrolled state is true\n"
     ]
    }
   ],
   "source": [
    "String surname;\n",
    "char initial;\n",
    "int age;\n",
    "double height;\n",
    "boolean enrolled;\n",
    "\n",
    "surname = \"AHMED\";\n",
    "initial = 'Y';\n",
    "age = 18;\n",
    "height = 1.72;\n",
    "enrolled = true;\n",
    "\n",
    "System.out.println(\"The student's name is \" + initial + \" \" + surname);\n",
    "System.out.println(\"Their age is \" + age + \" and height is \" + height);\n",
    "System.out.println(\"Their enrolled state is \" + enrolled);"
   ]
  },
  {
   "cell_type": "markdown",
   "metadata": {},
   "source": [
    "### Exercise 2\n",
    "\n",
    "Edit the following fragment so that it stores the equivalent details of the student:\n",
    "Ellie Nadri who is 19 has height 1m 59cm tall and is not yet enrolled.\n",
    "\n",
    "Make sure it prints the correct details,"
   ]
  },
  {
   "cell_type": "code",
   "execution_count": 7,
   "metadata": {},
   "outputs": [
    {
     "name": "stdout",
     "output_type": "stream",
     "text": [
      "The student's name is P BROWN\n",
      "Their age is 18 and height is 1.72\n",
      "Their enrolled state is true\n"
     ]
    }
   ],
   "source": [
    "String surname;\n",
    "char initial;\n",
    "int age;\n",
    "double height;\n",
    "boolean enrolled;\n",
    "\n",
    "surname = \"AHMED\";\n",
    "initial = 'Y';\n",
    "age = 18;\n",
    "height = 1.72;\n",
    "enrolled = true;\n",
    "\n",
    "System.out.println(\"The student's name is \" + initial + \" \" + surname);\n",
    "System.out.println(\"Their age is \" + age + \" and height is \" + height);\n",
    "System.out.println(\"Their enrolled state is \" + enrolled);"
   ]
  },
  {
   "cell_type": "markdown",
   "metadata": {},
   "source": [
    "## Different core types\n",
    "There are a whole series of core types provided as standard as seen \n",
    "\n",
    "- whole numbers ie integers (int)\n",
    "    - ... -3, -2, -1, 0, 1, 2, 3 ... 999, 1000, ...\n",
    "    \n",
    "- numbers with a decimal point ie floating point numbers (double)\n",
    "    - 1.5, 3.14159, 0.1, ...\n",
    "    \n",
    "- characters ie the equivalent of key presses on the keyboard (char)\n",
    "    - 'a', 'b', ... 'A', 'B' ... '1', ''2' ... \":', \"?' ...\n",
    "    \n",
    "- sequences of characters ie Strings (String)\n",
    "    - \"Paul\", \"123\", \"abc456\", \"Hello there\"\n",
    "    \n",
    "- truth values ie boolean values (boolean)\n",
    "    - true, false"
   ]
  },
  {
   "cell_type": "markdown",
   "metadata": {},
   "source": [
    "### Exercise 3\n",
    "\n",
    "Edit the following fragment to instead record details of a species of beetle including its name, mass in grams (a whole number) and length in cm, storing each piece of information in a separate variable. It should record the details of the Goliath Beetle, printing the message:\n",
    "```\n",
    "The Goliath Beetle weighs up to 115g \n",
    "and measures up to 11.5 cm in length as larvae.\n",
    "```\n",
    "Use appropriate names for variables.\n",
    "\n",
    "HINT: make sure you remember + operators between each separate thing being joined together in your print statement."
   ]
  },
  {
   "cell_type": "code",
   "execution_count": 12,
   "metadata": {},
   "outputs": [
    {
     "name": "stdout",
     "output_type": "stream",
     "text": [
      "The student's name is Y. AHMED\n",
      "Their age is 18 and height is 1.72m tall\n",
      "Their enrolled state is true\n"
     ]
    }
   ],
   "source": [
    "String surname;\n",
    "char initial;\n",
    "int age;\n",
    "double height;\n",
    "boolean enrolled;\n",
    "\n",
    "surname = \"AHMED\";\n",
    "initial = 'Y';\n",
    "age = 18;\n",
    "height = 1.72;\n",
    "enrolled = true;\n",
    "\n",
    "System.out.println(\"The student's name is \" + initial + \". \" + surname);\n",
    "System.out.println(\"Their age is \" + age + \" and height is \" + height + \"m tall\");\n",
    "System.out.println(\"Their enrolled state is \" + enrolled);"
   ]
  },
  {
   "cell_type": "markdown",
   "metadata": {},
   "source": [
    "## Strings and concatenation\n",
    "\n",
    "A string is made up of a sequence of characters. The main operation you can do on Strings is to 'concatenate' two strings (ie stick them together end to end). You have been doing this already in print statements. You use the + operator, but note when used with strings it is concatenation not addition.\n",
    "\n",
    "### Exercise 4\n",
    "Complete the following code so that it stores \"abra\" in variable magic1 and \"cadabra\" in variable magic2. The concatenation of the two should be stored in the third variable magic_word. Finally magic_word should be printed."
   ]
  },
  {
   "cell_type": "code",
   "execution_count": null,
   "metadata": {},
   "outputs": [],
   "source": [
    "String magic1;\n",
    "String magic2;\n",
    "String magic_word;\n",
    "\n",
    "// WRITE THREE ASIGNMENTS HERE TO CONSTRUCT THE MAGIC WORD TO PRINT\n",
    "\n",
    "System.out.println(magic_word);"
   ]
  },
  {
   "cell_type": "markdown",
   "metadata": {},
   "source": [
    "### Exercise 5\n",
    "Predict what the following code will print. Then run it to see if you were right. Explain what happens."
   ]
  },
  {
   "cell_type": "markdown",
   "metadata": {},
   "source": [
    "\n",
    "**Double click then write your explanation here**\n"
   ]
  },
  {
   "cell_type": "code",
   "execution_count": 21,
   "metadata": {},
   "outputs": [
    {
     "name": "stdout",
     "output_type": "stream",
     "text": [
      "123321\n"
     ]
    }
   ],
   "source": [
    "String s1 = \"123\";\n",
    "String s2 = \"321\";\n",
    "String answer;\n",
    "\n",
    "answer = s1 + s2;\n",
    "\n",
    "System.out.println(answer);"
   ]
  },
  {
   "cell_type": "markdown",
   "metadata": {
    "slideshow": {
     "slide_type": "slide"
    }
   },
   "source": [
    "## Integers\n",
    "Integers are whole numbers. You can do arithmetic on them (```+ - * /```).\n",
    "\n",
    "### Exercise 6\n",
    "Predict what the following code will print. Then run it to see if you were right. Explain what happens."
   ]
  },
  {
   "cell_type": "code",
   "execution_count": 22,
   "metadata": {},
   "outputs": [
    {
     "name": "stdout",
     "output_type": "stream",
     "text": [
      "444\n"
     ]
    }
   ],
   "source": [
    "int s1 = 123;\n",
    "int s2 = 321;\n",
    "int answer;\n",
    "\n",
    "answer = s1 + s2;\n",
    "\n",
    "System.out.println(answer);"
   ]
  },
  {
   "cell_type": "markdown",
   "metadata": {
    "slideshow": {
     "slide_type": "slide"
    }
   },
   "source": [
    "## Converting Strings to Integers\n",
    "\n",
    "Strings are just sequences of characters so the string \"123\" is stored as '1' followed by '2' followed by '3' just as it looks on the page. It isn't a number anymore than the string \"wombat\" is.\n",
    "\n",
    "The number 123 is actually stored in a special (binary) format that the computer can easily do arithmetic on.\n",
    "\n",
    "When strings like \"123\" and integers like 123 are printed they look identical. \n",
    "\n",
    "A built-in method Integer.parseInt takes strings and converts them to numbers (if they do convert to a number).\n",
    "\n",
    "### Exercise 7\n",
    "\n",
    "Run the following then work out what it does line by line. Then add a line at the end\n",
    "```java\n",
    "System.out.println(text_input + 1);\n",
    "```\n",
    "What do you expect it to do?"
   ]
  },
  {
   "cell_type": "code",
   "execution_count": 28,
   "metadata": {},
   "outputs": [
    {
     "name": "stdout",
     "output_type": "stream",
     "text": [
      "Input a number\n",
      "9\n",
      "You typed 9\n",
      "Which is the integer 9\n",
      "You can do arithmetic on an (not on a string) integer so n plus 1 is 10\n",
      "91\n"
     ]
    }
   ],
   "source": [
    "Scanner scanner = new Scanner(System.in);\n",
    "\n",
    "String text_input;\n",
    "int n;\n",
    "int plus1;\n",
    "\n",
    "System.out.println(\"Input a number\");\n",
    "text_input = scanner.nextLine();           // Note you input text (keyboard strokes) - a series of characters\n",
    "n = Integer.parseInt(text_input);  // So need to convert it to an integer\n",
    "\n",
    "\n",
    "System.out.println(\"You typed \" + text_input);\n",
    "System.out.println(\"Which is the integer \" + n);\n",
    "plus1 = n+1;\n",
    "System.out.println(\"You can do arithmetic on an (not on a string) integer so n plus 1 is \" + plus1);"
   ]
  },
  {
   "cell_type": "markdown",
   "metadata": {},
   "source": [
    "### Exercise 8\n",
    "\n",
    "A quick way to add up all the numbers from 1 to any positive number n is using the formula n(n+1)/2. eg \n",
    "```1 + 2 + 3 = 3x4/2 = 6```\n",
    "```1 + 2 + 3 + 4 + 5 + 6 = 6x7/2 = 21```\n",
    "\n",
    "The following code fragment is intended to do that but gets the answers WRONG. It contains a bug. Read and run the code. Work out what it is doing wrong and correct the code."
   ]
  },
  {
   "cell_type": "code",
   "execution_count": 18,
   "metadata": {},
   "outputs": [
    {
     "name": "stdout",
     "output_type": "stream",
     "text": [
      "Input a number\n",
      "6\n",
      "The sum to 6 is 15\n"
     ]
    }
   ],
   "source": [
    "Scanner scanner = new Scanner(System.in);\n",
    "\n",
    "String text_input;\n",
    "int n;\n",
    "int answer;\n",
    "\n",
    "System.out.println(\"Input a number\");\n",
    "text_input = scanner.nextLine();           // Note you input text (keyboard strokes) - a series of characters\n",
    "n = Integer.parseInt(text_input);  // So need to convert it to aninteger\n",
    "\n",
    "answer = n * (n - 1) / 2;\n",
    "\n",
    "System.out.println(\"The sum to \" + n + \" is \" + answer);\n"
   ]
  },
  {
   "cell_type": "markdown",
   "metadata": {},
   "source": [
    "## Decimal numbers - Doubles\n",
    "\n",
    "Integers are whole numbers. What if you want more accurate numbers? You then need decimals. One way is the type double. You can do arithmetic on decimal numbers though the details is different (remember in primary school you had to learn how to do it - how do you deal with the decimal points?). Decimal numbers are called floating point numbers because of the way they are stored - the decimal point floats around depending on the number rather than always being in the same place.\n",
    "\n",
    "### Exercise 9\n",
    "\n",
    "Predict exactly what the following will print then run the code."
   ]
  },
  {
   "cell_type": "code",
   "execution_count": 31,
   "metadata": {},
   "outputs": [
    {
     "name": "stdout",
     "output_type": "stream",
     "text": [
      "3.0\n"
     ]
    }
   ],
   "source": [
    "double d1 = 1.5;\n",
    "double d2 = 1.5;\n",
    "double answer;\n",
    "\n",
    "answer = d1 + d2;\n",
    "\n",
    "System.out.println(answer);"
   ]
  },
  {
   "cell_type": "markdown",
   "metadata": {},
   "source": [
    "### Exercise 10\n",
    "When you take the average of whole numbers you may not get a whole number answer...\n",
    "\n",
    "Run the following code then see if you can explain what happens"
   ]
  },
  {
   "cell_type": "code",
   "execution_count": 37,
   "metadata": {},
   "outputs": [
    {
     "name": "stdout",
     "output_type": "stream",
     "text": [
      "2.5\n",
      "2.5\n"
     ]
    }
   ],
   "source": [
    "int d1 = 3;\n",
    "int d2 = 2;\n",
    "double answer1;\n",
    "double answer2;\n",
    "\n",
    "answer1 = (d1 + d2) / 2.0;\n",
    "answer2 = (d1 + d2) / 2;\n",
    "\n",
    "System.out.println(answer1);\n",
    "System.out.println(answer2);"
   ]
  },
  {
   "cell_type": "markdown",
   "metadata": {},
   "source": [
    "## Strong type systems\n",
    "\n",
    "The above shows that dealing doubles is complicated. It is really easy to write code that does the wrong calculation. The compiler rather than helping spot errors does invisible conversions. The type system has been compromised to 'help' programmers by giving 'convenient' short cuts. The problem is it does not know for sure what you were trying to do.\n",
    "\n",
    "A better langiuage design would make you convert values explicitly. If you tried to divide an integer by a double it should raise a compile-time error and stop you.\n",
    "\n",
    "Strong type systems help avoid buggy programs! Bugs like this about the precise type of number have cost billions of dollars (eg causing rockets carrying satellites to crash/explode). Java has quite a strong type system but it is not strong enough! It lets mistakes through that it could catch.\n",
    "\n",
    "Even when a language gives you shortcuts it is better to always explicitly include the conversion code so it is clear to other readers what you intend."
   ]
  },
  {
   "cell_type": "markdown",
   "metadata": {},
   "source": [
    "## Inputting decimals\n",
    "As with ints, doubles have to be first input as a string and then converted. The methods Double.parseDouble does this in an equivalent way to Integer.parseInt. **Parsing** which these methods do is just the operation of converting a series of characters into someother format.\n",
    "\n",
    "### Exercise 11\n",
    "Convert the following to allow decimals to be input and work completely with double arithmetic rather than integer arithmetic and so give accurate answers."
   ]
  },
  {
   "cell_type": "code",
   "execution_count": 41,
   "metadata": {},
   "outputs": [
    {
     "name": "stdout",
     "output_type": "stream",
     "text": [
      "Give me a number\n",
      "2\n",
      "Give me a second number\n",
      "3\n",
      "The average is 2\n"
     ]
    }
   ],
   "source": [
    "Scanner scanner = new Scanner(System.in);\n",
    "\n",
    "String text_input;\n",
    "int n1;\n",
    "int n2;\n",
    "int answer;\n",
    "\n",
    "System.out.println(\"Give me a number\");\n",
    "text_input = scanner.nextLine();           // Note you input text (keyboard strokes) - a series of characters\n",
    "n1 = Integer.parseInt(text_input);  // So need to convert it to aninteger\n",
    "\n",
    "System.out.println(\"Give me a second number\");\n",
    "text_input = scanner.nextLine();           // Note you input text (keyboard strokes) - a series of characters\n",
    "n2 = Integer.parseInt(text_input);  // So need to convert it to aninteger\n",
    "\n",
    "\n",
    "answer = (n1 + n2) / 2;\n",
    "\n",
    "System.out.println(\"The average is \" + answer);\n"
   ]
  },
  {
   "cell_type": "markdown",
   "metadata": {},
   "source": [
    "*Once you have done the above exercises (and understand how the concepts work) move on to doing the actual programming exercises from the handbook, writing full programs. You must be able to write full programs, not just fragments.*"
   ]
  },
  {
   "cell_type": "markdown",
   "metadata": {},
   "source": [
    "## Solutions\n",
    "\n",
    "### Exercise 1\n",
    "\n",
    "The code prints the details (name, age height and enrolled state) of a student.\n",
    "\n",
    "It first declares a series of variables, each of a different appropriate type to store the separate pieces of information about a student. The surname is a sequence of characters so a String. The initial is a single character so of type, char. The age is a whole number so int. The height is a decimal number so cannot be stored as an int and so is instead a double. Whether they are enrolled is either true or false so a boolean.\n",
    "\n",
    "Assignment is used to store the appropriate value in each. Then each variable is used at the appropriate point in a print statement to print out an appropriate message.\n",
    "\n",
    "### Exercise 2\n",
    "\n",
    "```java\n",
    "String surname;\n",
    "char initial;\n",
    "int age;\n",
    "double height;\n",
    "boolean enrolled;\n",
    "\n",
    "surname = \"NADRI\";\n",
    "initial = 'E';\n",
    "age = 19;\n",
    "height = 1.59;\n",
    "enrolled = false;\n",
    "\n",
    "System.out.println(\"The student's name is \" + initial + \". \" + surname);\n",
    "System.out.println(\"Their age is \" + age + \" and height is \" + height + \"m tall\");\n",
    "System.out.println(\"Their enrolled state is \" + enrolled);\n",
    "```\n",
    "\n",
    "### Exercise 3\n",
    "```java\n",
    "String beetle_name;\n",
    "int max_weight;\n",
    "double max_length;\n",
    "\n",
    "beetle_name = \"Goliath Beetle\";\n",
    "max_weight = 115;\n",
    "max_length = 11.5;\n",
    "enrolled = true;\n",
    "\n",
    "System.out.println(\"The \" + beetle_name + \" weighs up to \" + max_weight + \"g\");\n",
    "System.out.println(\"and measures up to \" + max_length + \"cm in length as larvae.\");\n",
    "```\n",
    "\n",
    "### Exercise 4\n",
    "```java\n",
    "String magic1;\n",
    "String magic2;\n",
    "String magic_word;\n",
    "\n",
    "magic1 = \"abra\";\n",
    "magic2 = \"cadabra\";\n",
    "magic_word = magic1+magic2;\n",
    "System.out.println(magic_word);\n",
    "```\n",
    "### Exercise 5\n",
    "\n",
    "It prints 123321\n",
    "\n",
    "As both values are strings NOT numbers, + here means concatenation NOT addition so it sticks the two strings of digits end to end.\n",
    "\n",
    "### Exercise 6\n",
    "It prints 444\n",
    "\n",
    "This time both variables s1 and s2 are integers. When two variables that are declared as integers are added using +, the two values will be added arithmetically.\n",
    "\n",
    "### Exercise 7\n",
    "If you say type in 9 when asked then the code first prints it as a string then as an integer, having converted it and stored it in the int variable n. Both look the same when printed. However, you can do artihmetic on the int version such as n + 1. So if 9 was input ti will print 10\n",
    "\n",
    "If you add a line to print \n",
    "```\n",
    "text_input + 1\n",
    "```\n",
    "it does not do addition, it does concatenation as it is working with a String and that is the only thing that makes sense for a string. \n",
    "\n",
    "\n",
    "### Exercise 8\n",
    "\n",
    "A minus sign was mistakenly used instead of a plus sign. The calculation should be\n",
    "```java\n",
    "answer = n * (n + 1) / 2;\n",
    "```\n",
    "\n",
    "```java\n",
    "Scanner scanner = new Scanner(System.in);\n",
    "\n",
    "String text_input;\n",
    "int n;\n",
    "int answer;\n",
    "\n",
    "System.out.println(\"Input a number\");\n",
    "text_input = scanner.nextLine();           // Note you input text (keyboard strokes) - a series of characters\n",
    "n = Integer.parseInt(text_input);  // So need to convert it to aninteger\n",
    "\n",
    "answer = n * (n + 1) / 2;\n",
    "\n",
    "System.out.println(\"The sum to \" + n + \" is \" + answer);\n",
    "```\n",
    "\n",
    "### Exercise 9\n",
    "It prints 3.0 (not 3) 3 is an integer whereas 3.0 is a double. As we did floating point addition on doubles we get a double answer. ALways add .0 to whole numbers if you want them to be treated as floating point numbers.\n",
    "\n",
    "### Exercise 10\n",
    "\n",
    "Both d1 and d2 are integers. We add them as integers to get an integer total. So if we divide by an integer we get an integer answer as we do integer division giving the answer 2 (as integers round down).\n",
    "```\n",
    "5 / 2 = 2\n",
    "```\n",
    "On the other hand  when we divide by a double the more accurate double division is done. The 5 is automatically turned into a double so that double division can be done\n",
    "```\n",
    "5.0 / 2.0 = 2.5\n",
    "```\n",
    "\n",
    "If we change everything to doubles then accurate floating point arithmetic is done either way even when dividing by an integer. Even when the 2 is an integer, it is converted to the more accurate double version so double arithmetic can be done. \n",
    "\n",
    "The program this time was \n",
    "```java\n",
    "double d1 = 3.0;\n",
    "double d2 = 2.0;\n",
    "double answer1;\n",
    "double answer2;\n",
    "\n",
    "answer1 = (d1 + d2) / 2.0;\n",
    "answer2 = (d1 + d2) / 2;\n",
    "\n",
    "System.out.println(answer1);\n",
    "System.out.println(answer2);\n",
    "```\n",
    "Both answers are 2.5\n",
    "\n",
    "### Exercise 11\n",
    "You need to change all the int types to double, change the integer conversions to double conversions and change int literal values (here 2) to double literal values (2.0) to be absolutely clear you intend accurate double arithmetic throughout.\n",
    "\n",
    "```java\n",
    "Scanner scanner = new Scanner(System.in);\n",
    "\n",
    "String text_input;\n",
    "double n1;\n",
    "double n2;\n",
    "double answer;\n",
    "\n",
    "System.out.println(\"Give me a number\");\n",
    "text_input = scanner.nextLine();           // Note you input text (keyboard strokes) - a series of characters\n",
    "n1 = Double.parseDouble(text_input);  // So need to convert it to aninteger\n",
    "\n",
    "System.out.println(\"Give me a second number\");\n",
    "text_input = scanner.nextLine();           // Note you input text (keyboard strokes) - a series of characters\n",
    "n2 = Double.parseDouble(text_input);  // So need to convert it to aninteger\n",
    "\n",
    "\n",
    "answer = (n1 + n2) / 2.0;\n",
    "\n",
    "System.out.println(\"The average is \" + answer);\n",
    "```\n"
   ]
  }
 ],
 "metadata": {
  "kernelspec": {
   "display_name": "Java",
   "language": "java",
   "name": "java"
  },
  "language_info": {
   "codemirror_mode": "java",
   "file_extension": ".jshell",
   "mimetype": "text/x-java-source",
   "name": "Java",
   "pygments_lexer": "java",
   "version": "11.0.4+11-LTS"
  }
 },
 "nbformat": 4,
 "nbformat_minor": 2
}
