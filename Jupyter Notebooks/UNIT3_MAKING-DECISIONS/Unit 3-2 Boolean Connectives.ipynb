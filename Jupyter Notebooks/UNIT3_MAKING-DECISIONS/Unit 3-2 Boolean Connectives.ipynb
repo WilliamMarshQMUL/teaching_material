{
 "cells": [
  {
   "cell_type": "markdown",
   "metadata": {},
   "source": [
    "# Unit 3 Part 2: Boolean Connectives\n",
    "\n",
    "## Interactive Programming Exercises\n",
    "\n",
    "### Learning Outcomes\n",
    "- Write programs that make decisions and do different things as a result\n",
    "- Write if statements using boolean connectives (NOT, AND, OR)\n",
    "\n",
    "*This notebook looks at code fragments. After completing these exercises you MUST then go on to write full programs - see the programming exercises in the workbook.\n",
    "\n",
    "Answers to exercises are given at the end*\n"
   ]
  },
  {
   "cell_type": "markdown",
   "metadata": {},
   "source": [
    "### Refresher\n",
    "#### Exercise 1\n",
    "\n",
    "Read the following code and work out what it does. Run it to check you were right, then adapt it to be able to name the country corresponding to at least one more city."
   ]
  },
  {
   "cell_type": "code",
   "execution_count": 2,
   "metadata": {},
   "outputs": [
    {
     "name": "stdout",
     "output_type": "stream",
     "text": [
      "Which city is Bilal in?\n",
      "Tokyo\n",
      "Bilal is in Japan\n"
     ]
    }
   ],
   "source": [
    "// Allow a single string to be input, printing the given message as prompt\n",
    "//\n",
    "public static String inputString (String message)\n",
    "{\n",
    "       Scanner scanner = new Scanner(System.in);\n",
    "       String answer;\n",
    "\n",
    "       System.out.println(message);\n",
    "       answer = scanner.nextLine();\n",
    "   \n",
    "       return answer;\n",
    "} // END inputString\n",
    "\n",
    "\n",
    "\n",
    "// Given a city work out what country a person is in.\n",
    "//\n",
    "public static void identifyCOuntry ()\n",
    "{\n",
    "    String name = \"Bilal\";\n",
    "    String city = inputString(\"Which city is \" + name + \" in?\");\n",
    "\n",
    "    if (city.equals(\"Tokyo\"))\n",
    "    {\n",
    "        System.out.println(name + \" is in Japan\");        \n",
    "    }   \n",
    "    else if (city.equals(\"Santiago\"))\n",
    "    {\n",
    "        System.out.println(name + \" is in Chile\");        \n",
    "    }   \n",
    "    else\n",
    "    {\n",
    "        System.out.println(\"I do not know where that is.\");\n",
    "    }\n",
    "    \n",
    "    System.out.println(\"Always here to help.\");\n",
    "}\n",
    "\n",
    "identifyCOuntry();"
   ]
  },
  {
   "cell_type": "markdown",
   "metadata": {},
   "source": [
    "###  Logical connectives - OR\n",
    "####  Exercise 2\n",
    "Suppose you need a program to identify the genre of movies. Often you want to do the same thing in several cases - eg recognise that more than one film is a Superhero film. You could write an if statement for each but that is very long-winded. Surely there is a simpler way! There is but you need more complicated tests that use the **logical connective** **OR** - for example to say a movie is Science Fiction if it is either ... OR it is  ... OR it is ... \n",
    "\n",
    "Run this code several times, inputing Spiderman one time and Batman another. Try entering other things too. What do you think is the operator that means OR? Notice that the WHOLE equality test is written out each time.\n",
    "\n",
    "Then edit it to also accept \"Black Panther\" as a superhero film.\n",
    "Once that works edit again to accept \"Captain Marvel\" as a superhero film too. \n",
    "\n",
    "Add a further category of Science Fiction Films. It should include Star Wars and Blade Runner.\n",
    "\n",
    "HINT: Make sure you match all your brackets - every open bracket should have a close bracket.\n",
    "REMINDER: You must have run (so compiled) the code for Exercise 1 first or method inputString will not exist!"
   ]
  },
  {
   "cell_type": "code",
   "execution_count": 16,
   "metadata": {},
   "outputs": [
    {
     "name": "stdout",
     "output_type": "stream",
     "text": [
      "Name a movie\n",
      "Batman\n",
      "That is a Superhero film\n"
     ]
    }
   ],
   "source": [
    "// State what kind of movie a particular film is\n",
    "//\n",
    "public static void kindOfMovie3 ()\n",
    "{\n",
    "    String movie = inputString(\"Name a movie\");\n",
    "         \n",
    "    if ( movie.equals(\"Spiderman\") | movie.equals(\"Batman\") )\n",
    "    {\n",
    "        System.out.println(\"That is a Superhero film\");        \n",
    "    }   \n",
    "    else\n",
    "    {\n",
    "        System.out.println(\"That is not a superhero film\");        \n",
    "    }   \n",
    "}\n",
    "\n",
    "kindOfMovie3();"
   ]
  },
  {
   "cell_type": "markdown",
   "metadata": {},
   "source": [
    "Logical connectives take one or more boolean expression and combine them to create a new boolean expression. For example, "
   ]
  },
  {
   "cell_type": "markdown",
   "metadata": {},
   "source": [
    "###  Logical connectives - NOT\n",
    "####  Exercise 3\n",
    "\n",
    "Explore what the following fragment does by reading and running it. What do you think means NOT?\n",
    "\n",
    "Change the String stored in city and predict what happens. See if you are right."
   ]
  },
  {
   "cell_type": "code",
   "execution_count": 15,
   "metadata": {},
   "outputs": [
    {
     "name": "stdout",
     "output_type": "stream",
     "text": [
      "It was Cairo\n"
     ]
    }
   ],
   "source": [
    "String city = \"Cairo\";\n",
    "       \n",
    "if (! city.equals(\"Cairo\") )\n",
    "{\n",
    "    System.out.println(\"It was NOT Cairo\");        \n",
    "}   \n",
    "else\n",
    "{\n",
    "    System.out.println(\"It was Cairo\");\n",
    "}   \n"
   ]
  },
  {
   "cell_type": "markdown",
   "metadata": {},
   "source": [
    "####  Exercise 4\n",
    "\n",
    "Run the code below and you will see that it gives the wrong answer.\n",
    "\n",
    "Corerct the method below by ONLY changing the test asks if the two cities are NOT the same."
   ]
  },
  {
   "cell_type": "code",
   "execution_count": 11,
   "metadata": {},
   "outputs": [
    {
     "name": "stdout",
     "output_type": "stream",
     "text": [
      "Which city is Clary in?\n",
      "Cairo\n",
      "Which city is Tessa in?\n",
      "Cairo\n",
      "Tessa and Clary are in the same place.\n"
     ]
    }
   ],
   "source": [
    "//Compare two cities to see if they are the same\n",
    "//\n",
    "public static void compareCities2 ()\n",
    "{\n",
    "    String city1 = inputString(\"Which city is Clary in?\");\n",
    "    String city2 = inputString(\"Which city is Tessa in?\"); \n",
    "    \n",
    "    if ( city1.equals(city2) )\n",
    "    {\n",
    "        System.out.println(\"Tessa and Clary are in different places.\");        \n",
    "    }   \n",
    "    else\n",
    "    {\n",
    "        System.out.println(\"Tessa and Clary are in the same place.\");\n",
    "    } \n",
    "    \n",
    "}\n",
    "\n",
    "compareCities2();"
   ]
  },
  {
   "cell_type": "markdown",
   "metadata": {},
   "source": [
    "####  Exercise 5\n",
    "\n",
    "Run the code below. Input Rock then Romcom. What is the result?\n",
    "Run it again and input Rap and Horror. What is the result?\n",
    "Run it again and input Rock and Horror. What is the result?\n",
    "Run it again and input Rap and Romcom. What is the result?\n",
    "\n",
    "Explain what the code does. What is the symbol for AND?"
   ]
  },
  {
   "cell_type": "code",
   "execution_count": 17,
   "metadata": {},
   "outputs": [
    {
     "name": "stdout",
     "output_type": "stream",
     "text": [
      "What is your favourite music?\n",
      "Rock\n",
      "Which is your favourite film genre?\n",
      "Rap\n",
      "We are NOT compatible!\n"
     ]
    }
   ],
   "source": [
    "// Do you like the same things as me?\n",
    "//\n",
    "public static void areWeCompatible ()\n",
    "{\n",
    "    String music = inputString(\"What is your favourite music?\");\n",
    "    String films = inputString(\"Which is your favourite film genre?\"); \n",
    "    \n",
    "    if ( music.equals(\"Rock\") & films.equals(\"Horror\") )\n",
    "    {\n",
    "        System.out.println(\"We are totally compatible!\");        \n",
    "    }   \n",
    "    else\n",
    "    {\n",
    "        System.out.println(\"We are NOT compatible!\");\n",
    "    } \n",
    "    \n",
    "}\n",
    "\n",
    "areWeCompatible();"
   ]
  },
  {
   "cell_type": "markdown",
   "metadata": {},
   "source": [
    "####  Exercise 6\n",
    "\n",
    "Modify the program below to check if we are compatible over favourite sport as well. Assume my favourite sport is Tennis."
   ]
  },
  {
   "cell_type": "code",
   "execution_count": 17,
   "metadata": {},
   "outputs": [
    {
     "name": "stdout",
     "output_type": "stream",
     "text": [
      "What is your favourite music?\n",
      "Rock\n",
      "Which is your favourite film genre?\n",
      "Rap\n",
      "We are NOT compatible!\n"
     ]
    }
   ],
   "source": [
    "// Do you like the same things as me?\n",
    "//\n",
    "public static void areWeCompatible ()\n",
    "{\n",
    "    String music = inputString(\"What is your favourite music?\");\n",
    "    String films = inputString(\"Which is your favourite film genre?\");\n",
    "    \n",
    "    if ( music.equals(\"Rock\") & films.equals(\"Horror\") )\n",
    "    {\n",
    "        System.out.println(\"We are totally compatible!\");        \n",
    "    }   \n",
    "    else\n",
    "    {\n",
    "        System.out.println(\"We are NOT compatible!\");\n",
    "    } \n",
    "    \n",
    "}\n",
    "\n",
    "areWeCompatible();"
   ]
  },
  {
   "cell_type": "markdown",
   "metadata": {},
   "source": [
    "###  Combining Logical connectives\n",
    "####  Exercise 7\n",
    "\n",
    "Explore what the following fragment does by reading and running it. "
   ]
  },
  {
   "cell_type": "code",
   "execution_count": 23,
   "metadata": {},
   "outputs": [
    {
     "name": "stdout",
     "output_type": "stream",
     "text": [
      "The city is in Egypt\n"
     ]
    }
   ],
   "source": [
    "String city = \"Alexandria\";\n",
    "       \n",
    "if (! city.equals(\"Cairo\") & ! city.equals(\"Alexandria\") )\n",
    "{\n",
    "    System.out.println(\"The city is NOT in Egypt\");        \n",
    "}   \n",
    "else\n",
    "{\n",
    "    System.out.println(\"The city is in Egypt\");\n",
    "}   \n"
   ]
  },
  {
   "cell_type": "markdown",
   "metadata": {},
   "source": [
    "*Once you have done the above exercises (and understand how if statements work) move on to doing the actual programming exercises, writing full programs. You must be able to write full programs, not just fragments.*"
   ]
  },
  {
   "cell_type": "markdown",
   "metadata": {},
   "source": [
    "## Solutions\n",
    "\n",
    "### Exercise 1\n",
    "\n",
    "The program is in an if-then-else staircase that checks the city given against a series of known cities. When it finds a match it prints the country and then skips the rest and jumps beyond the if-then-else staircase to the final print statement. It always finishes by printing the Happy to help statement.\n",
    "\n",
    "```java\n",
    "// Allow a single string to be input, printing the given message as prompt\n",
    "//\n",
    "public static String inputString (String message)\n",
    "{\n",
    "       Scanner scanner = new Scanner(System.in);\n",
    "       String answer;\n",
    "\n",
    "       System.out.println(message);\n",
    "       answer = scanner.nextLine();\n",
    "   \n",
    "       return answer;\n",
    "} // END inputString\n",
    "\n",
    "\n",
    "\n",
    "// Given a city work out what country a person is in.\n",
    "//\n",
    "public static void identifyCOuntry ()\n",
    "{\n",
    "    String name = \"Bilal\";\n",
    "    String city = inputString(\"Which city is \" + name + \" in?\");\n",
    "\n",
    "    if (city.equals(\"Tokyo\"))\n",
    "    {\n",
    "        System.out.println(name + \" is in Japan\");        \n",
    "    }   \n",
    "    else if (city.equals(\"Santiago\"))\n",
    "    {\n",
    "        System.out.println(name + \" is in Chile\");        \n",
    "    }   \n",
    "    else  if (city.equals(\"Wellington\"))\n",
    "    {\n",
    "        System.out.println(name + \" is in New Zealand\");        \n",
    "    }   \n",
    "    else\n",
    "    {\n",
    "        System.out.println(\"I do not know where that is.\");\n",
    "    } \n",
    "    \n",
    "    System.out.println(\"Always here to help.\");\n",
    "\n",
    "}\n",
    "\n",
    "identifyCOuntry();\n",
    "```\n",
    "\n",
    "### Exercise 2\n",
    "\n",
    "A vertical bar (|) means OR in JAVA. It can be used to combine two complete boolean expressions to make a new boolean expression.\n",
    "\n",
    "\n",
    "```java\n",
    "// State what kind of movie a particular film is\n",
    "//\n",
    "public static void kindOfMovie3 ()\n",
    "{\n",
    "    String movie = inputString(\"Name a movie\");\n",
    "         \n",
    "    if ( movie.equals(\"Spiderman\") | movie.equals(\"Batman\")  |\n",
    "         movie.equals(\"Black Panther\") | movie.equals(\"Captain Marvel\"))\n",
    "    {\n",
    "        System.out.println(\"That is a Superhero film\");        \n",
    "    }\n",
    "    else  if ( movie.equals(\"Star Wars\") | movie.equals(\"Blade Runner\") )\n",
    "    {\n",
    "        System.out.println(\"That is a Science Fiction film\");        \n",
    "    }\n",
    "    else\n",
    "    {\n",
    "        System.out.println(\"That is not a superhero film\");        \n",
    "    }   \n",
    "}\n",
    "\n",
    "kindOfMovie3();\n",
    "```\n",
    "\n",
    "### Exercise 3\n",
    "An exclamation mark (!) is used to mean NOT in Java. \n",
    "\n",
    "Here it means the if the city is NOT equal to Cairo then take the first branch, otherwise take the second.\n",
    "\n",
    "\n",
    "### Exercise 4\n",
    "You need to negate the test adding ! (NOT) to the test.\n",
    "\n",
    "```java\n",
    "//Compare two cities to see if they are the same\n",
    "//\n",
    "public static void compareCities2 ()\n",
    "{\n",
    "    String city1 = inputString(\"Which city is Clary in?\");\n",
    "    String city2 = inputString(\"Which city is Tessa in?\"); \n",
    "    \n",
    "    if (! city1.equals(city2))\n",
    "    {\n",
    "        System.out.println(\"Tessa and Clary are in different places.\");        \n",
    "    }   \n",
    "    else\n",
    "    {\n",
    "        System.out.println(\"Tessa and Clary are in the same place.\");\n",
    "    } \n",
    "    \n",
    "}\n",
    "\n",
    "compareCities2();\n",
    "```\n",
    "\n",
    "### Exercise 5\n",
    "The code only prints that you are compatoble if BOTH the music AND the films liked are the same. If either are different it says that you are incompatible. It does this by combining two separate tests. Only of both are true is the whole true.\n",
    "\n",
    "The symbol for AND in Java is (&)\n",
    "\n",
    "### Exercise 6\n",
    "\n",
    "You just need to add an extra question stored in a further variable, and then add an additional boolean expression  to the test joined by another & connective.\n",
    "\n",
    "```java\n",
    "// Do you like the same things as me?\n",
    "//\n",
    "public static void areWeCompatible2 ()\n",
    "{\n",
    "    String music = inputString(\"What is your favourite music?\");\n",
    "    String films = inputString(\"Which is your favourite film genre?\");\n",
    "    String sport = inputString(\"What is your favourite sport?\");\n",
    "    \n",
    "    if ( music.equals(\"Rock\") & films.equals(\"Horror\") & sport.equals(\"Tennis\"))\n",
    "    {\n",
    "        System.out.println(\"We are totally compatible!\");        \n",
    "    }   \n",
    "    else\n",
    "    {\n",
    "        System.out.println(\"We are NOT compatible!\");\n",
    "    } \n",
    "    \n",
    "}\n",
    "\n",
    "areWeCompatible2();\n",
    "```\n",
    "\n",
    "### Exercise 7\n",
    "If the city is either Cairo or Alexandria then it will print that it is in Egypt. Otherwise it prints that it is not. However, it does this by checking that is is NOT Cairo AND it is NOT Alexandria. If it is neither then it prints that it is not in Egypt.\n"
   ]
  }
 ],
 "metadata": {
  "kernelspec": {
   "display_name": "Java",
   "language": "java",
   "name": "java"
  },
  "language_info": {
   "codemirror_mode": "java",
   "file_extension": ".jshell",
   "mimetype": "text/x-java-source",
   "name": "Java",
   "pygments_lexer": "java",
   "version": "11.0.4+11-LTS"
  }
 },
 "nbformat": 4,
 "nbformat_minor": 2
}
