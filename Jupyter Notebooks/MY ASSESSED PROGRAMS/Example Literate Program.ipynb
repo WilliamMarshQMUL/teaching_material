{
 "cells": [
  {
   "cell_type": "markdown",
   "metadata": {},
   "source": [
    "# Assessment: Example Literate Program\n",
    "## Paul Curzon\n",
    "\n",
    "Each of your assessed programs should be written in two forms: as a literate program in a notebook and as a complete program.\n",
    "\n",
    "The document below is an example of a literate program of the kind you are expected to produce for the assessed programs.\n",
    "\n",
    "### Literate Program style required:\n",
    "- The notebook should start with a statement of the question\n",
    "- Each method should have a detailed description as text (in Markdown) before the method \n",
    "- It should describe in detail how it works, essentially giving an argument that it does work as required\n",
    "- Programs should **also** be commented as below.\n",
    "\n",
    "### Comments\n",
    "- The program as a whole should start with a comment that includes\n",
    "    - Author\n",
    "    - Date\n",
    "    - Version (eg changing version after each time it has been assessed if assessed multiple times)\n",
    "    - An overview of its purpose\n",
    "- Each method should be preceded by a comment explaining what its purpose is \n",
    "    - what it does (not how it does it)\n",
    "- Specific tricky detail may have specific comments explaining how it works \n"
   ]
  },
  {
   "cell_type": "markdown",
   "metadata": {},
   "source": []
  }
 ],
 "metadata": {
  "kernelspec": {
   "display_name": "Java",
   "language": "java",
   "name": "java"
  },
  "language_info": {
   "codemirror_mode": "java",
   "file_extension": ".jshell",
   "mimetype": "text/x-java-source",
   "name": "Java",
   "pygments_lexer": "java",
   "version": "11.0.8+10-LTS"
  }
 },
 "nbformat": 4,
 "nbformat_minor": 4
}
