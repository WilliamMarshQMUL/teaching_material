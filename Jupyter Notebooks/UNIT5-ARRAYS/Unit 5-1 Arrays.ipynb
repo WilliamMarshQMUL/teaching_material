{
 "cells": [
  {
   "cell_type": "markdown",
   "metadata": {},
   "source": [
    "# Unit 5 Part 1: Simple use of Arrays\n",
    "\n",
    "## Interactive Programming Exercises\n",
    "\n",
    "### Learning Outcomes\n",
    "- Write simple programs using arrays\n",
    "\n",
    "*This notebook looks at code fragments. After completing these exercises you MUST then go on to write full programs - see the programming exercises in the workbook.*\n",
    "\n",
    "**Answers to exercises are given at the end**\n"
   ]
  },
  {
   "cell_type": "markdown",
   "metadata": {},
   "source": [
    "## What is an array\n",
    "We often need to store and manipulate bulk data of the same type (such as the names of all the players in a tennis tournament). That is what arrays are for.\n",
    "\n",
    "Arrays are a way to store lots of values, instead of just one, in a single variable. All the values must be **of the same type**. You can think of a variable of type array as having lots of separate compartments, like a cabinet full of lots of identically sized drawers, with one thing stored in each drawer. \n",
    "\n",
    "A program can get at all values using the single variable name. The separate values are referred to by a number which gives the position or **index** of where it can be found. So it is as though each drawer of the cabinet has a number labelling it. To get at a particular drawer you give the cabinet's name and the number of the drawer.\n",
    "\n",
    "The index position of an array starts at 0, so the first position in an array is the 0th position."
   ]
  },
  {
   "cell_type": "markdown",
   "metadata": {},
   "source": [
    "### Exercise 1\n",
    "\n",
    "Run the following code fragment. Try changing the numbers 0  and 1 in the code to 2 and 3. What does it now do? Modify it so that it prints out the colours Blue and Violet in a similar way to  prinitng what it currently does. "
   ]
  },
  {
   "cell_type": "code",
   "execution_count": null,
   "metadata": {
    "scrolled": true
   },
   "outputs": [],
   "source": [
    "String [] colours_of_rainbow = {\"Red\", \"Orange\", \"Yellow\", \"Green\", \"Blue\", \"Indigo\", \"Violet\"};\n",
    "\n",
    "System.out.println(colours_of_rainbow [0]);\n",
    "System.out.println(colours_of_rainbow [1]);\n"
   ]
  },
  {
   "cell_type": "markdown",
   "metadata": {},
   "source": [
    "### Exercise 2\n",
    "\n",
    "Explain as best as you can what the above code fragment does."
   ]
  },
  {
   "cell_type": "markdown",
   "metadata": {},
   "source": [
    "**Write your explanation here**\n"
   ]
  },
  {
   "cell_type": "markdown",
   "metadata": {},
   "source": [
    "### Exercise 3\n",
    "\n",
    "Write a fragment of code that it declares a variable of type String array called star_wars_films that holds the names of the main 9 films, in order then accesses and prints the last one \"The Rise of Skywalker\".\n",
    "\n",
    "The 9 films are:\n",
    "The Phantom Menace, Attack of the Clones, Revenge of the Sith, A New Hope, The Empire Strikes Back, Return of the Jedi, The Force Awakens, The Last Jedi, The Rise of Skywalker\n"
   ]
  },
  {
   "cell_type": "code",
   "execution_count": null,
   "metadata": {},
   "outputs": [],
   "source": [
    "// Write your code here\n"
   ]
  },
  {
   "cell_type": "markdown",
   "metadata": {},
   "source": [
    "## Summary so far\n",
    "## Declaring and initialising an array\n",
    "\n",
    "The array type is just the type of the values it stores followed by square brackets []. So to decalre an array of Strings called level we would write\n",
    "```java\n",
    "String[] level;\n",
    "```\n",
    "We can initialise an array with a value when it is declared by putting the list of values for each element in curly brackets, so to store String values LOW, MEDIUM and HIGH in level when it is declared we would write\n",
    "```java\n",
    "String[] level = {\"LOW\", \"MEDIUM\", \"HIGH\"};\n",
    "```\n",
    "## Accessing the value in an array\n",
    "To access a value in an array we just give the index number, remembering that they start counting at 0. SO to access the value \"MEDIUM\"  in the above array we would write.\n",
    "```java\n",
    "level[1]\n",
    "```\n",
    "If we wanted to print that value we would write\n",
    "```java\n",
    "System.out.println(level[1]);\n",
    "```\n",
    "If we wanted to pull the value out and store it on its own in a String variable called current_level, we would write\n",
    "```java\n",
    "String current_level = level[1];\n",
    "```"
   ]
  },
  {
   "cell_type": "markdown",
   "metadata": {},
   "source": [
    "### Exercise 4\n",
    "\n",
    "Edit the following code fragment so it prints out ALL of the colours of the rainbow in the same way"
   ]
  },
  {
   "cell_type": "code",
   "execution_count": null,
   "metadata": {},
   "outputs": [],
   "source": [
    "String [] colours_of_rainbow = {\"Red\", \"Orange\", \"Yellow\", \"Green\", \"Blue\", \"Indigo\", \"Violet\"};\n",
    "\n",
    "System.out.println(colours_of_rainbow [0]);\n",
    "System.out.println(colours_of_rainbow [1]);\n"
   ]
  },
  {
   "cell_type": "markdown",
   "metadata": {},
   "source": [
    "### Exercise 5\n",
    "\n",
    "Edit the following code fragment so it prints out all of the values from the array but so they are printed in the opposite order, starting with Violet. Check it works."
   ]
  },
  {
   "cell_type": "code",
   "execution_count": null,
   "metadata": {},
   "outputs": [],
   "source": [
    "String [] colours_of_rainbow = {\"Red\", \"Orange\", \"Yellow\", \"Green\", \"Blue\", \"Indigo\", \"Violet\"};\n",
    "\n",
    "System.out.println(colours_of_rainbow [1]);\n",
    "System.out.println(colours_of_rainbow [1]);\n",
    "System.out.println(colours_of_rainbow [1]);\n",
    "System.out.println(colours_of_rainbow [1]);\n",
    "System.out.println(colours_of_rainbow [1]);\n",
    "System.out.println(colours_of_rainbow [1]);\n",
    "System.out.println(colours_of_rainbow [1]);\n"
   ]
  },
  {
   "cell_type": "markdown",
   "metadata": {},
   "source": [
    "### Exercise 6\n",
    "\n",
    "Run the code fragment in the box below and see if you can work out what it does. \n",
    "\n",
    "What will it print if you change the print lines to\n",
    "```java\n",
    "System.out.println(colours_of_rainbow [2]);\n",
    "System.out.println(colours_of_rainbow [3]);\n",
    "```\n",
    "What will it do if you change the print lines to\n",
    "```java\n",
    "System.out.println(colours_of_rainbow [5]);\n",
    "System.out.println(colours_of_rainbow [6]);\n",
    "```"
   ]
  },
  {
   "cell_type": "code",
   "execution_count": null,
   "metadata": {},
   "outputs": [],
   "source": [
    "String [] colours_of_rainbow = {\"Red\", \"Orange\", \"Yellow\", \"Green\", \"Blue\", \"Indigo\", \"Violet\"};\n",
    "\n",
    "colours_of_rainbow[0] = \"RED\";\n",
    "colours_of_rainbow[1] = \"ORANGE\";\n",
    "colours_of_rainbow[2] = \"YELLOW\";\n",
    "colours_of_rainbow[3] = \"GREEN\";\n",
    "System.out.println(colours_of_rainbow [0]);\n",
    "System.out.println(colours_of_rainbow [1]);\n"
   ]
  },
  {
   "cell_type": "markdown",
   "metadata": {},
   "source": [
    "### Exercise 7\n",
    "\n",
    "Modify the code fragment below so that it uses assignment to change the initial values of all entries in the array to the upper case equivalent (ie in capital letters) and then prints the whole array (all the positions)."
   ]
  },
  {
   "cell_type": "code",
   "execution_count": null,
   "metadata": {},
   "outputs": [],
   "source": [
    "String [] colours_of_rainbow = {\"Red\", \"Orange\", \"Yellow\", \"Green\", \"Blue\", \"Indigo\", \"Violet\"};\n",
    "\n",
    "colours_of_rainbow[0] = \"RED\";\n",
    "colours_of_rainbow[1] = \"ORANGE\";\n",
    "colours_of_rainbow[2] = \"YELLOW\";\n",
    "colours_of_rainbow[3] = \"GREEN\";\n",
    "System.out.println(colours_of_rainbow [0]);\n",
    "System.out.println(colours_of_rainbow [1]);\n"
   ]
  },
  {
   "cell_type": "markdown",
   "metadata": {},
   "source": [
    "### Exercise 8\n",
    "\n",
    "Predict what the following will do. Modify it to print the first entry of the array (ie Red) by changing only one number in the code."
   ]
  },
  {
   "cell_type": "code",
   "execution_count": null,
   "metadata": {},
   "outputs": [],
   "source": [
    "String [] colours_of_rainbow = {\"Red\", \"Orange\", \"Yellow\", \"Green\", \"Blue\", \"Indigo\", \"Violet\"};\n",
    "int position = 6;\n",
    "\n",
    "System.out.println(colours_of_rainbow [position]);"
   ]
  },
  {
   "cell_type": "markdown",
   "metadata": {},
   "source": [
    "### Exercise 9\n",
    "\n",
    "Run the following then explain what it does. Predict what will happen if you change the value stored in variable position to 5. How has the array changed in each case. Add code as in the earlier exercises to print all the values in the array as the last step to check if you are right."
   ]
  },
  {
   "cell_type": "code",
   "execution_count": null,
   "metadata": {},
   "outputs": [],
   "source": [
    "String [] colours_of_rainbow = {\"Red\", \"Orange\", \"Yellow\", \"Green\", \"Blue\", \"Indigo\", \"Violet\"};\n",
    "int position = 4;\n",
    "\n",
    "colours_of_rainbow[position] = \"BLACK\";\n",
    "\n",
    "System.out.println(colours_of_rainbow [position]);"
   ]
  },
  {
   "cell_type": "markdown",
   "metadata": {},
   "source": [
    "## Storing values in an array\n",
    "You store values in an array in a similar way to the way you get them out by giving the name and the index position. So to overwrite the old value with \"MIDDLE\" in  position 1 of an array level we would write\n",
    "```java\n",
    "level[1] = \"MIDDLE\";\n",
    "```\n",
    "\n",
    "We can use a variable to hold the position of the array we want to access (whether putting a value in or taking a value out). So the following does the same as the above.\n",
    "\n",
    "```java\n",
    "int position = 1;\n",
    "level[position] = \"MIDDLE\";\n",
    "```\n",
    "It is this that gives arrays great flexibility over just having a different variable for each value you want to store."
   ]
  },
  {
   "cell_type": "markdown",
   "metadata": {},
   "source": [
    "### Exercise 10\n",
    "Predict what the following code will do. Run it to check you are right, then explain what is happening."
   ]
  },
  {
   "cell_type": "code",
   "execution_count": null,
   "metadata": {},
   "outputs": [],
   "source": [
    "int[] three_times_table = {0,3,6,9,12,15,18,21,24,27,30};\n",
    "\n",
    "int times_number = 6;\n",
    "\n",
    "System.out.println(\"Three times \" + times_number + \" is \" + three_times_table [times_number]);"
   ]
  },
  {
   "cell_type": "markdown",
   "metadata": {},
   "source": [
    "**Write your explanation here**\n"
   ]
  },
  {
   "cell_type": "markdown",
   "metadata": {},
   "source": [
    "## Lookup tables\n",
    "The above is an example of a **data structure** called a **lookup table**. Precomputed answers to times table problems are stored in the array. Answers can then be looked up using the index to find the right answer."
   ]
  },
  {
   "cell_type": "markdown",
   "metadata": {},
   "source": [
    "### Exercise 11\n",
    "Modify this code to print answers to 9 times table problems up to 9x12, looking up and printing the answer to 9 x 11"
   ]
  },
  {
   "cell_type": "code",
   "execution_count": null,
   "metadata": {},
   "outputs": [],
   "source": [
    "int[] three_times_table = {0,3,6,9,12,15,18,21,24,27,30};\n",
    "\n",
    "int times_number = 6;\n",
    "\n",
    "System.out.println(\"3 x \" + times_number + \" = \" + three_times_table [times_number]);"
   ]
  },
  {
   "cell_type": "markdown",
   "metadata": {},
   "source": [
    "## Summary so far\n",
    "Array values combine lots of simpler values of the same type (eg all ints or all Strings) into one new compound value that can be stored in a single variable with a single name. The separate vales are accessed by their index. The index is just their position: a number counting from 0. You can use the index to access the separate positions of an array variable. So for an array a, a[0] is position 0, a[1] is position 1. You can think of these as similar to individual variables. You can print values stored in an array or assign new values in particular positions in this way. For example,\n",
    "a[5] = \"Hello\"; stores a new value in position 5 of array a, and System.out.println(a[5]) prints that value.\n",
    "\n",
    "It is however more flexible than having lots of separate variables as we can replace the index by a variable that the program changes. As we will see in the next notebook, that allows us to process arrays using for loops."
   ]
  },
  {
   "cell_type": "markdown",
   "metadata": {},
   "source": [
    "*Once you have done the above exercises (and understand how the concepts work) move on to doing the actual programming exercises from the handbook, writing full programs. You must be able to write full programs, not just fragments.*"
   ]
  },
  {
   "cell_type": "markdown",
   "metadata": {},
   "source": [
    "## Solutions\n",
    "\n",
    "### Exercise 1\n",
    "\n",
    "It initially prints out \n",
    "```\n",
    "Red\n",
    "Orange\n",
    "```\n",
    "Changing the numbers (which give positions in the array) to 2 and 3 means\n",
    "```\n",
    "Yellow\n",
    "Green\n",
    "```\n",
    "is printed instead\n",
    "\n",
    "Code to print Blue and Indigo would be:\n",
    "\n",
    "```java\n",
    "String [] colours_of_rainbow = {\"Red\", \"Orange\", \"Yellow\", \"Green\", \"Blue\", \"Indigo\", \"Violet\"};\n",
    "\n",
    "System.out.println(colours_of_rainbow [4]);\n",
    "System.out.println(colours_of_rainbow [6]);\n",
    "```\n",
    "\n",
    "### Exercise 2\n",
    "\n",
    "Overall:\n",
    "It creates an array with the different colous of the rainbow (as Strings) stored in each array position.\n",
    "It then pulls out the value in the 0th position and prints it and then pulls out the value from the 1st position and prints it.\n",
    "\n",
    "Line by line:\n",
    "The first part of the first line\n",
    "```java\n",
    "String [] colours_of_rainbow\n",
    "```\n",
    "just declares a variable called colours_of_rainbow that has type String[]\n",
    "\n",
    "The rest of the line is just initialising this with an array value cosnisting of the 7 colours of the rainbow.\n",
    "```java\n",
    "= {\"Red\", \"Orange\", \"Yellow\", \"Green\", \"Blue\", \"Indigo\", \"Violet\"};\n",
    "```\n",
    "\n",
    "Array values are enclosed in curly brackets with the component values separated by commas. The whole thing is a single array value.\n",
    "The next two lines extract and print individual values from this array. The first:\n",
    "\n",
    "```java\n",
    "System.out.println(colours_of_rainbow [0]);\n",
    "```\n",
    "accesses the 0th value from array colours_of_rainbow (which is the String \"Red\" and prints it. The next one\n",
    "\n",
    "```java\n",
    "System.out.println(colours_of_rainbow [1]);\n",
    "```\n",
    "does the same for the value in position 1 which is \"Orange\"\n",
    "\n",
    "### Exercise 3\n",
    "```java\n",
    "String [] star_wars_films = {\"The Phantom Menace\", \"Attack of the Clones\", \"Revenge of the Sith\",\n",
    "                             \"A New Hope\", \"The Empire Strikes Back\", \"Return of the Jedi\",\n",
    "                             \"The Force Awakens\", \"The Last Jedi\", \"The Rise of Skywalker\"};\n",
    "\n",
    "System.out.println(star_wars_films [8]);\n",
    "```\n",
    "\n",
    "### Exercise 4\n",
    "\n",
    "```java\n",
    "String [] colours_of_rainbow = {\"Red\", \"Orange\", \"Yellow\", \"Green\", \"Blue\", \"Indigo\", \"Violet\"};\n",
    "\n",
    "System.out.println(colours_of_rainbow [0]);\n",
    "System.out.println(colours_of_rainbow [1]);\n",
    "System.out.println(colours_of_rainbow [2]);\n",
    "System.out.println(colours_of_rainbow [3]);\n",
    "System.out.println(colours_of_rainbow [4]);\n",
    "System.out.println(colours_of_rainbow [5]);\n",
    "System.out.println(colours_of_rainbow [6]);\n",
    "```\n",
    "\n",
    "\n",
    "### Exercise 5\n",
    "\n",
    "```java\n",
    "String [] colours_of_rainbow = {\"Red\", \"Orange\", \"Yellow\", \"Green\", \"Blue\", \"Indigo\", \"Violet\"};\n",
    "\n",
    "SSystem.out.println(colours_of_rainbow [6]);\n",
    "System.out.println(colours_of_rainbow [5]);\n",
    "System.out.println(colours_of_rainbow [4]);\n",
    "System.out.println(colours_of_rainbow [3]);\n",
    "System.out.println(colours_of_rainbow [2]);\n",
    "System.out.println(colours_of_rainbow [1]);\n",
    "System.out.println(colours_of_rainbow [0]);\n",
    "```\n",
    "\n",
    "### Exercise 6\n",
    "It initially prints\n",
    "```\n",
    "RED\n",
    "ORANGE\n",
    "```\n",
    "Change the print lines to print positions 2 and 3 and it will print.\n",
    "```\n",
    "YELLOW\n",
    "GREEN\n",
    "```\n",
    "Change the print lines to print positions 5 and 6 and it will print.\n",
    "```\n",
    "Indigo\n",
    "Violet\n",
    "```\n",
    "The values in the early positions in the array have been changed by the assignments, but no changes have been made to the last positions so they still have the original values.\n",
    "\n",
    "### Exercise 7\n",
    "```java\n",
    "String [] colours_of_rainbow = {\"Red\", \"Orange\", \"Yellow\", \"Green\", \"Blue\", \"Indigo\", \"Violet\"};\n",
    "\n",
    "colours_of_rainbow[0] = \"RED\";\n",
    "colours_of_rainbow[1] = \"ORANGE\";\n",
    "colours_of_rainbow[2] = \"YELLOW\";\n",
    "colours_of_rainbow[3] = \"GREEN\";\n",
    "colours_of_rainbow[4] = \"BLUE\";\n",
    "colours_of_rainbow[5] = \"INDIGO\";\n",
    "colours_of_rainbow[6] = \"VIOLET\";\n",
    "\n",
    "System.out.println(colours_of_rainbow [0]);\n",
    "System.out.println(colours_of_rainbow [1]);\n",
    "System.out.println(colours_of_rainbow [2]);\n",
    "System.out.println(colours_of_rainbow [3]);\n",
    "System.out.println(colours_of_rainbow [4]);\n",
    "System.out.println(colours_of_rainbow [5]);\n",
    "System.out.println(colours_of_rainbow [6]);\n",
    "```\n",
    "\n",
    "### Exercise 8\n",
    "It prints violet\n",
    "\n",
    "To make it print Red we just change the position to 0.\n",
    "\n",
    "```java\n",
    "String [] colours_of_rainbow = {\"Red\", \"Orange\", \"Yellow\", \"Green\", \"Blue\", \"Indigo\", \"Violet\"};\n",
    "int position = 0;\n",
    "\n",
    "System.out.println(colours_of_rainbow [position]);\n",
    "```\n",
    "\n",
    "### Exercise 9\n",
    "\n",
    "It prints\n",
    "```\n",
    "BLACK\n",
    "```\n",
    "because we change the value in position 4 to BLACK overwriting what was previously there and then look it up.\n",
    "If we change the code to make the value of variable position 3, then it will still print BLACK. This time however \n",
    "it will have changed the third position to BLACK and then gone to that position to retrieve that changed value (Ie the String \"BLACK\".\n",
    "\n",
    "String [] colours_of_rainbow = {\"Red\", \"Orange\", \"Yellow\", \"Green\", \"Blue\", \"Indigo\", \"Violet\"};\n",
    "int position = 4;\n",
    "\n",
    "colours_of_rainbow[position] = \"BLACK\";\n",
    "\n",
    "System.out.println(colours_of_rainbow [position]);\n",
    "\n",
    "\n",
    "\n",
    "### Exercise 10\n",
    "\n",
    "It prints\n",
    "```\n",
    "Three times 6 is 18\n",
    "```\n",
    "\n",
    "This time it has created an array of integers so every value in it is an integer. In this case the array\n",
    "stores the numbers of the three times table. in the correspponding index position. SO in position 6 you find the answer to 3x6 ie 18 (remembering that the indices start from 0 - which is thew why the first value in the array is 0 to give the answer 3x0 = 0.\n",
    "\n",
    "The print code looks up in the array the value at position 6 so then prints out that as the answer.\n",
    "\n",
    "### Exercise 11\n",
    "\n",
    "```java\n",
    "int[] nine_times_table = {0,9,18,27,36,45,54,63,72,81,90,99,108};\n",
    "\n",
    "int times_number = 11;\n",
    "\n",
    "System.out.println(\"9 x \" + times_number + \" = \" + nine_times_table [times_number]);\n",
    "```"
   ]
  }
 ],
 "metadata": {
  "kernelspec": {
   "display_name": "Java",
   "language": "java",
   "name": "java"
  },
  "language_info": {
   "codemirror_mode": "java",
   "file_extension": ".jshell",
   "mimetype": "text/x-java-source",
   "name": "Java",
   "pygments_lexer": "java",
   "version": "11.0.8+10-LTS"
  }
 },
 "nbformat": 4,
 "nbformat_minor": 2
}
