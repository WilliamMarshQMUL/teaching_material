{
 "cells": [
  {
   "cell_type": "markdown",
   "metadata": {},
   "source": [
    "# Unit 2 Part 1: Assignment\n",
    "\n",
    "## Interactive Programming Exercises\n",
    "\n",
    "### Learning Outcomes\n",
    "- Write programs using sequences of assignments\n",
    "\n",
    "*This notebook looks at code fragments. After completing these exercises you MUST then go on to write full programs - see the programming exercises in the workbook.\n",
    "\n",
    "Answers to exercises are given at the end*\n"
   ]
  },
  {
   "cell_type": "markdown",
   "metadata": {},
   "source": [
    "### Exercise 1\n",
    "\n",
    "Read the following code fragment and decide what you think it will do. Run it and see if you are right.\n",
    "Explain what it does.\n",
    "\n",
    "**Write your explanation here**\n"
   ]
  },
  {
   "cell_type": "code",
   "execution_count": 1,
   "metadata": {},
   "outputs": [
    {
     "name": "stdout",
     "output_type": "stream",
     "text": [
      "RED\n"
     ]
    }
   ],
   "source": [
    "String colour;\n",
    "\n",
    "colour = \"BLUE\";\n",
    "\n",
    "System.out.println(colour);"
   ]
  },
  {
   "cell_type": "markdown",
   "metadata": {},
   "source": [
    "*Once you have done the above exercises (and understand how the concepts work) move on to doing the actual programming exercises from the handbook, writing full programs. You must be able to write full programs, not just fragments.*"
   ]
  },
  {
   "cell_type": "markdown",
   "metadata": {},
   "source": [
    "## Solutions\n",
    "\n",
    "### Exercise 1\n",
    "\n",
    "\n",
    "### Exercise 2\n",
    "\n",
    "\n",
    "\n",
    "### Exercise 3\n",
    "\n",
    "\n",
    "\n",
    "### Exercise 4\n",
    "\n",
    "\n",
    "\n",
    "### Exercise 5\n",
    "\n",
    "\n",
    "\n",
    "### Exercise 6\n",
    "\n",
    "\n",
    "\n",
    "### Exercise 7\n",
    "\n",
    "\n",
    "\n",
    "### Exercise 8\n",
    "\n",
    "### Exercise 9\n",
    "\n",
    "\n",
    "### Exercise 10\n",
    "\n",
    "### Exercise 11\n",
    "\n"
   ]
  }
 ],
 "metadata": {
  "kernelspec": {
   "display_name": "Java",
   "language": "java",
   "name": "java"
  },
  "language_info": {
   "codemirror_mode": "java",
   "file_extension": ".jshell",
   "mimetype": "text/x-java-source",
   "name": "Java",
   "pygments_lexer": "java",
   "version": "11.0.4+11-LTS"
  }
 },
 "nbformat": 4,
 "nbformat_minor": 2
}
