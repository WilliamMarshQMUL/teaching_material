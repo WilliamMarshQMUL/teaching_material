{
 "cells": [
  {
   "cell_type": "markdown",
   "metadata": {},
   "source": [
    "# Unit 5 Part 1: Assignment\n",
    "\n",
    "## Interactive Programming Exercises\n",
    "\n",
    "### Learning Outcomes\n",
    "- Write programs using arrays\n",
    "\n",
    "*This notebook looks at code fragments. After completing these exercises you MUST then go on to write full programs - see the programming exercises in the workbook.\n",
    "\n",
    "Answers to exercises are given at the end*\n"
   ]
  },
  {
   "cell_type": "markdown",
   "metadata": {},
   "source": [
    "### Exercise 1\n",
    "\n",
    "Run the following code fragment then read it to see if you can work out how it does what it is doing.\n",
    "Explain as best as you can what it does."
   ]
  },
  {
   "cell_type": "code",
   "execution_count": 7,
   "metadata": {},
   "outputs": [
    {
     "name": "stdout",
     "output_type": "stream",
     "text": [
      "Red\n",
      "Orange\n"
     ]
    }
   ],
   "source": [
    "String [] colours_of_rainbow = {\"Red\", \"Orange\", \"Yellow\", \"Green\", \"Blue\", \"Indigo\", \"Violet\"};\n",
    "\n",
    "System.out.println(colours_of_rainbow [0]);\n",
    "System.out.println(colours_of_rainbow [1]);\n"
   ]
  },
  {
   "cell_type": "markdown",
   "metadata": {},
   "source": [
    "**Write your explanation here**\n"
   ]
  },
  {
   "cell_type": "markdown",
   "metadata": {},
   "source": [
    "### Exercise 2\n",
    "\n",
    "Edit the following code fragment so it prints out all of the colours of the rainbow in the same way"
   ]
  },
  {
   "cell_type": "code",
   "execution_count": 3,
   "metadata": {},
   "outputs": [
    {
     "name": "stdout",
     "output_type": "stream",
     "text": [
      "Red\n",
      "Orange\n"
     ]
    }
   ],
   "source": [
    "String [] colours_of_rainbow = {\"Red\", \"Orange\", \"Yellow\", \"Green\", \"Blue\", \"Indigo\", \"Violet\"};\n",
    "\n",
    "System.out.println(colours_of_rainbow [0]);\n",
    "System.out.println(colours_of_rainbow [1]);\n"
   ]
  },
  {
   "cell_type": "markdown",
   "metadata": {},
   "source": [
    "### Exercise 3\n",
    "\n",
    "Edit the following code fragment so it prints out all of the colours of the rainbow in the same way"
   ]
  },
  {
   "cell_type": "code",
   "execution_count": 3,
   "metadata": {},
   "outputs": [
    {
     "name": "stdout",
     "output_type": "stream",
     "text": [
      "Red\n",
      "Orange\n"
     ]
    }
   ],
   "source": [
    "String [] colours_of_rainbow = {\"Red\", \"Orange\", \"Yellow\", \"Green\", \"Blue\", \"Indigo\", \"Violet\"};\n",
    "\n",
    "System.out.println(colours_of_rainbow [0]);\n",
    "System.out.println(colours_of_rainbow [1]);\n"
   ]
  },
  {
   "cell_type": "markdown",
   "metadata": {},
   "source": [
    "*Once you have done the above exercises (and understand how the concepts work) move on to doing the actual programming exercises from the handbook, writing full programs. You must be able to write full programs, not just fragments.*"
   ]
  },
  {
   "cell_type": "markdown",
   "metadata": {},
   "source": [
    "### Exercise 4\n",
    "\n",
    "Now edit this code fragment so it prints out all of the colours of the rainbow out but in reverse order, starting from Violet. Check it works"
   ]
  },
  {
   "cell_type": "code",
   "execution_count": 4,
   "metadata": {},
   "outputs": [
    {
     "name": "stdout",
     "output_type": "stream",
     "text": [
      "Orange\n",
      "Orange\n",
      "Orange\n",
      "Orange\n",
      "Orange\n",
      "Orange\n",
      "Orange\n"
     ]
    }
   ],
   "source": [
    "String [] colours_of_rainbow = {\"Red\", \"Orange\", \"Yellow\", \"Green\", \"Blue\", \"Indigo\", \"Violet\"};\n",
    "\n",
    "System.out.println(colours_of_rainbow [1]);\n",
    "System.out.println(colours_of_rainbow [1]);\n",
    "System.out.println(colours_of_rainbow [1]);\n",
    "System.out.println(colours_of_rainbow [1]);\n",
    "System.out.println(colours_of_rainbow [1]);\n",
    "System.out.println(colours_of_rainbow [1]);\n",
    "System.out.println(colours_of_rainbow [1]);\n"
   ]
  },
  {
   "cell_type": "markdown",
   "metadata": {},
   "source": [
    "## Solutions\n",
    "\n",
    "### Exercise 1\n",
    "\n",
    "\n",
    "### Exercise 2\n",
    "\n",
    "\n",
    "\n",
    "### Exercise 3\n",
    "\n",
    "\n",
    "\n",
    "### Exercise 4\n",
    "\n",
    "\n",
    "\n",
    "### Exercise 5\n",
    "\n",
    "\n",
    "\n",
    "### Exercise 6\n",
    "\n",
    "\n",
    "\n",
    "### Exercise 7\n",
    "\n",
    "\n",
    "\n",
    "### Exercise 8\n",
    "\n",
    "### Exercise 9\n",
    "\n",
    "\n",
    "### Exercise 10\n",
    "\n",
    "### Exercise 11\n",
    "\n"
   ]
  }
 ],
 "metadata": {
  "kernelspec": {
   "display_name": "Java",
   "language": "java",
   "name": "java"
  },
  "language_info": {
   "codemirror_mode": "java",
   "file_extension": ".jshell",
   "mimetype": "text/x-java-source",
   "name": "Java",
   "pygments_lexer": "java",
   "version": "11.0.4+11-LTS"
  }
 },
 "nbformat": 4,
 "nbformat_minor": 2
}
