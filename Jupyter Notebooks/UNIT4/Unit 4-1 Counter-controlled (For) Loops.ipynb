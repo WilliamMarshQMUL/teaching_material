{
 "cells": [
  {
   "cell_type": "markdown",
   "metadata": {},
   "source": [
    "# Unit 4 Part 1: Counter-controlled  (for) Loops\n",
    "\n",
    "## Interactive Programming Exercises\n",
    "\n",
    "### Learning Outcomes\n",
    "- Write simple counter-controlled loops using for loops in Java\n",
    "\n",
    "*This notebook looks at code fragments. After completing these exercises you MUST then go on to write full programs - see the programming exercises in the workbook.\n",
    "\n",
    "Answers to exercises are given at the end*\n"
   ]
  },
  {
   "cell_type": "markdown",
   "metadata": {},
   "source": [
    "### Exercise 1\n",
    "The following fragment of code uses a simple for loop to do something repeatedly.\n",
    "\n",
    "Run the fragment of code (by clicking in the box with the code and then pressing the **Run** button in the Toolbar above)\n",
    "to see what it does."
   ]
  },
  {
   "cell_type": "raw",
   "metadata": {},
   "source": [
    "for (int i=1; i<=3; i++)\n",
    "{\n",
    "    System.out.println(\"Hello\");\n",
    "}"
   ]
  },
  {
   "cell_type": "markdown",
   "metadata": {},
   "source": [
    "The keyword \n",
    "**for**\n",
    "says that we want to repeat some code."
   ]
  },
  {
   "cell_type": "markdown",
   "metadata": {},
   "source": [
    "### Exercise 2\n",
    "One particular line tells the code to print **Hello** (rather than something else) multiple times.\n",
    "\n",
    "Work out which line that is. \n",
    "\n",
    "On its own it only tells the program to print Hello once though. It it is the rest of the code that says do it multiple times.\n",
    "\n",
    "### Exercise 3\n",
    "\n",
    "Edit the version of the code below to make it do the following:\n",
    "    - Print **Goodbye** 3 times instead of printing Hello.\n",
    "    \n",
    "Run it to check it does what you expect."
   ]
  },
  {
   "cell_type": "code",
   "execution_count": null,
   "metadata": {},
   "outputs": [],
   "source": [
    "for (int i=1; i<=3; i++)\n",
    "{\n",
    "    System.out.println(\"Hello\");\n",
    "}"
   ]
  },
  {
   "cell_type": "markdown",
   "metadata": {
    "slideshow": {
     "slide_type": "fragment"
    }
   },
   "source": [
    "The rest of the line after the keyword for keeps a counter (like you keeping track of something on your fingers).\n",
    "The number to start the count at 1 and to finish the count at 3 are given. The above counts 1 2 3 and then stops. Executing the code in the body of the loop (between the curly brackets) each time it counts.\n",
    "\n",
    "### Exercise 4\n",
    "\n",
    "Edit this version of the code to make it do the following:\n",
    "\n",
    "- Print **Goodbye** 6 times instead of printing it only 3 times.\n",
    "\n",
    "Run it to check it does what you expect."
   ]
  },
  {
   "cell_type": "code",
   "execution_count": null,
   "metadata": {},
   "outputs": [],
   "source": [
    "for (int i=1; i<=3; i++)\n",
    "{\n",
    "    System.out.println(\"Hello\");\n",
    "}"
   ]
  },
  {
   "cell_type": "markdown",
   "metadata": {
    "slideshow": {
     "slide_type": "fragment"
    }
   },
   "source": [
    "Only code inside the loop body is repeated. Any instruction BEFORE the loop happens once. Any instruction placed AFTER the loop also only happens once. \n",
    "\n",
    "### Exercise 5\n",
    "\n",
    "Edit this version of the code to make it:\n",
    "   - Print the message \"Starting List\" THEN\n",
    "   - Print \"Goodbye\" 6 times THEN\n",
    "   - Print the message \"Ending List\"\n",
    "   "
   ]
  },
  {
   "cell_type": "code",
   "execution_count": null,
   "metadata": {
    "scrolled": true
   },
   "outputs": [],
   "source": [
    "System.out.println(\"Before the loop so printed once\");\n",
    "\n",
    "for (int i=1; i<=3; i++)\n",
    "{\n",
    "    System.out.println(\"Hello\");\n",
    "}\n",
    "\n",
    "System.out.println(\"After the loop so printed once\");\n"
   ]
  },
  {
   "cell_type": "markdown",
   "metadata": {},
   "source": [
    "### Exercise 6\n",
    "Predict what the code below will do. Make sure you can explain why. Run it and see if you were right."
   ]
  },
  {
   "cell_type": "code",
   "execution_count": null,
   "metadata": {},
   "outputs": [],
   "source": [
    "for (int i=1; i<=3; i++)\n",
    "{\n",
    "    System.out.println(\"Hello\");\n",
    "    System.out.println(\"Hello\");\n",
    "}"
   ]
  },
  {
   "cell_type": "markdown",
   "metadata": {},
   "source": [
    "### Exercise 7\n",
    "Edit the code below to print \"Hello\" 9 times. The loop should only run three times."
   ]
  },
  {
   "cell_type": "code",
   "execution_count": null,
   "metadata": {},
   "outputs": [],
   "source": [
    "for (int i=1; i<=3; i++)\n",
    "{\n",
    "    System.out.println(\"Hello\");\n",
    "    System.out.println(\"Hello\");\n",
    "}"
   ]
  },
  {
   "cell_type": "markdown",
   "metadata": {},
   "source": [
    "### Exercise 8\n",
    "Edit the code below to print my name 4 times. Paul and Curzon should be on separate lines.\n",
    "ie it should print\n",
    "```\n",
    "Paul\n",
    "Curzon\n",
    "Paul\n",
    "Curzon\n",
    "Paul\n",
    "Curzon\n",
    "Paul\n",
    "Curzon\n",
    "```"
   ]
  },
  {
   "cell_type": "code",
   "execution_count": null,
   "metadata": {},
   "outputs": [],
   "source": [
    "for (int i=1; i<=3; i++)\n",
    "{\n",
    "    System.out.println(\"Hello\");\n",
    "    System.out.println(\"Hello\");\n",
    "}"
   ]
  },
  {
   "cell_type": "markdown",
   "metadata": {},
   "source": [
    "### Exercise 9\n",
    "The variable i is called the loop counter. It is just a variable like any other and can be used in the body to\n",
    "refer to the counter value.\n",
    "\n",
    "Predict what the following does then see if you are right.\n",
    "\n",
    "Edit it to print numbers from 4 to 8 followed by a colon ie:\n",
    "```\n",
    "4:\n",
    "5:\n",
    "6:\n",
    "7:\n",
    "8:\n",
    "```"
   ]
  },
  {
   "cell_type": "code",
   "execution_count": null,
   "metadata": {},
   "outputs": [],
   "source": [
    "for (int i=1; i<=3; i++)\n",
    "{\n",
    "    System.out.println(i + \" THEN\");\n",
    "}"
   ]
  },
  {
   "cell_type": "markdown",
   "metadata": {},
   "source": [
    "### Exercise 10\n",
    "\n",
    "As the loop counter is just a variable it can be changed to anything you like. \n",
    "Edit the following to change the loop counter to a variable called counter.\n"
   ]
  },
  {
   "cell_type": "code",
   "execution_count": null,
   "metadata": {},
   "outputs": [],
   "source": [
    "for (int i=1; i<=3; i++)\n",
    "{\n",
    "    System.out.println(i + \" THEN\");\n",
    "}"
   ]
  },
  {
   "cell_type": "markdown",
   "metadata": {},
   "source": [
    "### Exercise 11\n",
    "Now modify the code below to print the start of the 9 times table\n",
    "ie\n",
    "```\n",
    "9\n",
    "18\n",
    "27\n",
    "36\n",
    "45\n",
    "```\n",
    "HINT: You can multiply by the loop counter."
   ]
  },
  {
   "cell_type": "code",
   "execution_count": null,
   "metadata": {},
   "outputs": [],
   "source": [
    "for (int i=1; i<=3; i++)\n",
    "{\n",
    "    System.out.println(i);\n",
    "}"
   ]
  },
  {
   "cell_type": "markdown",
   "metadata": {},
   "source": [
    "*Once you have done the above exercises (and understand how a for loop works) move on to doing the actual programming exercises, writing full programs. You must be able to write full programs, not just fragments.*"
   ]
  },
  {
   "cell_type": "markdown",
   "metadata": {},
   "source": [
    "# Solutions\n",
    "### Exercise 1\n",
    "It prints hello 3 times each on a separate line\n",
    "Hello\n",
    "Hello\n",
    "Hello\n",
    "\n",
    "### Exercise 2\n",
    "The line that makes it specifically print Hello repeatedly is\n",
    "```java\n",
    "System.out.println(\"Hello\");\n",
    "```\n",
    "\n",
    "\n",
    "### Exercise 3\n",
    "The word Hello within the double quotes  of the print statement is just changed to Goodbye as\n",
    "```java\n",
    "for (int i=1; i<=3; i++)\n",
    "{\n",
    "    System.out.println(\"**Goodbye**\");\n",
    "}\n",
    "```\n",
    "\n",
    "### Exercise 4\n",
    "The number 3 in the first line is changed to 6 as it gives the number to stop at\n",
    "```java\n",
    "for (int i=1; i<=**6**; i++)\n",
    "{\n",
    "    System.out.println(\"Goodbye\");\n",
    "}\n",
    "```\n",
    "\n",
    "### Exercise 5\n",
    "\n",
    "```java\n",
    "System.out.println(\"Starting List\");\n",
    "\n",
    "for (int i=1; i<=3; i++)\n",
    "{\n",
    "    System.out.println(\"Hello\");\n",
    "}\n",
    "\n",
    "System.out.println(\"Ending List\");\n",
    "```\n",
    "\n",
    "### Exercise 6\n",
    "It prints Hello 6 times, once on each line. It does this because the loop runs three times, counting 1,2,3. That means it executes the body (the instructions in the curly brackets) three times. Each time it runs it executes the body of the loop which prints Hello twice.\n",
    "\n",
    "\n",
    "### Exercise 7\n",
    "```java\n",
    "for (int i=1; i<=3; i++)\n",
    "{\n",
    "    System.out.println(\"Hello\");\n",
    "    System.out.println(\"Hello\");\n",
    "    System.out.println(\"Hello\");\n",
    "}\n",
    "```\n",
    "\n",
    "### Exercise 8\n",
    "```java\n",
    "for (int i=1; i<=4; i++)\n",
    "{\n",
    "    System.out.println(\"Paul\");\n",
    "    System.out.println(\"Curzon\");\n",
    "}\n",
    "```\n",
    "\n",
    "### Exercise 9\n",
    "```java\n",
    "for (int i=4; i<=8; i++)\n",
    "{\n",
    "    System.out.println(i + \":\");\n",
    "}\n",
    "```\n",
    "\n",
    "\n",
    "### Exercise 10\n",
    "```java\n",
    "for (int counter=1; counter<=3; counter++)\n",
    "{\n",
    "    System.out.println(counter + \" THEN\");\n",
    "}\n",
    "```\n",
    "\n",
    "### Exercise 11\n",
    "```java\n",
    "for (int i=1; i<=5; i++)\n",
    "{\n",
    "    System.out.println(i * 9);\n",
    "}\n",
    "```"
   ]
  },
  {
   "cell_type": "code",
   "execution_count": null,
   "metadata": {},
   "outputs": [],
   "source": []
  },
  {
   "cell_type": "code",
   "execution_count": null,
   "metadata": {},
   "outputs": [],
   "source": []
  }
 ],
 "metadata": {
  "kernelspec": {
   "display_name": "Java",
   "language": "java",
   "name": "java"
  },
  "language_info": {
   "codemirror_mode": "java",
   "file_extension": ".jshell",
   "mimetype": "text/x-java-source",
   "name": "Java",
   "pygments_lexer": "java",
   "version": "11.0.4+11-LTS"
  }
 },
 "nbformat": 4,
 "nbformat_minor": 2
}
