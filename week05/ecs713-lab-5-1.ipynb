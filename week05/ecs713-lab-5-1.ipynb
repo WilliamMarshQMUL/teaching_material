{
 "cells": [
  {
   "cell_type": "markdown",
   "metadata": {},
   "source": [
    "# ECS713: week 5 Lab Sheet"
   ]
  },
  {
   "cell_type": "markdown",
   "metadata": {},
   "source": [
    "This lab sheet covers \n",
    "- typeclasses"
   ]
  },
  {
   "cell_type": "markdown",
   "metadata": {},
   "source": [
    "## Learning Objectives"
   ]
  },
  {
   "cell_type": "markdown",
   "metadata": {},
   "source": [
    "By the time you complete this sheandet you should be able to\n",
    "- understand how to declare a new typeclass\n",
    "- how to make a type an instance of a typeclass\n",
    "- recognise some common typeclasses and the functions they provide\n",
    "- understand the use of the deriving connective"
   ]
  },
  {
   "cell_type": "markdown",
   "metadata": {},
   "source": [
    "## Turn off the annoying linter"
   ]
  },
  {
   "cell_type": "markdown",
   "metadata": {},
   "source": [
    "Run the cell below to turn off the annoying linter, which suggests improvements to your code that aren't appropriate for these exercises. "
   ]
  },
  {
   "cell_type": "code",
   "execution_count": null,
   "metadata": {},
   "outputs": [],
   "source": [
    ":opt no-lint"
   ]
  },
  {
   "cell_type": "markdown",
   "metadata": {},
   "source": [
    "## Task 1. Basic Type Classes"
   ]
  },
  {
   "cell_type": "markdown",
   "metadata": {},
   "source": [
    "Type classes are Haskell's equivalent of interfaces in Java. They are a way of specifying that a type (class in Java) should have certain operations. Very often the operations should have some intuitive meaning, but the compiler has no way of enforcing that. "
   ]
  },
  {
   "cell_type": "markdown",
   "metadata": {},
   "source": [
    "Example:\n",
    "This is a particularly stupid example. A type `a` is an instance of the typeclass `Cloop`if it has three operations, \n",
    "`moop`, `boop` and `poop`, with types as below. "
   ]
  },
  {
   "cell_type": "code",
   "execution_count": null,
   "metadata": {},
   "outputs": [],
   "source": [
    "class Cloop a where \n",
    "  moop :: a -> a\n",
    "  boop :: a -> a -> a\n",
    "  poop :: a -> Bool"
   ]
  },
  {
   "cell_type": "markdown",
   "metadata": {},
   "source": [
    "The Haskell typechecker understands that, after this declaration, if you use functions called `moop`, `boop` or `poop`, then they'd better be on something of type class `Cloop`."
   ]
  },
  {
   "cell_type": "markdown",
   "metadata": {},
   "source": [
    "Test:"
   ]
  },
  {
   "cell_type": "code",
   "execution_count": null,
   "metadata": {},
   "outputs": [],
   "source": [
    "stoop a = boop (moop a) a\n",
    ":t stoop"
   ]
  },
  {
   "cell_type": "markdown",
   "metadata": {},
   "source": [
    "Notice the `Cloop a` there. That is what says `a` had better be of type class `Cloop`. "
   ]
  },
  {
   "cell_type": "markdown",
   "metadata": {},
   "source": [
    "So let's give Int the appropriate functions:"
   ]
  },
  {
   "cell_type": "code",
   "execution_count": null,
   "metadata": {},
   "outputs": [],
   "source": [
    "moop :: Int -> Int\n",
    "moop n = n+1\n",
    "boop :: Int -> Int -> Int\n",
    "boop m n = m+n\n",
    "poop :: Int -> Bool\n",
    "poop m = m==0"
   ]
  },
  {
   "cell_type": "code",
   "execution_count": null,
   "metadata": {},
   "outputs": [],
   "source": [
    "stoop 4::Int"
   ]
  },
  {
   "cell_type": "markdown",
   "metadata": {},
   "source": [
    "If you've run the appropriate cells here you should get a complaint: \n",
    "``<interactive>:1:1: error:\n",
    "    • No instance for (Cloop Int) arising from a use of ‘stoop’\n",
    "    • In the expression: stoop 4 :: Int\n",
    "      In an equation for ‘it’: it = stoop 4 :: Int``"
   ]
  },
  {
   "cell_type": "markdown",
   "metadata": {},
   "source": [
    "It's not enough to have the functions, you have to explicitly explain that `Int` is supposed to be a member of the typeclass: "
   ]
  },
  {
   "cell_type": "code",
   "execution_count": null,
   "metadata": {},
   "outputs": [],
   "source": [
    "instance Cloop Int where\n",
    "  moop n = n+1\n",
    "  boop m n = m+n\n",
    "  poop m = m==0"
   ]
  },
  {
   "cell_type": "code",
   "execution_count": null,
   "metadata": {},
   "outputs": [],
   "source": [
    "stoop 4::Int"
   ]
  },
  {
   "cell_type": "markdown",
   "metadata": {},
   "source": [
    "Exercise: Make `Char` and `Bool` members of the typeclass `Cloop`. "
   ]
  },
  {
   "cell_type": "code",
   "execution_count": null,
   "metadata": {},
   "outputs": [],
   "source": [
    "instance Cloop .. where .."
   ]
  },
  {
   "cell_type": "markdown",
   "metadata": {},
   "source": [
    "Warning: this will not work with complex types like `String` (i.e. ones that are constructed from simpler types). If you try to make `String` an instance of a typeclass, you will either get told that you can't use a synonym, or if you use `[Char]`, that you can only have a constructor applied to a type variable. Here is one way round it. Use a wrapper to convert an open complex type, into a closed simple one. "
   ]
  },
  {
   "cell_type": "code",
   "execution_count": null,
   "metadata": {},
   "outputs": [],
   "source": [
    "data PackString = Pack String\n",
    "  deriving Show\n",
    "\n",
    "instance Cloop PackString where\n",
    "  moop n = n\n",
    "  boop m n = m\n",
    "  poop m = True\n",
    "stoop $ Pack \"a\""
   ]
  },
  {
   "cell_type": "markdown",
   "metadata": {},
   "source": [
    "## Task 2. Inbuilt type classes. "
   ]
  },
  {
   "cell_type": "markdown",
   "metadata": {},
   "source": [
    "Some type classes come wth the system. Each has some basic functions. Use the documentation at: https://hackage.haskell.org/package/base-4.14.0.0/docs/Prelude.html#g:4\n",
    "and at\n",
    "https://hackage.haskell.org/package/base-4.14.0.0/docs/Prelude.html#g:22\n",
    "to find out which functions you need for each of the following type classes: "
   ]
  },
  {
   "cell_type": "markdown",
   "metadata": {},
   "source": [
    "`Eq` requires"
   ]
  },
  {
   "cell_type": "code",
   "execution_count": null,
   "metadata": {},
   "outputs": [],
   "source": []
  },
  {
   "cell_type": "markdown",
   "metadata": {},
   "source": [
    "`Ord` requires"
   ]
  },
  {
   "cell_type": "code",
   "execution_count": null,
   "metadata": {},
   "outputs": [],
   "source": []
  },
  {
   "cell_type": "markdown",
   "metadata": {},
   "source": [
    "`Show` requires"
   ]
  },
  {
   "cell_type": "code",
   "execution_count": null,
   "metadata": {},
   "outputs": [],
   "source": []
  },
  {
   "cell_type": "markdown",
   "metadata": {},
   "source": [
    "`Read` requires"
   ]
  },
  {
   "cell_type": "code",
   "execution_count": null,
   "metadata": {},
   "outputs": [],
   "source": []
  },
  {
   "cell_type": "markdown",
   "metadata": {},
   "source": [
    "`Eq` is the class of types supporting equality. \n",
    "\n",
    "`Ord` is the class of types supporting an order. \n",
    "\n",
    "`Show` is the class of types whose values can be printed (converted to `String`s). \n",
    "\n",
    "`Read` is the class of types whose values can be parsed from `String`s."
   ]
  },
  {
   "cell_type": "markdown",
   "metadata": {},
   "source": [
    "We've seen that the compiler will take any functions of the appropriate type to make instances of the typeclass. \n",
    "But often there are formal requirements couched in terms of expected equations, and informal requirements in terms \n",
    "of expectations. For simple datastructures, the compiler can derive a default instance of the standard typeclasses. \n",
    "It is instructed to do this using the `deriving` keyword. "
   ]
  },
  {
   "cell_type": "markdown",
   "metadata": {},
   "source": [
    "**EXERCISE** Here are two definitions of the Booleans, both using an enumerated type, and both deriving membership of typeclasses. What is the difference (and more importantly, how would it impact programs)? `T1` and `T2` represent `True`, and `F1` and `F2` represent `False`."
   ]
  },
  {
   "cell_type": "code",
   "execution_count": null,
   "metadata": {},
   "outputs": [],
   "source": [
    "data B1 = F1 | T1 deriving (Eq, Ord, Show, Read) "
   ]
  },
  {
   "cell_type": "code",
   "execution_count": null,
   "metadata": {},
   "outputs": [],
   "source": [
    "data B2  = T2 | F2 deriving (Eq, Ord, Show, Read) "
   ]
  },
  {
   "cell_type": "markdown",
   "metadata": {},
   "source": [
    "Explain difference here: "
   ]
  },
  {
   "cell_type": "markdown",
   "metadata": {},
   "source": [
    "## Task 3. Hierarchies"
   ]
  },
  {
   "cell_type": "markdown",
   "metadata": {},
   "source": [
    "Sometimes we require that when we want to make a type a member of a typeclass, it should already be a member of some other. There is a hierarchy. "
   ]
  },
  {
   "cell_type": "markdown",
   "metadata": {},
   "source": [
    "Example: `Ord` requires that the type already be a member of `Eq`. "
   ]
  },
  {
   "cell_type": "markdown",
   "metadata": {},
   "source": [
    "```class Eq a => Ord a where ...```"
   ]
  },
  {
   "cell_type": "markdown",
   "metadata": {},
   "source": [
    "**Exercise:** Make `PackString` an instance of `Eq` where two packed strings are regarded as equal if they have the same length. "
   ]
  },
  {
   "cell_type": "code",
   "execution_count": null,
   "metadata": {},
   "outputs": [],
   "source": []
  },
  {
   "cell_type": "markdown",
   "metadata": {},
   "source": [
    "**Exercise:** Make `PackString` an instance of `Ord` where the ordering is that one string is shorter than the other. "
   ]
  },
  {
   "cell_type": "code",
   "execution_count": null,
   "metadata": {},
   "outputs": [],
   "source": []
  },
  {
   "cell_type": "markdown",
   "metadata": {},
   "source": [
    "## Task 4. Deriving Show"
   ]
  },
  {
   "cell_type": "markdown",
   "metadata": {},
   "source": [
    "**Exercise:** `PackStringB` is defined similarly to `PackString` but without deriving `Show`. Can you explain why you get an error when trying to evaluate `PackB \"aaa\"` but not `unpackB (packB \"aaa\")`?"
   ]
  },
  {
   "cell_type": "code",
   "execution_count": null,
   "metadata": {},
   "outputs": [],
   "source": [
    "data PackStringB = PackB String\n",
    "unpackB (PackB s) = s"
   ]
  },
  {
   "cell_type": "code",
   "execution_count": null,
   "metadata": {},
   "outputs": [],
   "source": [
    "PackB \"aaa\""
   ]
  },
  {
   "cell_type": "code",
   "execution_count": null,
   "metadata": {},
   "outputs": [],
   "source": [
    "unpackB (PackB \"aaa\")"
   ]
  },
  {
   "cell_type": "markdown",
   "metadata": {},
   "source": [
    "Explanation goes here."
   ]
  },
  {
   "cell_type": "markdown",
   "metadata": {},
   "source": [
    "Try making PackStringB an instance of Ord **without** also giving code to make it an instance of Eq. Is this possible?"
   ]
  },
  {
   "cell_type": "code",
   "execution_count": null,
   "metadata": {},
   "outputs": [],
   "source": []
  },
  {
   "cell_type": "markdown",
   "metadata": {},
   "source": [
    "Explain the issue here: "
   ]
  },
  {
   "cell_type": "markdown",
   "metadata": {},
   "source": []
  }
 ],
 "metadata": {
  "kernelspec": {
   "display_name": "Haskell",
   "language": "haskell",
   "name": "haskell"
  },
  "language_info": {
   "codemirror_mode": "ihaskell",
   "file_extension": ".hs",
   "name": "haskell",
   "pygments_lexer": "Haskell",
   "version": "8.6.5"
  }
 },
 "nbformat": 4,
 "nbformat_minor": 4
}
