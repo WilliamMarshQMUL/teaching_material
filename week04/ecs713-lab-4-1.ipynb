{
 "cells": [
  {
   "cell_type": "markdown",
   "metadata": {},
   "source": [
    "# ECS713: week 4 Lab Sheet"
   ]
  },
  {
   "cell_type": "markdown",
   "metadata": {},
   "source": [
    "This lab sheet covers \n",
    "- partial application\n",
    "- sections\n",
    "- lambda expressions\n",
    "- higher order functions"
   ]
  },
  {
   "cell_type": "markdown",
   "metadata": {},
   "source": [
    "## Learning Objectives"
   ]
  },
  {
   "cell_type": "markdown",
   "metadata": {},
   "source": [
    "By the time you complete this sheet you should be able to\n",
    "- understand and use partial applications\n",
    "- use Haskell sections\n",
    "- write Haskell lambda expressions\n",
    "- understand what a higher order function is\n",
    "- use and define higher order functions. "
   ]
  },
  {
   "cell_type": "markdown",
   "metadata": {},
   "source": [
    "## Turn off the annoying linter"
   ]
  },
  {
   "cell_type": "markdown",
   "metadata": {},
   "source": [
    "Run the cell below to turn off the annoying linter, which suggests improvements to your code that aren't appropriate for these exercises. "
   ]
  },
  {
   "cell_type": "code",
   "execution_count": null,
   "metadata": {},
   "outputs": [],
   "source": [
    ":opt no-lint"
   ]
  },
  {
   "cell_type": "markdown",
   "metadata": {},
   "source": [
    "## Task 1. Partial Application"
   ]
  },
  {
   "cell_type": "markdown",
   "metadata": {},
   "source": [
    "If a function takes several arguments, then we don't need to supply them all. If we don't, then the result is another \n",
    "function that needs the remaining arguments in order to produce a result. "
   ]
  },
  {
   "cell_type": "markdown",
   "metadata": {},
   "source": [
    "Example:\n",
    "`take` has type `Int -> [a] -> [a]`. It expects two arguments, a number and a list, and produces a list as result. We can just supply the number. What we get is a function that takes a particular number of elements from the front of a list. "
   ]
  },
  {
   "cell_type": "code",
   "execution_count": null,
   "metadata": {},
   "outputs": [],
   "source": [
    "takeThree = take 3"
   ]
  },
  {
   "cell_type": "markdown",
   "metadata": {},
   "source": [
    "`takeThree` (or `take 3`) is a partial application of `take`. "
   ]
  },
  {
   "cell_type": "markdown",
   "metadata": {},
   "source": [
    "Test:"
   ]
  },
  {
   "cell_type": "code",
   "execution_count": null,
   "metadata": {},
   "outputs": [],
   "source": [
    "takeThree [1..10]\n",
    "take 3 [1..10]"
   ]
  },
  {
   "cell_type": "markdown",
   "metadata": {},
   "source": [
    "Use partial application together with the functions, `map`, `filter`, `even`, `succ` to implement the following functions as partial applications: "
   ]
  },
  {
   "cell_type": "raw",
   "metadata": {},
   "source": [
    "Define a function `addOneAll :: [Int] -> [Int]` that adds one to each element of a list"
   ]
  },
  {
   "cell_type": "code",
   "execution_count": null,
   "metadata": {},
   "outputs": [],
   "source": [
    "addOneAll = undefined"
   ]
  },
  {
   "cell_type": "markdown",
   "metadata": {},
   "source": [
    "Test:"
   ]
  },
  {
   "cell_type": "code",
   "execution_count": null,
   "metadata": {},
   "outputs": [],
   "source": [
    "addOneAll [1..3] == [2..4]"
   ]
  },
  {
   "cell_type": "code",
   "execution_count": null,
   "metadata": {},
   "outputs": [],
   "source": [
    "Define a function `filterEvens :: [Int] -> [Int]` that returns the even elements of a list. "
   ]
  },
  {
   "cell_type": "code",
   "execution_count": null,
   "metadata": {},
   "outputs": [],
   "source": [
    "filterEvens = undefined"
   ]
  },
  {
   "cell_type": "markdown",
   "metadata": {},
   "source": [
    "Test:"
   ]
  },
  {
   "cell_type": "code",
   "execution_count": null,
   "metadata": {},
   "outputs": [],
   "source": [
    "filterEvens [1..8] == [2,4,6,8]"
   ]
  },
  {
   "cell_type": "markdown",
   "metadata": {},
   "source": [
    "## Task 2. Sections"
   ]
  },
  {
   "cell_type": "markdown",
   "metadata": {},
   "source": [
    "Some functions are infix (i.e. they sit between their arguments rather than in front of them). Infix functions can also be partially applied. The result is called a **section**. If the function is not commutative, then the left section is different from the right. "
   ]
  },
  {
   "cell_type": "markdown",
   "metadata": {},
   "source": [
    "Example:"
   ]
  },
  {
   "cell_type": "code",
   "execution_count": null,
   "metadata": {},
   "outputs": [],
   "source": [
    "map (2+) [1..10]\n",
    "map (+2) [1..10]\n",
    "map (^2) [1..10]\n",
    "map (2^) [1..10]\n",
    "map (2/) [1..10]\n",
    "map (/2) [1..10]"
   ]
  },
  {
   "cell_type": "markdown",
   "metadata": {},
   "source": [
    "Sections are very useful when the function is any of `==`, `/=`, `<` or `<=`."
   ]
  },
  {
   "cell_type": "code",
   "execution_count": null,
   "metadata": {},
   "outputs": [],
   "source": [
    "map (=='a') \"abracadabra\"\n",
    "map (/='a') \"abracadabra\"\n",
    "map (<'b') \"abracadabra\"\n",
    "map (<='b') \"abracadabra\""
   ]
  },
  {
   "cell_type": "markdown",
   "metadata": {},
   "source": [
    "Use `filter` and a section to remove all the spaces (' ') from the `String` below: "
   ]
  },
  {
   "cell_type": "code",
   "execution_count": null,
   "metadata": {},
   "outputs": [],
   "source": [
    "testString = \"This is a test string\"\n",
    "-- answer here"
   ]
  },
  {
   "cell_type": "markdown",
   "metadata": {},
   "source": [
    "## Task 3. Lambda expressions"
   ]
  },
  {
   "cell_type": "markdown",
   "metadata": {},
   "source": [
    "Sections and partial application do not solve all our problems. Here are two quick examples: \n",
    "\n",
    "The section `(2-)` is fine, but the section `(-2)` has problems (not surprisingly). \n",
    "\n",
    "Haskell has a function `mod :: Int -> Int -> Int`, `mod a b` gives the remainder on dividing `a` by `b`. Suppose we want a function that gives the remainder on division by 3. How do we get that? (One answer is that there is a bit of sleight of hand we can use to turn `mod` into an infix, and then use a section, but I am going to ignore that). "
   ]
  },
  {
   "cell_type": "markdown",
   "metadata": {},
   "source": [
    "(That sleight of hand: surround `mod` with backquotes, as in ``5 `mod` 3``. To go the other way, surround with parentheses: `(+) 2 3`)."
   ]
  },
  {
   "cell_type": "markdown",
   "metadata": {},
   "source": [
    "It is easy to write little functions to do these, and then you can use them in local declarations (`let` or `where`). "
   ]
  },
  {
   "cell_type": "code",
   "execution_count": null,
   "metadata": {},
   "outputs": [],
   "source": [
    "subTwo x = x-2\n",
    "modThree a = mod a 3"
   ]
  },
  {
   "cell_type": "markdown",
   "metadata": {},
   "source": [
    "But why introduce the new name? It's just clutter. Instead we can use a lambda expression. "
   ]
  },
  {
   "cell_type": "code",
   "execution_count": null,
   "metadata": {},
   "outputs": [],
   "source": [
    "(\\ x -> x-2) 5\n",
    "(\\a -> mod a 3) 5"
   ]
  },
  {
   "cell_type": "markdown",
   "metadata": {},
   "source": [
    "This idea goes back to Church, as in the history lesson, and his lambda calculus (the \\ is like a greek lambda). A lambda expression is a way of writing down a function without giving it a name. That separates the act of describing a function from the act of giving it a name. If we have a function definition: \n",
    "\n",
    "```foo x = <expression>```\n",
    "\n",
    "then this is exactly equivalent to \n",
    "\n",
    "```foo = \\x -> <expression>```\n",
    "\n",
    "We have a lambda expression on the right, and we have given it a name. \n",
    "\n",
    "In Haskell lambda expressions can have multiple variables, and also use patterns as in:"
   ]
  },
  {
   "cell_type": "code",
   "execution_count": null,
   "metadata": {},
   "outputs": [],
   "source": [
    "plus = \\ (x,y) -> x+y\n",
    "plus (3,4)"
   ]
  },
  {
   "cell_type": "markdown",
   "metadata": {},
   "source": [
    "This may not be the clearest way to write this, but just for fun, remove the definitions of `isTELLine` and `getTELFromLine` in the code below by replacing their use in `getTelFromVcard` with lambda expressions, so that the whole process is done with one line of code. "
   ]
  },
  {
   "cell_type": "code",
   "execution_count": null,
   "metadata": {},
   "outputs": [],
   "source": [
    "isTELLine line = take 3 line == \"TEL\"\n",
    "getTELFromLine line = tail $ dropWhile (/= ':') line\n",
    "getTELFromVcard card = map getTELFromLine $ filter isTELLine $ lines card"
   ]
  },
  {
   "cell_type": "code",
   "execution_count": null,
   "metadata": {},
   "outputs": [],
   "source": [
    "getTELFromVcard' card = undefined"
   ]
  },
  {
   "cell_type": "markdown",
   "metadata": {},
   "source": [
    "Test on: "
   ]
  },
  {
   "cell_type": "code",
   "execution_count": null,
   "metadata": {},
   "outputs": [],
   "source": [
    "cards = \"BEGIN:VCARD\\nVERSION:3.0\\nPRODID:-//Apple Inc.//Mac OS X 10.9.5//EN\\nN:Doe;Jane;;;\\nFN:Jane Doe\\nEMAIL;type=INTERNET;type=HOME;type=pref:jane.doe@notmail.com\\nTEL;type=CELL;type=VOICE;type=pref:0123 456789\\nTEL;type=WORK;type=VOICE:020 1234 5678\\nADR;type=HOME;type=pref:;;1 Not Street;London;;A1 4BZ;\\nitem1.URL;type=pref:jane.doe@me.net\\nitem1.X-ABLabel:_$!<HomePage>!$_\\nUID:8400c795-9dbc-487d-9d2a-de3311f9d075\\nX-ABUID:8400C795-9DBC-487D-9D2A-DE3311F9D075:ABPerson\\nEND:VCARD\\nBEGIN:VCARD\\nVERSION:3.0\\nPRODID:-//Apple Inc.//Mac OS X 10.9.5//EN\\nN:Doe;Jim Barnaby;;;\\nFN:Jim Barnaby Doe\\nEMAIL;type=INTERNET;type=WORK;type=pref:jim.doe@not.com\\nTEL;type=CELL;type=VOICE;type=pref:02468 123456\\nTEL;type=WORK;type=VOICE:020 2345 6789\\nUID:7476fd69-9bf1-416e-b093-05ddc23c385f\\nX-ABUID:7476FD69-9BF1-416E-B093-05DDC23C385F:ABPerson\\nEND:VCARD\\nBEGIN:VCARD\\nVERSION:3.0\\nPRODID:-//Apple Inc.//Mac OS X 10.9.5//EN\\nN:Doe;John;;;\\nFN:John Doe\\nORG:Queen Mary;\\nEMAIL;type=INTERNET;type=HOME;type=pref:JohnDoe@nogmail.com\\nTEL;type=CELL;type=VOICE;type=pref:0751 234567\\nTEL;type=HOME;type=VOICE:020 7123 4567\\nADR;type=HOME;type=pref:;;42 Nowhere St;London;;E1 0XX;\\nUID:8bb3d68ec846f1\\nX-ABUID:608AE44E-BF05-4713-A748-AAE3CAB64858:ABPerson\\nEND:VCARD\\n\"\n",
    "getTELFromVcard' cards"
   ]
  },
  {
   "cell_type": "markdown",
   "metadata": {},
   "source": [
    "## Task 4. Recognising Higher Order Functions"
   ]
  },
  {
   "cell_type": "markdown",
   "metadata": {},
   "source": [
    "**Simplified Definition:** A function is higher-order if one of its arguments is also a function. "
   ]
  },
  {
   "cell_type": "markdown",
   "metadata": {},
   "source": [
    "This means that you can tell whether a function is higher order or not by looking at its type, and checking the types of this arguments. If you can't see a function anywhere there, then it is first order. If you can, then it is higher order. The reason this definition is oversimplified is that the function might not be quite in plain sight. It might, for instance, be part of an algebraic datatype. "
   ]
  },
  {
   "cell_type": "markdown",
   "metadata": {},
   "source": [
    "Example:"
   ]
  },
  {
   "cell_type": "code",
   "execution_count": null,
   "metadata": {},
   "outputs": [],
   "source": [
    ":t drop"
   ]
  },
  {
   "cell_type": "code",
   "execution_count": null,
   "metadata": {},
   "outputs": [],
   "source": [
    ":t dropWhile"
   ]
  },
  {
   "cell_type": "markdown",
   "metadata": {},
   "source": [
    "The arguments to `drop` have types `Int` and `[a]`. It is first order. \n",
    "\n",
    "The arguments to `dropWhile` have types `a -> Bool` and `[a]`. Since `a -> Bool` is a function type, it is higher order. "
   ]
  },
  {
   "cell_type": "code",
   "execution_count": null,
   "metadata": {},
   "outputs": [],
   "source": [
    "data PackedFunction a = Pack (a -> Bool)\n",
    "dropWhile' (Pack f) = dropWhile f\n",
    ":t dropWhile'"
   ]
  },
  {
   "cell_type": "markdown",
   "metadata": {},
   "source": [
    "This is a blatant attempt at cheating the definition. I've introduced a datatype whose only purpose is to put a wrapper round a function. When I look at the type of `dropWhile'`, there is no function type visible, just `PackedFunction a` and `[a]`. It is still higher order. "
   ]
  },
  {
   "cell_type": "markdown",
   "metadata": {},
   "source": [
    "Here is a list of functions from the Haskell prelude (so standard functions), together with their types (in some cases I've simplified them a bit). Identify the ones that are higher order and give your evidence by providing the type of the function that is an argument:"
   ]
  },
  {
   "cell_type": "markdown",
   "metadata": {},
   "source": [
    "`map :: (a -> b) -> [a] -> [b]\n",
    "(++) :: [a] -> [a] -> [a] \n",
    "filter :: (a -> Bool) -> [a] -> [a]\n",
    "head :: [a] -> a\n",
    "(!!) :: [a] -> Int -> a\n",
    "any :: (a -> Bool) -> [a] -> Bool\n",
    "concat :: [[a]] -> [a]\n",
    "iterate :: (a -> a) -> a -> [a]\n",
    "replicate :: Int -> a -> [a]\n",
    "take :: Int -> [a] -> [a] \n",
    "takeWhile :: (a -> Bool) -> [a] -> [a]\n",
    "break :: (a -> Bool) -> [a] -> ([a], [a])\n",
    "splitAt :: Int -> [a] -> ([a], [a])\n",
    "foldr :: (a -> b -> b) -> b -> [a] -> b`"
   ]
  },
  {
   "cell_type": "markdown",
   "metadata": {},
   "source": [
    "Solutions: "
   ]
  },
  {
   "cell_type": "markdown",
   "metadata": {},
   "source": [
    "## Task 5. Using and Defining Higher Order Functions"
   ]
  },
  {
   "cell_type": "markdown",
   "metadata": {},
   "source": [
    "If we have a higher order function, then there are lots of ways we can supply the function it expects as argument:\n",
    "- as a named function\n",
    "- as a partial application\n",
    "- as a section\n",
    "- as a lambda expression\n",
    "\n",
    "We've already done this. "
   ]
  },
  {
   "cell_type": "markdown",
   "metadata": {},
   "source": [
    "Find examples in these exercises where we have used higher order functions like `map` and `filter`. "
   ]
  },
  {
   "cell_type": "markdown",
   "metadata": {},
   "source": [
    "If we want to define a higher order function, then we can use the same methods as before. For example we can define functions on lists by recursion:"
   ]
  },
  {
   "cell_type": "code",
   "execution_count": null,
   "metadata": {},
   "outputs": [],
   "source": [
    "map' :: (a -> b) -> [a] -> [b]\n",
    "map' f [] = []\n",
    "map' f (a:as) = (f a) : (map f as)"
   ]
  },
  {
   "cell_type": "code",
   "execution_count": null,
   "metadata": {},
   "outputs": [],
   "source": [
    "map' (+1) [1..4]"
   ]
  },
  {
   "cell_type": "raw",
   "metadata": {},
   "source": [
    "Or:"
   ]
  },
  {
   "cell_type": "code",
   "execution_count": null,
   "metadata": {},
   "outputs": [],
   "source": [
    "takeWhile' :: (a -> Bool) -> [a] -> [a]\n",
    "takeWhile' p [] = []\n",
    "takeWhile' p (a:as) = if (p a) then a : (takeWhile' p as) else []"
   ]
  },
  {
   "cell_type": "code",
   "execution_count": null,
   "metadata": {},
   "outputs": [],
   "source": [
    "takeWhile' (<5) [1..10]"
   ]
  },
  {
   "cell_type": "markdown",
   "metadata": {},
   "source": [
    "Give your own similar definitions of `filter'` and `dropWhile'`."
   ]
  },
  {
   "cell_type": "code",
   "execution_count": null,
   "metadata": {},
   "outputs": [],
   "source": [
    "-- code here"
   ]
  },
  {
   "cell_type": "code",
   "execution_count": null,
   "metadata": {},
   "outputs": [],
   "source": [
    "-- tests here"
   ]
  }
 ],
 "metadata": {
  "kernelspec": {
   "display_name": "Haskell",
   "language": "haskell",
   "name": "haskell"
  },
  "language_info": {
   "codemirror_mode": "ihaskell",
   "file_extension": ".hs",
   "name": "haskell",
   "pygments_lexer": "Haskell",
   "version": "8.6.5"
  }
 },
 "nbformat": 4,
 "nbformat_minor": 4
}
