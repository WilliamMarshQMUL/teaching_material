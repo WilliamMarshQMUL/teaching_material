{
 "cells": [
  {
   "cell_type": "markdown",
   "metadata": {},
   "source": [
    "# ECS713: week 2 Lab Sheet (Recursion)"
   ]
  },
  {
   "cell_type": "markdown",
   "metadata": {},
   "source": [
    "This lab sheet covers structural recursion on lists and trees. \n",
    "\n",
    "It contains a long sequence of exercises in definitions by pattern-matching. "
   ]
  },
  {
   "cell_type": "markdown",
   "metadata": {},
   "source": [
    "**IMPORTANT: THIS WEEK’S LAB CONSISTS OF SHORT BASIC EXERCISES. DO NOT CUT PASTE AND EDIT SOLUTIONS. TYPE IN EVERYTHING FROM SCRATCH.**"
   ]
  },
  {
   "cell_type": "markdown",
   "metadata": {},
   "source": [
    "The reason for the last instruction is to get you to type out the patterns you will be using over and over again so that they stick in your mind. If you cut and paste and then edit, that won't happen. It is the same reason you practice scales and arpeggios when learning a musical instrument. "
   ]
  },
  {
   "cell_type": "markdown",
   "metadata": {},
   "source": [
    "## Learning Objectives"
   ]
  },
  {
   "cell_type": "markdown",
   "metadata": {},
   "source": [
    "By the time you complete this sheet you will be able to write standard Haskell definitions using structural recursion on lists and tree-like algebraic datatypes. "
   ]
  },
  {
   "cell_type": "markdown",
   "metadata": {},
   "source": [
    "## Turn off the annoying linter"
   ]
  },
  {
   "cell_type": "markdown",
   "metadata": {},
   "source": [
    "Run the cell below to turn off the annoying linter, which suggests improvements to your code that aren't appropriate for these exercises."
   ]
  },
  {
   "cell_type": "code",
   "execution_count": null,
   "metadata": {},
   "outputs": [],
   "source": [
    ":opt no-lint"
   ]
  },
  {
   "cell_type": "markdown",
   "metadata": {},
   "source": [
    "## TASK 1: Standard recursion"
   ]
  },
  {
   "cell_type": "markdown",
   "metadata": {},
   "source": [
    "The standard format for a recursive function on lists is:\n",
    "\n",
    "`foo :: [a] -> b \n",
    "foo [] = ..\n",
    "foo (a:as) = ..(foo as)..`"
   ]
  },
  {
   "cell_type": "markdown",
   "metadata": {},
   "source": [
    "Note that I've started to include a type specification. \n",
    "\n",
    "Example: "
   ]
  },
  {
   "cell_type": "code",
   "execution_count": null,
   "metadata": {},
   "outputs": [],
   "source": [
    "length' :: [a] -> Int\n",
    "length' [] = 0\n",
    "length' (a:as) = 1+(length' as)"
   ]
  },
  {
   "cell_type": "markdown",
   "metadata": {},
   "source": [
    "These functions all fit that simple format. Some of them are examples of functions from the Prelude. If you run into difficulties with that, then add a `'` to the name of your function to distinguish it. "
   ]
  },
  {
   "cell_type": "markdown",
   "metadata": {},
   "source": [
    "a) `sum :: [Int] -> Int`\n",
    "\n",
    "Returns the sum of the elements of the lists. "
   ]
  },
  {
   "cell_type": "code",
   "execution_count": null,
   "metadata": {},
   "outputs": [],
   "source": [
    "sum :: [Int] -> Int\n",
    "sum = undefined"
   ]
  },
  {
   "cell_type": "markdown",
   "metadata": {},
   "source": [
    "Tests:"
   ]
  },
  {
   "cell_type": "code",
   "execution_count": null,
   "metadata": {},
   "outputs": [],
   "source": [
    "sum [] == 0\n",
    "sum [1] == 1\n",
    "sum [1,2] == 3"
   ]
  },
  {
   "cell_type": "markdown",
   "metadata": {},
   "source": [
    "b) `product :: [Int] -> Int`\n",
    "\n",
    "Returns the product of the elements of the lists. "
   ]
  },
  {
   "cell_type": "code",
   "execution_count": null,
   "metadata": {},
   "outputs": [],
   "source": [
    "product :: [Int] -> Int\n",
    "product = undefined"
   ]
  },
  {
   "cell_type": "markdown",
   "metadata": {},
   "source": [
    "Tests:"
   ]
  },
  {
   "cell_type": "code",
   "execution_count": null,
   "metadata": {},
   "outputs": [],
   "source": [
    "product [] == 1\n",
    "product [2] == 2\n",
    "product [2,3] == 6"
   ]
  },
  {
   "cell_type": "markdown",
   "metadata": {},
   "source": [
    "c) `containsZero :: [Int] -> Bool`\n",
    "\n",
    "Returns `True` if the list contains `0` and `False` otherwise. "
   ]
  },
  {
   "cell_type": "code",
   "execution_count": null,
   "metadata": {},
   "outputs": [],
   "source": [
    "containsZero :: [Int] -> Bool\n",
    "containsZero = undefined"
   ]
  },
  {
   "cell_type": "markdown",
   "metadata": {},
   "source": [
    "Tests:"
   ]
  },
  {
   "cell_type": "code",
   "execution_count": null,
   "metadata": {},
   "outputs": [],
   "source": [
    "containsZero [] == False\n",
    "containsZero [1] == False\n",
    "containsZero [2,0] == True"
   ]
  },
  {
   "cell_type": "markdown",
   "metadata": {},
   "source": [
    "d) `containsEven :: [Int] -> Bool`\n",
    "\n",
    "Returns `True` if the list contains an even number and `False` otherwise. \n",
    "\n",
    "The function `even` tests whether a number is even. "
   ]
  },
  {
   "cell_type": "code",
   "execution_count": null,
   "metadata": {},
   "outputs": [],
   "source": [
    "containsEven :: [Int] -> Bool\n",
    "containsEven = undefined"
   ]
  },
  {
   "cell_type": "markdown",
   "metadata": {},
   "source": [
    "Tests:"
   ]
  },
  {
   "cell_type": "code",
   "execution_count": null,
   "metadata": {},
   "outputs": [],
   "source": [
    "containsEven [] = False\n",
    "containsEven [1] = False\n",
    "containsEven [3,2] = True"
   ]
  },
  {
   "cell_type": "markdown",
   "metadata": {},
   "source": [
    "e) `allEven :: [Int] -> Bool`\n",
    "\n",
    "Returns `True`if the list contains only even numbers and `False` otherwise"
   ]
  },
  {
   "cell_type": "code",
   "execution_count": null,
   "metadata": {},
   "outputs": [],
   "source": [
    "allEven :: [Int] -> Bool\n",
    "allEven = undefined"
   ]
  },
  {
   "cell_type": "markdown",
   "metadata": {},
   "source": [
    "Tests:"
   ]
  },
  {
   "cell_type": "code",
   "execution_count": null,
   "metadata": {},
   "outputs": [],
   "source": [
    "allEven [] == True\n",
    "allEven [1] == False\n",
    "allEven [3,2] == False\n",
    "allEven [4,2] == True"
   ]
  },
  {
   "cell_type": "markdown",
   "metadata": {},
   "source": [
    "f) `nonZeroElements :: [Int] -> [Int]` \n",
    "\n",
    "Returns the sublist of non-zero elements"
   ]
  },
  {
   "cell_type": "code",
   "execution_count": null,
   "metadata": {},
   "outputs": [],
   "source": [
    "nonZeroElements :: [Int] -> [Int]\n",
    "nonZeroElements = undefined"
   ]
  },
  {
   "cell_type": "markdown",
   "metadata": {},
   "source": [
    "Tests:"
   ]
  },
  {
   "cell_type": "code",
   "execution_count": null,
   "metadata": {},
   "outputs": [],
   "source": [
    "nonZeroElements [] == []\n",
    "nonZeroElements [1] == [1] \n",
    "nonZeroElements [0] == [] \n",
    "nonZeroElements [1,0,2,0] == [1,2]"
   ]
  },
  {
   "cell_type": "markdown",
   "metadata": {},
   "source": [
    "g) `evenElements :: [Int] -> [Int]` \n",
    "\n",
    "Returns the sublist of even elements"
   ]
  },
  {
   "cell_type": "code",
   "execution_count": null,
   "metadata": {},
   "outputs": [],
   "source": [
    "evenElements :: [Int] -> [Int]\n",
    "evenElements = undefined"
   ]
  },
  {
   "cell_type": "markdown",
   "metadata": {},
   "source": [
    "Tests:"
   ]
  },
  {
   "cell_type": "code",
   "execution_count": null,
   "metadata": {},
   "outputs": [],
   "source": [
    "evenElements [] == []\n",
    "evenElements [1] == []\n",
    "evenElements [0] == [0]\n",
    "evenElements [1,0,3,4] == [0,4]"
   ]
  },
  {
   "cell_type": "markdown",
   "metadata": {},
   "source": [
    "h) `mapInc :: [Int] -> [Int]`\n",
    "\n",
    "Returns the result of adding 1 to each element of the list."
   ]
  },
  {
   "cell_type": "code",
   "execution_count": null,
   "metadata": {},
   "outputs": [],
   "source": [
    "mapInc :: [Int] -> [Int]\n",
    "mapInc = undefined"
   ]
  },
  {
   "cell_type": "markdown",
   "metadata": {},
   "source": [
    "Tests:"
   ]
  },
  {
   "cell_type": "code",
   "execution_count": null,
   "metadata": {},
   "outputs": [],
   "source": [
    "mapInc [] == []\n",
    "mapInc [1] == [2]\n",
    "mapInc [1,0,3,4] == [2,1,4,5]"
   ]
  },
  {
   "cell_type": "markdown",
   "metadata": {},
   "source": [
    "i) `lengthAndSum::[Int]->(Int,Int)`\n",
    "\n",
    "Traverses the list once and returns the pair containing its length and its sum.\n",
    "\n",
    "Hint: This is more complicated. You may want to use `let` combined with pattern-matching to get information out of the result of a recursive call (`let (len,sum) = .. in ..`)."
   ]
  },
  {
   "cell_type": "code",
   "execution_count": null,
   "metadata": {},
   "outputs": [],
   "source": [
    "lengthAndSum::[Int]->(Int,Int)\n",
    "lengthAndSum = undefined"
   ]
  },
  {
   "cell_type": "markdown",
   "metadata": {},
   "source": [
    "Tests:"
   ]
  },
  {
   "cell_type": "code",
   "execution_count": null,
   "metadata": {},
   "outputs": [],
   "source": [
    "lengthAndSum [] == (0,0)\n",
    "lengthAndSum [2] == (1,2)\n",
    "lengthSum [1,0,3,4] == (4,8)"
   ]
  },
  {
   "cell_type": "markdown",
   "metadata": {},
   "source": [
    "## Task 2: Additional parameters. "
   ]
  },
  {
   "cell_type": "markdown",
   "metadata": {},
   "source": [
    "Some functions take additional parameters, and in the simplest examples those\n",
    "parameters are the same in the recursive calls.\n",
    "\n",
    "`foo :: a -> [b] -> c \n",
    "foo a [] = ..\n",
    "foo a (b:bs) = ..(foo a bs)..`"
   ]
  },
  {
   "cell_type": "markdown",
   "metadata": {},
   "source": [
    "Example:"
   ]
  },
  {
   "cell_type": "code",
   "execution_count": null,
   "metadata": {},
   "outputs": [],
   "source": [
    "countN :: Int -> [Int] -> Int\n",
    "-- countN n xs counts the number of time n occurs in the list xs\n",
    "countN n [] = 0\n",
    "countN n (x:xs) = if x==n then 1+(countN n xs) else (countN n xs)"
   ]
  },
  {
   "cell_type": "markdown",
   "metadata": {},
   "source": [
    "These functions all fit that format. Some of these functions can be implemented without recursion using list comprehension. You are welcome to do that, but then implement them using structural recursion."
   ]
  },
  {
   "cell_type": "markdown",
   "metadata": {},
   "source": [
    "j) `countGreaterN :: Int -> [Int] -> Int`\n",
    "\n",
    "`countGreaterN n xs` counts the number of elements of the list `xs` greater than `n`."
   ]
  },
  {
   "cell_type": "code",
   "execution_count": null,
   "metadata": {},
   "outputs": [],
   "source": [
    "countGreaterN :: Int -> [Int] -> Int\n",
    "countGreaterN = undefined"
   ]
  },
  {
   "cell_type": "markdown",
   "metadata": {},
   "source": [
    "Tests:"
   ]
  },
  {
   "cell_type": "code",
   "execution_count": null,
   "metadata": {},
   "outputs": [],
   "source": [
    "countGreaterN 2 [] == 0\n",
    "countGreaterN 2 [3] == 1\n",
    "countGreaterN 4 [3] == 0\n",
    "countGreater N 2 [2] == 0\n",
    "countGreaterN 2 [0..10] == 7"
   ]
  },
  {
   "cell_type": "markdown",
   "metadata": {},
   "source": [
    "k) `mapAddN :: Int -> [Int] -> [Int]`\n",
    "\n",
    "`mapAddN n xs` returns the result of adding `n` to all the elements of the list `xs`."
   ]
  },
  {
   "cell_type": "code",
   "execution_count": null,
   "metadata": {},
   "outputs": [],
   "source": [
    "mapAddN :: Int -> [Int] -> [Int]\n",
    "mapAddN = undefined"
   ]
  },
  {
   "cell_type": "markdown",
   "metadata": {},
   "source": [
    "Tests:"
   ]
  },
  {
   "cell_type": "code",
   "execution_count": null,
   "metadata": {},
   "outputs": [],
   "source": [
    "mapAddN 2 [] == []\n",
    "mapAddN 2 [3] == [5]\n",
    "mapAddN 3 [1,2] == [4,5]\n"
   ]
  },
  {
   "cell_type": "markdown",
   "metadata": {},
   "source": [
    "l) `mapTimesN::Int->[Int]->[Int]`\n",
    "\n",
    "`mapTimesN n xs` returns the result of multiplying all the elements of the list `xs` by `n`."
   ]
  },
  {
   "cell_type": "code",
   "execution_count": null,
   "metadata": {},
   "outputs": [],
   "source": [
    "mapTimesN::Int->[Int]->[Int]\n",
    "mapTimesN = undefined"
   ]
  },
  {
   "cell_type": "markdown",
   "metadata": {},
   "source": [
    "Tests:"
   ]
  },
  {
   "cell_type": "code",
   "execution_count": null,
   "metadata": {},
   "outputs": [],
   "source": [
    "mapTimesN 2 [] == []\n",
    "mapTimesN 2 [3] == [6]\n",
    "mapTimesN 3 [1,2] == [3,6]"
   ]
  },
  {
   "cell_type": "markdown",
   "metadata": {},
   "source": [
    "m) `mapEqualsN :: Int -> [Int] -> [Bool]`\n",
    "\n",
    "`mapEqualsN n xs` returns the list of Booleans resulting from comparing each element of the list `xs` to `n`."
   ]
  },
  {
   "cell_type": "code",
   "execution_count": null,
   "metadata": {},
   "outputs": [],
   "source": [
    "mapEqualsN :: Int -> [Int] -> [Bool]\n",
    "mapEqualsN = undefined"
   ]
  },
  {
   "cell_type": "markdown",
   "metadata": {},
   "source": [
    "Tests:"
   ]
  },
  {
   "cell_type": "code",
   "execution_count": null,
   "metadata": {},
   "outputs": [],
   "source": [
    "mapEqualsN 2 [] == []\n",
    "mapEqualsN 2 [3] == [False]\n",
    "mapEqualsN 2 [2] == [True]\n",
    "mapEqualsN 3 [1,2] == [False,False]\n",
    "mapEqualsN 2 [1,2,3,4,2,1] == [False,True,False,False,True,False]"
   ]
  },
  {
   "cell_type": "markdown",
   "metadata": {},
   "source": [
    "n) `filterGreaterThanN :: Int -> [Int] -> [Int]`\n",
    "\n",
    "`filterGreaterThanN n xs` returns the sublist of `xs` containing those elements greater than `n`."
   ]
  },
  {
   "cell_type": "code",
   "execution_count": null,
   "metadata": {},
   "outputs": [],
   "source": [
    "filterGreaterThanN :: Int -> [Int] -> [Int]\n",
    "filterGreaterThanN = undefined"
   ]
  },
  {
   "cell_type": "markdown",
   "metadata": {},
   "source": [
    "Tests:"
   ]
  },
  {
   "cell_type": "code",
   "execution_count": null,
   "metadata": {},
   "outputs": [],
   "source": [
    "filterGreaterThanN 2 [] == []\n",
    "filterGreaterThanN 2 [3] == [3]\n",
    "filterGreaterThanN 2 [4,2,3,1] == [4,3]"
   ]
  },
  {
   "cell_type": "markdown",
   "metadata": {},
   "source": [
    "o) `mapF::(a->b)->[a]->[b]`\n",
    "\n",
    "`mapF f xs` returns the list resulting from applying the function `f` to each element of the list `xs`."
   ]
  },
  {
   "cell_type": "code",
   "execution_count": null,
   "metadata": {},
   "outputs": [],
   "source": [
    "mapF::(a->b)->[a]->[b]\n",
    "mapF = undefined"
   ]
  },
  {
   "cell_type": "markdown",
   "metadata": {},
   "source": [
    "Tests:"
   ]
  },
  {
   "cell_type": "code",
   "execution_count": null,
   "metadata": {},
   "outputs": [],
   "source": [
    "mapF (+2) [] == []\n",
    "mapF (+2) [3] == [5]\n",
    "mapF (*3) [1,2] == [3,6]"
   ]
  },
  {
   "cell_type": "markdown",
   "metadata": {},
   "source": [
    "p) `filterP :: (a -> Bool) -> [a] -> [a]`\n",
    "\n",
    "`filterP p xs` returns the sublist of `xs` containing those elements `x` for which `p x` is `True`."
   ]
  },
  {
   "cell_type": "code",
   "execution_count": null,
   "metadata": {},
   "outputs": [],
   "source": [
    "filterP :: (a -> Bool) -> [a] -> [a]\n",
    "filterP = undefined"
   ]
  },
  {
   "cell_type": "markdown",
   "metadata": {},
   "source": [
    "Tests:"
   ]
  },
  {
   "cell_type": "code",
   "execution_count": null,
   "metadata": {},
   "outputs": [],
   "source": [
    "filterP even [] == []\n",
    "filterP even [3] == []\n",
    "filterP odd [3] == [3]\n",
    "filterP even [1..6] == [2,4,6]"
   ]
  },
  {
   "cell_type": "markdown",
   "metadata": {},
   "source": [
    "q) `anyP :: (a -> Bool) -> [a] -> Bool`\n",
    "\n",
    "`anyP p xs` returns `True` if some element of the list `xs` satisfies the predicate `p` and `False` otherwise."
   ]
  },
  {
   "cell_type": "code",
   "execution_count": null,
   "metadata": {},
   "outputs": [],
   "source": [
    "anyP :: (a -> Bool) -> [a] -> Bool\n",
    "anyP = undefined"
   ]
  },
  {
   "cell_type": "markdown",
   "metadata": {},
   "source": [
    "Tests:"
   ]
  },
  {
   "cell_type": "code",
   "execution_count": null,
   "metadata": {},
   "outputs": [],
   "source": [
    "anyP even [] == False\n",
    "anyP even [3] == False\n",
    "anyP odd [3] == True\n",
    "anyP odd [2,4,6] == False\n",
    "anyP even [1,2,3] == True"
   ]
  },
  {
   "cell_type": "markdown",
   "metadata": {},
   "source": [
    "## Task 3: Additional parameters (varying in the recursive call)"
   ]
  },
  {
   "cell_type": "markdown",
   "metadata": {},
   "source": [
    "Sometimes the functions take additional parameters, but the parameters in the\n",
    "recursive call many be different from those in the original call.\n",
    "\n",
    "`foo :: a -> [b] -> c\n",
    "foo a [] = ..\n",
    "foo a (b:bs) = .. (foo .. bs) ..`"
   ]
  },
  {
   "cell_type": "markdown",
   "metadata": {},
   "source": [
    "Example:"
   ]
  },
  {
   "cell_type": "code",
   "execution_count": null,
   "metadata": {},
   "outputs": [],
   "source": [
    "take’ :: Int -> [a] -> [a]\n",
    "-- take’ n xs takes the first n elements of xs\n",
    "take’ n [] = []\n",
    "take’ n (a:as) = if (n<=0) then [] else a:(take’ (n-1) as)"
   ]
  },
  {
   "cell_type": "markdown",
   "metadata": {},
   "source": [
    "In this example, the original call is `take' n ..` and the recursive call is `take' (n-1) ..` (we take one fewer elements because we've stepped one down the list). "
   ]
  },
  {
   "cell_type": "markdown",
   "metadata": {},
   "source": [
    "r) `drop’ :: Int -> [a] -> [a]`\n",
    "\n",
    "`drop’ n xs` drops the first `n` elements of `xs`"
   ]
  },
  {
   "cell_type": "code",
   "execution_count": null,
   "metadata": {},
   "outputs": [],
   "source": [
    "drop' :: Int -> [a] -> [a]\n",
    "drop' = undefined"
   ]
  },
  {
   "cell_type": "markdown",
   "metadata": {},
   "source": [
    "Tests:"
   ]
  },
  {
   "cell_type": "code",
   "execution_count": null,
   "metadata": {},
   "outputs": [],
   "source": [
    "drop’ 3 [] == []\n",
    "drop’ 0 [1] == [1]\n",
    "drop’ 2 [1..6] == [3,4,5,6]"
   ]
  },
  {
   "cell_type": "markdown",
   "metadata": {},
   "source": [
    "s) `takeWhile’ :: (a -> Bool) -> [a] -> [a]`\n",
    "\n",
    "`takeWhile’ p xs` takes elements from the list `xs` so long as they satisfy `p` (i.e. it takes an initial segment of `xs`, stopping when it encounters an element that does not satisfy `p`)."
   ]
  },
  {
   "cell_type": "code",
   "execution_count": null,
   "metadata": {},
   "outputs": [],
   "source": [
    "takeWhile’ :: (a -> Bool) -> [a] -> [a]\n",
    "takeWhile' = undefined"
   ]
  },
  {
   "cell_type": "markdown",
   "metadata": {},
   "source": [
    "Tests:"
   ]
  },
  {
   "cell_type": "code",
   "execution_count": null,
   "metadata": {},
   "outputs": [],
   "source": [
    "takeWhile’ even [] == []\n",
    "takeWhile’ even [1] == []\n",
    "takeWhile’ odd [1] == [1]\n",
    "takeWhile’ (<3) [1,2,3,4,0,1] == [1,2]"
   ]
  },
  {
   "cell_type": "markdown",
   "metadata": {},
   "source": [
    "t) `dropWhile’ :: (a -> Bool) -> [a] -> [a]`\n",
    "\n",
    "`dropWhile’ p xs` drops the initial elements of `xs` until it encounters an element not satisfying the predicate `p`."
   ]
  },
  {
   "cell_type": "code",
   "execution_count": null,
   "metadata": {},
   "outputs": [],
   "source": [
    "dropWhile’ :: (a -> Bool) -> [a] -> [a]\n",
    "dropWhile' = undefined"
   ]
  },
  {
   "cell_type": "markdown",
   "metadata": {},
   "source": [
    "Tests:"
   ]
  },
  {
   "cell_type": "code",
   "execution_count": null,
   "metadata": {},
   "outputs": [],
   "source": [
    "dropWhile’ even [] == []\n",
    "dropWhile’ even [1] == [1]\n",
    "dropWhile’ odd [1] == []\n",
    "dropWhile’ (<3) [1,2,3,4,0,1] == [3,4,0,1]"
   ]
  },
  {
   "cell_type": "markdown",
   "metadata": {},
   "source": [
    "u) `break’ :: (a -> Bool) -> [a] -> ([a],[a])`\n",
    "\n",
    "`break’ p xs` breaks the list `xs` at the first element that satis:ies `p` and returns the pair of lists consisting of the initial sublist of `xs` containing elements that do not satisfy `p`, and the rest of the list (including the first element that satisfies `p`."
   ]
  },
  {
   "cell_type": "code",
   "execution_count": null,
   "metadata": {},
   "outputs": [],
   "source": [
    "break’ :: (a -> Bool) -> [a] -> ([a],[a])\n",
    "break' = undefined"
   ]
  },
  {
   "cell_type": "markdown",
   "metadata": {},
   "source": [
    "Tests:"
   ]
  },
  {
   "cell_type": "code",
   "execution_count": null,
   "metadata": {},
   "outputs": [],
   "source": [
    "break’ even [] == ([],[])\n",
    "break’ even [1] == ([1],[])\n",
    "break’ odd [1] == ([],[])\n",
    "break’ (==‘c’) “abcdef == (“ab”,”cdef”)"
   ]
  },
  {
   "cell_type": "markdown",
   "metadata": {},
   "source": [
    "## Task 4: Structural recursion on trees."
   ]
  },
  {
   "cell_type": "markdown",
   "metadata": {},
   "source": [
    "We can use structural recursion on any (recursive) datatype. Take the example of this tree type:"
   ]
  },
  {
   "cell_type": "code",
   "execution_count": null,
   "metadata": {},
   "outputs": [],
   "source": [
    "data Tree = Empty | Leaf Int | Node Int Tree Tree\n",
    "  deriving (Eq, Show)"
   ]
  },
  {
   "cell_type": "markdown",
   "metadata": {},
   "source": [
    "A typical basic recursive function would be defined using the following\n",
    "pattern (mirroring the structure of the definition)\n",
    "\n",
    "`foo :: Tree -> ..\n",
    "foo Empty = ..\n",
    "foo (Leaf n) = .. n ..\n",
    "foo (Node n left right) = .. n .. (foo left) .. (foo right) ..`"
   ]
  },
  {
   "cell_type": "markdown",
   "metadata": {},
   "source": [
    "Example:"
   ]
  },
  {
   "cell_type": "code",
   "execution_count": null,
   "metadata": {},
   "outputs": [],
   "source": [
    "height :: Tree -> Int\n",
    "-- height t returns the length of the longest branch in t (not counting a final step to an Empty node)\n",
    "height Empty = 0\n",
    "height (Leaf n) = 1\n",
    "height (Node n left right) = 1 +  max (height left) (height right)"
   ]
  },
  {
   "cell_type": "markdown",
   "metadata": {},
   "source": [
    "v) `size :: Tree -> Int`\n",
    "\n",
    "`size t` returns the total number of Nodes and Leaves in the tree `t` (not counting Empty’s)"
   ]
  },
  {
   "cell_type": "code",
   "execution_count": null,
   "metadata": {},
   "outputs": [],
   "source": [
    "size :: Tree -> Int\n",
    "size = undefined"
   ]
  },
  {
   "cell_type": "markdown",
   "metadata": {},
   "source": [
    "Tests:"
   ]
  },
  {
   "cell_type": "code",
   "execution_count": null,
   "metadata": {},
   "outputs": [],
   "source": [
    "size Empty == 0\n",
    "size (Leaf 2) == 1\n",
    "size (Node 3 (Node 4 (Leaf 5) Empty) (Node 6 (Leaf 7) (Leaf 8))) == 6"
   ]
  },
  {
   "cell_type": "markdown",
   "metadata": {},
   "source": [
    "w) `frontier :: Tree -> [Int]`\n",
    "\n",
    "`frontier` returns the list of integers at the base of the tree (leaves) ordered from left to right."
   ]
  },
  {
   "cell_type": "code",
   "execution_count": null,
   "metadata": {},
   "outputs": [],
   "source": [
    "frontier :: Tree -> [Int]\n",
    "frontier = undefined"
   ]
  },
  {
   "cell_type": "markdown",
   "metadata": {},
   "source": [
    "Tests:"
   ]
  },
  {
   "cell_type": "code",
   "execution_count": null,
   "metadata": {},
   "outputs": [],
   "source": [
    "frontier Empty == []\n",
    "frontier (Leaf 2) == [2]\n",
    "frontier (Node 3 (Node 4 (Leaf 5) Empty) (Node 6 (Leaf 7) (Leaf 8))) == [5,7,8]"
   ]
  },
  {
   "cell_type": "markdown",
   "metadata": {},
   "source": [
    "x) `flatten :: Tree -> [Int]`\n",
    "\n",
    "`flatten t` returns the list of integers used as labels at leaves and nodes in left to right order."
   ]
  },
  {
   "cell_type": "code",
   "execution_count": null,
   "metadata": {},
   "outputs": [],
   "source": [
    "flatten :: Tree -> [Int]\n",
    "flatten = undefined"
   ]
  },
  {
   "cell_type": "markdown",
   "metadata": {},
   "source": [
    "Tests:"
   ]
  },
  {
   "cell_type": "code",
   "execution_count": null,
   "metadata": {},
   "outputs": [],
   "source": [
    "flatten Empty == []\n",
    "flatten (Leaf 2) == [2]\n",
    "flatten (Node 1 (Leaf 2) (Leaf 3)) == [2,1,3]\n",
    "flatten (Node 3 (Node 4 (Leaf 5) Empty) (Node 6 (Leaf 7) (Leaf 8))) ==\n",
    "  [5,4,7,6,8,3]"
   ]
  },
  {
   "cell_type": "markdown",
   "metadata": {},
   "source": [
    "y) `mapTree :: (Int -> Int) -> Tree -> Tree`\n",
    "\n",
    "`mapTree f t` returns a tree of the same shape as `t` in which all the labels have been changed by applying `f` to the original labels."
   ]
  },
  {
   "cell_type": "code",
   "execution_count": null,
   "metadata": {},
   "outputs": [],
   "source": [
    "mapTree :: (Int -> Int) -> Tree -> Tree\n",
    "mapTree = undefined"
   ]
  },
  {
   "cell_type": "markdown",
   "metadata": {},
   "source": [
    "Tests:"
   ]
  },
  {
   "cell_type": "code",
   "execution_count": null,
   "metadata": {
    "scrolled": true
   },
   "outputs": [],
   "source": [
    "mapTree (+10) Empty == Empty\n",
    "mapTree (+10) (Leaf 2) == Leaf 12\n",
    "mapTree (+10) (Node 1 (Leaf 2) (Leaf 3)) == (Node 11 (Leaf 12) (Leaf 13))\n",
    "mapTree (+10) (Node 3 (Node 4 (Leaf 5) Empty) (Node 6 (Leaf 7) (Leaf 8)))\n",
    "   == (Node 13 (Node 14 (Leaf 15) Empty) (Node 16 (Leaf 17) (Leaf 18)))"
   ]
  }
 ],
 "metadata": {
  "kernelspec": {
   "display_name": "Haskell",
   "language": "haskell",
   "name": "haskell"
  },
  "language_info": {
   "codemirror_mode": "ihaskell",
   "file_extension": ".hs",
   "name": "haskell",
   "pygments_lexer": "Haskell",
   "version": "8.6.5"
  }
 },
 "nbformat": 4,
 "nbformat_minor": 4
}
