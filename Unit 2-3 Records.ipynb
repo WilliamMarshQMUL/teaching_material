{
 "cells": [
  {
   "cell_type": "markdown",
   "metadata": {},
   "source": [
    "# Unit 2 Part 3: Records\n",
    "\n",
    "## Interactive Programming Exercises\n",
    "\n",
    "### Learning Outcomes\n",
    "\n",
    "- Create your own user-defined types\n",
    "- Write programs using records\n",
    "\n",
    "\n",
    "*This notebook looks at code fragments. After completing these exercises you MUST then go on to write full programs - see the programming exercises in the workbook.\n",
    "\n",
    "Answers to exercises are given at the end*\n"
   ]
  },
  {
   "cell_type": "markdown",
   "metadata": {},
   "source": [
    "## Refresher\n",
    "\n",
    "### Exercise 1\n",
    "\n",
    "Read the following code fragment and decide what you think it will do. Run it and see if you are right.\n",
    "Add the details of a second bird, the Red Kite, which has a wing span of 165cm and a length of 66cm and print them in the same format after the details of the first.\n",
    "\n",
    "**Write your explanation here**\n"
   ]
  },
  {
   "cell_type": "code",
   "execution_count": 5,
   "metadata": {},
   "outputs": [
    {
     "name": "stdout",
     "output_type": "stream",
     "text": [
      "The Laughing Kookaburra is of length 47cm\n",
      "and has a wing span of 307cm.\n"
     ]
    }
   ],
   "source": [
    "String albatross_name = \"Wandering Albatross\";\n",
    "int albatross_wing_span = 305;\n",
    "int albatross_length = 135;\n",
    "\n",
    "System.out.println(\"The \" + albatross_name + \" is of length \" + albatross_length + \"cm\");\n",
    "System.out.println(\"and has a wing span of \" + albatross_wing_span + \"cm.\");\n",
    "System.out.println();\n"
   ]
  },
  {
   "cell_type": "markdown",
   "metadata": {},
   "source": [
    "## Record Definitions\n",
    "We have seen that programming languages come with a set of pre-existing types to give the compiler and human readers more information. What if you want to create your own? That is where user-defined types come in. One kind involves creating what are called the records. They give a way to create new types from existing ones.\n",
    "\n",
    "Just as we thhink of a String as a single thing not just lots of characters, if we are writing a program for bird spotters it would be nice to think of a bird as a single thing: something with a name, a length and a wing span. It would be nice to be able to create a single variable that holds everything we want to know about each bird rather than having lots of variables to hold all the separate information about each one.\n",
    "\n",
    "A record is a new type made by grouping together existing types and giving each a field name.\n",
    "\n",
    "In Java you can create records and so your own types using the class mechanism (strictly there isn't a concept of record in Java as really they are the more powerful concept of object, but objects are beyond the scope of this module so we will stick to calling the records and use them as records). \n",
    "\n",
    "Before you can use a new record type you have to define the record - give it a name (what are you going to call the type) and say what its component types are (what one is made up of) and give each part a name (the field name)."
   ]
  },
  {
   "cell_type": "markdown",
   "metadata": {},
   "source": [
    "### Exercise 2\n",
    "\n",
    "Read the following code fragment and explain what you think it will do. What do you expect to happen when you run it? Run it and see if you are right."
   ]
  },
  {
   "cell_type": "markdown",
   "metadata": {},
   "source": [
    "\n",
    "**Double click then write your explanation here**\n"
   ]
  },
  {
   "cell_type": "code",
   "execution_count": 14,
   "metadata": {},
   "outputs": [],
   "source": [
    "class Bird\n",
    "{\n",
    "    String name;\n",
    "    int wing_span;\n",
    "    int length;\n",
    "}"
   ]
  },
  {
   "cell_type": "markdown",
   "metadata": {},
   "source": [
    "What it does is create a new type called Bird and defined a vaue of type Bird to be made up of a name, a wing span and a length. It does not do anything visible on its own. However, having defined it, you can now use the type Bird in the same way as you have used other types like String, int and double before. You can declare variables of type Bird, and store values in them."
   ]
  },
  {
   "cell_type": "markdown",
   "metadata": {},
   "source": [
    "### Exercise 3\n",
    "\n",
    "Read the following code fragment and explain what you think it will do (hint the first part is similar to something you have seen already). What do you expect to happen when you run it? Run it and see if you are right. It continues the above code so you must have run the above first to have created the type Bird.\n",
    "\n",
    "Declare another variable called kite to hold information about the Red Kite too."
   ]
  },
  {
   "cell_type": "markdown",
   "metadata": {},
   "source": [
    "\n",
    "**Double click then write your explanation here**\n"
   ]
  },
  {
   "cell_type": "code",
   "execution_count": 18,
   "metadata": {},
   "outputs": [],
   "source": [
    "Bird albatross = new Bird();\n",
    "\n",
    "// Declare a variable  to hold information about the Kite here."
   ]
  },
  {
   "cell_type": "markdown",
   "metadata": {},
   "source": [
    "Think of a record as being a box with multiple compartments (the fields). This command creates the outer box and calls it albatross. All the inner compartments are just part of albatross. The compartments have names too but those names are always taken from the fields declared in the original record declaration. The whole variable is called albatross. It's fields are automatically created and called albatross.name, albatross.wing_span and albatross.length.\n",
    "\n",
    "If we made another  delcaration\n",
    "```java\n",
    "Bird robin = new Bird();\n",
    "```\n",
    "then we have automatically created the variable robin with fields (so sub-compartments) robin.name, robin.wing_span and robin.length\n",
    "\n",
    "There is a difference here to other variables we've seen. When you create a new variable we have to link it to space in memory to store the values (the actual creation of the storage box of the right size and shape). This is done by \n",
    "```java\n",
    "new Bird();\n",
    "```\n",
    "You MUST always do that (putting in the name of the record type) to allocate space in memory or you will get \"null pointer\" error messages.\n",
    "\n",
    "To store values in a record variable and to get the values out, we just use the name of the variable as with any other variable. However we need to also say which field we are interested in. The name of any specific field is just the variable name a dot and the field name eg albatross.name. "
   ]
  },
  {
   "cell_type": "markdown",
   "metadata": {},
   "source": [
    "### Exercise 4\n",
    "\n",
    "The following continues the above code so you must have run the above first. Make sure you understand it. Run it to make sure it does as you expect. Notice we only declared ONE variable, but in doing so get the separate fields as defined in the type definition for free.\n",
    "\n",
    "Explain line by line what it does."
   ]
  },
  {
   "cell_type": "markdown",
   "metadata": {},
   "source": [
    "\n",
    "**Double click then write your explanation here**\n"
   ]
  },
  {
   "cell_type": "code",
   "execution_count": 20,
   "metadata": {},
   "outputs": [
    {
     "name": "stdout",
     "output_type": "stream",
     "text": [
      "The Wandering Albatross is of length 135cm\n",
      "and has a wing span of 305cm.\n"
     ]
    }
   ],
   "source": [
    "albatross.name = \"Wandering Albatross\";\n",
    "albatross.wing_span = 305;\n",
    "albatross.length = 135;\n",
    "\n",
    "System.out.println(\"The \" + albatross.name + \" is of length \" + albatross.length + \"cm\");\n",
    "System.out.println(\"and has a wing span of \" + albatross.wing_span + \"cm.\");\n"
   ]
  },
  {
   "cell_type": "markdown",
   "metadata": {},
   "source": [
    "## Just doing the same thing in a different way\n",
    "\n",
    "This is just a different way to do what we were doing in the original code of Exercise 1. However it is more convenient as we now only have one variable for each bird instead of several. We are now keeping all the information about one bird together in one place, so mix-ups when we code are less likely. As our records get bigger with more fields this becomes even more important. It also lays the ground work for some even more elegant things we can do as we will see in later units."
   ]
  },
  {
   "cell_type": "markdown",
   "metadata": {},
   "source": [
    "### Exercise 5\n",
    "\n",
    "Extend the above code to store and then print the details of the Red Kite in the same format. The Red Kite has a wing span of 165cm and length of 66cm."
   ]
  },
  {
   "cell_type": "code",
   "execution_count": null,
   "metadata": {},
   "outputs": [],
   "source": [
    "// Store information about the Kite then print it.\n"
   ]
  },
  {
   "cell_type": "markdown",
   "metadata": {},
   "source": [
    "### Exercise 6\n",
    "\n",
    "We will now put it all together.\n",
    "\n",
    "Modify the Bird type below to now include an additional field of colour. The Albatross is \"white with black wing tips\". Have it print details of the colour too.\n",
    "\n",
    "Note there is one subtle difference between this and a full program to bear in mind. In a full program the new class definition has to be outside the class definition holding our methods."
   ]
  },
  {
   "cell_type": "code",
   "execution_count": 28,
   "metadata": {},
   "outputs": [
    {
     "name": "stdout",
     "output_type": "stream",
     "text": [
      "The Wandering Albatross is of length 135cm\n",
      "and has a wing span of 305cm.\n"
     ]
    }
   ],
   "source": [
    "// Create a new type Bird to hold details of different birds.\n",
    "//\n",
    "class Bird\n",
    "{\n",
    "    String name;\n",
    "    int wing_span;\n",
    "    int length;\n",
    "}\n",
    "\n",
    "\n",
    "// Create some example birds and print the details stored about them.\n",
    "//\n",
    "public static void birdDetails()\n",
    "{\n",
    "    Bird albatross = new Bird();\n",
    "        \n",
    "    albatross.name = \"Wandering Albatross\";\n",
    "    albatross.wing_span = 305;\n",
    "    albatross.length = 135;\n",
    "     \n",
    "    \n",
    "    System.out.println(\"The \" + albatross.name + \" is of length \" + albatross.length + \"cm\");\n",
    "    System.out.println(\"and has a wing span of \" + albatross.wing_span + \"cm.\");\n",
    "    System.out.println();\n",
    "\n",
    "    return;\n",
    "}\n",
    "\n",
    "birdDetails()"
   ]
  },
  {
   "cell_type": "markdown",
   "metadata": {},
   "source": [
    "### Exercise 7\n",
    "\n",
    "Cut and paste your code from exercise 6 below then update the code to print all the information about the kite too. The Kite is \"rust red\".\n"
   ]
  },
  {
   "cell_type": "code",
   "execution_count": 27,
   "metadata": {},
   "outputs": [
    {
     "name": "stdout",
     "output_type": "stream",
     "text": [
      "The Wandering Albatross is of length 135cm\n",
      "and has a wing span of 305cm.\n",
      "and has a length of 135cm.\n"
     ]
    }
   ],
   "source": []
  },
  {
   "cell_type": "markdown",
   "metadata": {},
   "source": [
    "### Procedures and Records\n",
    "\n",
    "Whenever we seem to be writing the same code out multiple times, it is time to think of generalising the code. Can we write a procedure that packages up what we are doing, so we can write the code once in a procedure and then call it when needed. \n",
    "\n",
    "There is an opportunity (or two here). We are writing the same code for printing the details of a bird, whether kite, albatross or something else. The only thing that changes is which bird (and so which variable of type Bird) we want to print the details of."
   ]
  },
  {
   "cell_type": "markdown",
   "metadata": {},
   "source": [
    "### Exercise 8\n",
    "\n",
    "Read the following code and predict what it will do. Run it then explain what it does.\n"
   ]
  },
  {
   "cell_type": "markdown",
   "metadata": {},
   "source": [
    "\n",
    "**Double click then write your explanation here**\n"
   ]
  },
  {
   "cell_type": "code",
   "execution_count": 36,
   "metadata": {},
   "outputs": [
    {
     "name": "stdout",
     "output_type": "stream",
     "text": [
      "The Wandering Albatross is of length 135cm\n",
      "and has a wing span of 305cm.\n",
      "It is coloured white with black wing tips.\n",
      "\n"
     ]
    }
   ],
   "source": [
    "public static void printBirdDetails(Bird b)\n",
    "{\n",
    "    System.out.println(\"The \" + b.name + \" is of length \" + b.length + \"cm\");\n",
    "    System.out.println(\"and has a wing span of \" + b.wing_span + \"cm.\");\n",
    "    System.out.println(\"It is coloured \" + b.colour + \".\");\n",
    "    System.out.println();\n",
    "\n",
    "    return;\n",
    "}\n",
    "\n",
    "// Create some example birds and print the details stored about them.\n",
    "//\n",
    "public static void birdDetails()\n",
    "{\n",
    "    Bird albatross = new Bird();\n",
    "        \n",
    "    albatross.name = \"Wandering Albatross\";\n",
    "    albatross.wing_span = 305;\n",
    "    albatross.length = 135;\n",
    "    albatross.colour = \"white with black wing tips\";\n",
    "     \n",
    "    \n",
    "    printBirdDetails(albatross);\n",
    "\n",
    "    return;\n",
    "}\n",
    "\n",
    "birdDetails();\n"
   ]
  },
  {
   "cell_type": "markdown",
   "metadata": {},
   "source": [
    "### Exercise 9\n",
    "\n",
    "Modify the code below to include details of the Red Kite as before (cut and paste your previous code into the method) then print the details by calling the printBirdDetails method.\n"
   ]
  },
  {
   "cell_type": "code",
   "execution_count": null,
   "metadata": {},
   "outputs": [],
   "source": [
    "// Print the details of a bird in a consistent form\n",
    "//\n",
    "public static void printBirdDetails(Bird b)\n",
    "{\n",
    "    System.out.println(\"The \" + b.name + \" is of length \" + b.length + \"cm\");\n",
    "    System.out.println(\"and has a wing span of \" + b.wing_span + \"cm.\");\n",
    "    System.out.println(\"It is coloured \" + b.colour + \".\");\n",
    "    System.out.println();\n",
    "\n",
    "    return;\n",
    "}\n",
    "\n",
    "// Create some example birds and print the details stored about them.\n",
    "//\n",
    "public static void birdDetails()\n",
    "{\n",
    "    Bird albatross = new Bird();\n",
    "        \n",
    "    albatross.name = \"Wandering Albatross\";\n",
    "    albatross.wing_span = 305;\n",
    "    albatross.length = 135;\n",
    "    albatross.colour = \"white with black wing tips\";\n",
    "     \n",
    "    \n",
    "    printBirdDetails(albatross);\n",
    "\n",
    "    return;\n",
    "}\n",
    "\n",
    "birdDetails();\n"
   ]
  },
  {
   "cell_type": "markdown",
   "metadata": {},
   "source": [
    "The advantage of using procedures like this is that\n",
    "\n",
    "- we only write the code once not every time we print out the details of a bird\n",
    "\n",
    "- once written we don't have to worry about how it works, just what it is called and what it does\n",
    "\n",
    "- we ensure consistency. Every time we print details of a bird they use the same format\n",
    "\n",
    "- to change the way we print the details we only have to change it on one place and can be sure it is changed consistently everywhere.\n"
   ]
  },
  {
   "cell_type": "markdown",
   "metadata": {},
   "source": [
    "### Exercise 10\n",
    "\n",
    "We can do a similar thing with setting up a record and storing values too building it all into one procedure.\n",
    "\n",
    "Run the following code and then see if you can work out what it does and how and so explain the code.\n"
   ]
  },
  {
   "cell_type": "markdown",
   "metadata": {},
   "source": [
    "\n",
    "**Double click then write your explanation here**\n"
   ]
  },
  {
   "cell_type": "code",
   "execution_count": 39,
   "metadata": {},
   "outputs": [
    {
     "name": "stdout",
     "output_type": "stream",
     "text": [
      "The Wandering Albatross is of length 135cm\n",
      "and has a wing span of 305cm.\n",
      "It is coloured white with black wing tips.\n",
      "\n"
     ]
    }
   ],
   "source": [
    "// Create a bird record b and set the fields with the given values, returning the completed record value\n",
    "//\n",
    "public static Bird createBird(String given_name, int given_wing_span, int given_length, String given_colour)\n",
    "{\n",
    "    Bird b = new Bird();\n",
    "        \n",
    "    b.name = given_name;\n",
    "    b.wing_span = given_wing_span;\n",
    "    b.length = given_length;\n",
    "    b.colour = given_colour;\n",
    "\n",
    "    return b;\n",
    "}\n",
    "\n",
    "// Create some example birds and print the details stored about them.\n",
    "//\n",
    "public static void birdDetails()\n",
    "{\n",
    "    Bird albatross = createBird(\"Wandering Albatross\", 305, 135, \"white with black wing tips\");     \n",
    "    \n",
    "    printBirdDetails(albatross);\n",
    "\n",
    "    return;\n",
    "}\n",
    "\n",
    "birdDetails();\n"
   ]
  },
  {
   "cell_type": "markdown",
   "metadata": {},
   "source": [
    "### Exercise 11\n",
    "\n",
    "Modify the method  birdDetails to include creating and printing the details of the kite. This can now be done by just adding two lines of code: one to create the record and one to print it."
   ]
  },
  {
   "cell_type": "code",
   "execution_count": null,
   "metadata": {},
   "outputs": [],
   "source": [
    "// Create some example birds and print the details stored about them.\n",
    "//\n",
    "public static void birdDetails()\n",
    "{\n",
    "    Bird albatross = createBird(\"Wandering Albatross\", 305, 135, \"white with black wing tips\");     \n",
    "    \n",
    "    printBirdDetails(albatross);\n",
    "\n",
    "    return;\n",
    "}\n",
    "\n",
    "birdDetails();\n"
   ]
  },
  {
   "cell_type": "markdown",
   "metadata": {},
   "source": [
    "## Putting it all together into a program\n",
    "\n",
    "The really important thing to realise when writing full code is that the record definition (starting class) is not inside the class representing the program but outside it as below. \n",
    "\n",
    "Notice how one class follows the other (the order doesn't matter) and in particular that the close curly bracket of the first ends it before the next class starts. Notice also how ALL the methods are in the same class as main. The record definition does not contain any methods.\n",
    "\n",
    "Cut and paste this program into an editor, save it as a Java file called factsaboutbirds.java then compile and run it."
   ]
  },
  {
   "cell_type": "code",
   "execution_count": null,
   "metadata": {},
   "outputs": [],
   "source": [
    "/* *****************************************\n",
    "@author Paul Curzon\n",
    "@version 1\n",
    "@date 27 July 2020\n",
    "\n",
    "    A program to illustrate Simple use of records \n",
    "    including use of procedures and functions.\n",
    "\n",
    "    Store details about birds and then print them in a consistent format.\n",
    "******************************************** */\n",
    "\n",
    "\n",
    "// Create a new type Bird to hold details of different birds.\n",
    "//\n",
    "class Bird\n",
    "{\n",
    "    String name;\n",
    "    int wing_span;\n",
    "    int length;\n",
    "    String colour;\n",
    "}\n",
    "\n",
    "\n",
    "// Store details about different birds and then print them in a consistent way.\n",
    "// \n",
    "class factsaboutbirds\n",
    "{\n",
    "    public static void main(String[] p)\n",
    "    {\n",
    "\n",
    "        birdDetails();\n",
    "        \n",
    "        System.exit(0);\n",
    "    }\n",
    "\n",
    "    // Create some example birds and print the details stored about them.\n",
    "    //\n",
    "    public static void birdDetails()\n",
    "    {\n",
    "        Bird albatross = createBird(\"Wandering Albatross\", 305, 135, \"white with black wing tips\");     \n",
    "        Bird kite = createBird(\"Red Kite\", 165, 66, \"rust red\");\n",
    "                \n",
    "        printBirdDetails(albatross);\n",
    "        printBirdDetails(kite);\n",
    "\n",
    "        return;\n",
    "    }\n",
    "    \n",
    "    // Print all the known details about a Bird given a Bird record.\n",
    "    //    \n",
    "    public static void printBirdDetails(Bird b)\n",
    "    {\n",
    "        System.out.println(\"The \" + b.name + \" is of length \" + b.length + \"cm\");\n",
    "        System.out.println(\"and has a wing span of \" + b.wing_span + \"cm.\");\n",
    "        System.out.println(\"It is coloured \" + b.colour + \".\");\n",
    "        System.out.println();\n",
    "\n",
    "        return;\n",
    "    }\n",
    "\n",
    "    // Create a bird record b and set the fields with the given values, returning the completed record value\n",
    "    //\n",
    "    public static Bird createBird(String given_name, int given_wing_span, int given_length, String given_colour)\n",
    "    {\n",
    "        Bird b = new Bird();\n",
    "        \n",
    "        b.name = given_name;\n",
    "        b.wing_span = given_wing_span;\n",
    "        b.length = given_length;\n",
    "        b.colour = given_colour;\n",
    "\n",
    "        return b;\n",
    "    }\n",
    "\n",
    "}"
   ]
  },
  {
   "cell_type": "markdown",
   "metadata": {},
   "source": [
    "*Once you have done the above exercises (and understand how the concepts work) move on to doing the actual programming exercises from the handbook, writing full programs. You must be able to write full programs, not just fragments.*"
   ]
  },
  {
   "cell_type": "markdown",
   "metadata": {},
   "source": [
    "## Solutions\n",
    "\n",
    "### Exercise 1\n",
    "\n",
    "```java\n",
    "String albatross_name = \"Wandering Albatross\";\n",
    "int albatross_wing_span = 305;\n",
    "int albatross_length = 135;\n",
    "\n",
    "String kite_name = \"Red Kite\";\n",
    "int kite_wing_span = 165;\n",
    "int kite_length = 66;\n",
    "\n",
    "System.out.println(\"The \" + albatross_name + \" is of length \" + albatross_length + \"cm\");\n",
    "System.out.println(\"and has a wing span of \" + albatross_wing_span + \"cm.\");\n",
    "System.out.println();\n",
    "System.out.println(\"The \" + kite_name + \" is of length \" + kite_length + \"cm\");\n",
    "System.out.println(\"and has a wing span of \" + kite_wing_span + \"cm.\");\n",
    "```\n",
    "### Exercise 2\n",
    "\n",
    "Nothing visible happens when you run it, but behind the scenes it has created a new type called Bird. This means the program can use that type just as it uses other types like int or String to declare variables of the type. It has in effect stored a template or blueprint of what a value of type Bird is like - it consists of a String and two ints package together into a single value. The string is refered to as 'name', and the integeers as 'length' and 'wing_span'\n",
    "\n",
    "### Exercise 3\n",
    "It creates a new variable of type Bird called albatross.\n",
    "\n",
    "The following creates a different variable of tyoe Bird called redkite\n",
    "```java\n",
    "Bird kite = new Bird();\n",
    "```\n",
    "\n",
    "At the moment they are empty shells - they hold no information about the bird in question yet.\n",
    "\n",
    "\n",
    "### Exercise 4\n",
    "\n",
    "It first stores the string \"Wandering Albatross\" in the name field of variable albatross (ie in albatross.name).\n",
    "It then stores the integer 305 into the field wing_span and then 135 into the field length of variable albatross.\n",
    "\n",
    "FInally it prints out the details, pulling out the name, length and wing span when needed (using eg albatross.name to get the value stored in the name field) combining them into a string sentence printed about the Albatross based on the information stored.\n",
    "\n",
    "\n",
    "### Exercise 5\n",
    "```java\n",
    "kite.name = \"Red Kite\";\n",
    "kite.wing_span = 165;\n",
    "kite.length = 66;\n",
    "\n",
    "System.out.println(\"The \" + kite.name + \" is of length \" + kite.length + \"cm\");\n",
    "System.out.println(\"and has a wing span of \" + kite.wing_span + \"cm.\");\n",
    "```\n",
    "\n",
    "### Exercise 6\n",
    "```java\n",
    "// Create a new type Bird to hold details of different birds.\n",
    "//\n",
    "class Bird\n",
    "{\n",
    "    String name;\n",
    "    int wing_span;\n",
    "    int length;\n",
    "    String colour;\n",
    "}\n",
    "\n",
    "\n",
    "// Create some example birds and print the details stored about them.\n",
    "//\n",
    "public static void birdDetails()\n",
    "{\n",
    "    Bird albatross = new Bird();\n",
    "        \n",
    "    albatross.name = \"Wandering Albatross\";\n",
    "    albatross.wing_span = 305;\n",
    "    albatross.length = 135;\n",
    "    albatross.colour = \"white with black wing tips\";\n",
    "     \n",
    "    \n",
    "    System.out.println(\"The \" + albatross.name + \" is of length \" + albatross.length + \"cm\");\n",
    "    System.out.println(\"and has a wing span of \" + albatross.wing_span + \"cm.\");\n",
    "    System.out.println(\"It is coloured \" + albatross.colour + \".\");\n",
    "    System.out.println();\n",
    "\n",
    "    return;\n",
    "}\n",
    "\n",
    "birdDetails()\n",
    "```\n",
    "\n",
    "\n",
    "### Exercise 7\n",
    "```java\n",
    "// Create a new type Bird to hold details of different birds.\n",
    "//\n",
    "class Bird\n",
    "{\n",
    "    String name;\n",
    "    int wing_span;\n",
    "    int length;\n",
    "    String colour;\n",
    "}\n",
    "\n",
    "\n",
    "// Create some example birds and print the details stored about them.\n",
    "//\n",
    "public static void birdDetails()\n",
    "{\n",
    "    Bird albatross = new Bird();\n",
    "    Bird kite = new Bird();\n",
    "    \n",
    "    // STORE DETAILS OF ALBATROSS\n",
    "    //\n",
    "    albatross.name = \"Wandering Albatross\";\n",
    "    albatross.wing_span = 305;\n",
    "    albatross.length = 135;\n",
    "    albatross.colour = \"white with black wing tips\";\n",
    "\n",
    "    // STORE DETAILS OF KITE\n",
    "    //\n",
    "    kite.name = \"Red Kite\";\n",
    "    kite.wing_span = 165;\n",
    "    kite.length = 66;\n",
    "    kite.colour = \"rust red\";\n",
    "\n",
    "    // PRINT DETAILS OF ALBATROSS\n",
    "    //\n",
    "    System.out.println(\"The \" + albatross.name + \" is of length \" + albatross.length + \"cm\");\n",
    "    System.out.println(\"and has a wing span of \" + albatross.wing_span + \"cm.\");\n",
    "    System.out.println(\"It is coloured \" + albatross.colour + \".\");\n",
    "    System.out.println();\n",
    "\n",
    "    // PRINT DETAILS OF KITE\n",
    "    //\n",
    "    System.out.println(\"The \" + kite.name + \" is of length \" + kite.length + \"cm\");\n",
    "    System.out.println(\"and has a wing span of \" + kite.wing_span + \"cm.\");\n",
    "    System.out.println(\"It is coloured \" + kite.colour + \".\");\n",
    "\n",
    "\n",
    "    return;\n",
    "}\n",
    "\n",
    "birdDetails()\n",
    "```\n",
    "\n",
    "### Exercise 8\n",
    "\n",
    "The code as a whole first calls method birdDetails. It creates a new bird record to hold data about the albatross and then stores the relevant facts (name, wing-span, length and colour) by assigning directly to the fields. It then calls the method printBirdDetails to print all the details known in sentences. It is passed the whole record which it locally refers to as b (because it could be passed any record so each record it is passed will have a different nam, whatever it is passed it locally renames it and then refers to the record by that name). It pulls out the values from each individual field when needed to insert into the sentences printed. It then returns back to method birdDetails which immediately finishes itself.\n",
    "\n",
    "Note that all this assumes the Bird type has been previously defined.\n",
    "\n",
    "\n",
    "### Exercise 9\n",
    "\n",
    "```java\n",
    "// Print the details of a bird in a consistent form\n",
    "//\n",
    "public static void printBirdDetails(Bird b)\n",
    "{\n",
    "    System.out.println(\"The \" + b.name + \" is of length \" + b.length + \"cm\");\n",
    "    System.out.println(\"and has a wing span of \" + b.wing_span + \"cm.\");\n",
    "    System.out.println(\"It is coloured \" + b.colour + \".\");\n",
    "    System.out.println();\n",
    "\n",
    "    return;\n",
    "}\n",
    "\n",
    "// Create some example birds and print the details stored about them.\n",
    "//\n",
    "public static void birdDetails()\n",
    "{\n",
    "    Bird albatross = new Bird();\n",
    "    Bird kite = new Bird();\n",
    "        \n",
    "    albatross.name = \"Wandering Albatross\";\n",
    "    albatross.wing_span = 305;\n",
    "    albatross.length = 135;\n",
    "    albatross.colour = \"white with black wing tips\";\n",
    "     \n",
    "    kite.name = \"Red Kite\";\n",
    "    kite.wing_span = 165;\n",
    "    kite.length = 66;\n",
    "    kite.colour = \"rust red\";\n",
    "    \n",
    "    printBirdDetails(albatross);\n",
    "    printBirdDetails(kite);\n",
    "\n",
    "    return;\n",
    "}\n",
    "\n",
    "birdDetails();\n",
    "```\n",
    "\n",
    "### Exercise 10\n",
    "\n",
    "This does the same as the previous one, the difference is that instead of calling new Bird() separately from filling the record, it is done together in the method createBird. This method is given as arguments the values to go in the separate fields. These are locally named as given_name, given_wing_span etc. The method just creates the new bird (which it gives the local name b to) and then sets the appropriate value in each field. Finally it returns the record value stored in b.\n",
    "\n",
    "The call passes the information about the bird as the values in the brackets of the call. When the record value is returned it is immediately stored into the Bird variable albatross, and then the value in that variable is passed on to the method printBordDetails to print.\n",
    "\n",
    "\n",
    "// Create a bird record b and set the fields with the given values, returning the completed record value\n",
    "//\n",
    "public static Bird createBird(String given_name, int given_wing_span, int given_length, String given_colour)\n",
    "{\n",
    "    Bird b = new Bird();\n",
    "        \n",
    "    b.name = given_name;\n",
    "    b.wing_span = given_wing_span;\n",
    "    b.length = given_length;\n",
    "    b.colour = given_colour;\n",
    "\n",
    "    return b;\n",
    "}\n",
    "\n",
    "// Create some example birds and print the details stored about them.\n",
    "//\n",
    "public static void birdDetails()\n",
    "{\n",
    "    Bird albatross = createBird(\"Wandering Albatross\", 305, 135, \"white with black wing tips\");     \n",
    "    \n",
    "    printBirdDetails(albatross);\n",
    "\n",
    "    return;\n",
    "}\n",
    "\n",
    "birdDetails();\n",
    "\n",
    "\n",
    "### Exercise 11\n",
    "\n",
    "```java\n",
    "// Create some example birds and print the details stored about them.\n",
    "//\n",
    "public static void birdDetails()\n",
    "{\n",
    "    Bird albatross = createBird(\"Wandering Albatross\", 305, 135, \"white with black wing tips\");     \n",
    "    Bird kite = createBird(\"Red Kite\", 165, 66, \"rust red\");     \n",
    "    \n",
    "    printBirdDetails(albatross);\n",
    "    printBirdDetails(kite);\n",
    "\n",
    "    return;\n",
    "}\n",
    "\n",
    "birdDetails();\n",
    "```\n",
    "\n"
   ]
  },
  {
   "cell_type": "code",
   "execution_count": null,
   "metadata": {},
   "outputs": [],
   "source": []
  }
 ],
 "metadata": {
  "kernelspec": {
   "display_name": "Java",
   "language": "java",
   "name": "java"
  },
  "language_info": {
   "codemirror_mode": "java",
   "file_extension": ".jshell",
   "mimetype": "text/x-java-source",
   "name": "Java",
   "pygments_lexer": "java",
   "version": "11.0.4+11-LTS"
  }
 },
 "nbformat": 4,
 "nbformat_minor": 2
}
